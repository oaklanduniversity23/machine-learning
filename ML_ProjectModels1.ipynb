{
  "cells": [
    {
      "cell_type": "markdown",
      "id": "sx5IRJoTPW1B",
      "metadata": {
        "id": "sx5IRJoTPW1B"
      },
      "source": [
        "Note:\n",
        "Handling Imbalanced Dataset without SMOTE using multiple Algorithms and hyper parameter tuning with grid search and random search\n",
        "Handling Imbalanced Dataset with SMOTE using multiple Algorithms and hyper parameter tuning with grid search and random search\n",
        "\n",
        "\n"
      ]
    },
    {
      "cell_type": "markdown",
      "source": [
        "This file covers following models :\n",
        "1.   Perceptron\n",
        "2.   Support Vector Machine\n",
        "3.   Decision Tree\n",
        "4.   Random Forest\n",
        "\n"
      ],
      "metadata": {
        "id": "1TkzM8yI18o5"
      },
      "id": "1TkzM8yI18o5"
    },
    {
      "cell_type": "markdown",
      "source": [
        "##Import Dependencies"
      ],
      "metadata": {
        "id": "x5eRiy6pqzNY"
      },
      "id": "x5eRiy6pqzNY"
    },
    {
      "cell_type": "code",
      "execution_count": null,
      "id": "IegcqLNzPW1E",
      "metadata": {
        "id": "IegcqLNzPW1E"
      },
      "outputs": [],
      "source": [
        "import numpy as np\n",
        "import pandas as pd\n",
        "import matplotlib.pyplot as plt\n",
        "import seaborn as sns\n",
        "from sklearn.datasets import make_classification\n",
        "from sklearn.model_selection import train_test_split\n",
        "from sklearn.svm import SVC\n",
        "from sklearn.tree import DecisionTreeClassifier\n",
        "from sklearn.linear_model import Perceptron\n",
        "from sklearn.metrics import classification_report\n",
        "from imblearn.over_sampling import SMOTE\n",
        "from sklearn.ensemble import RandomForestClassifier\n",
        "from sklearn.model_selection import cross_val_score, GridSearchCV, RandomizedSearchCV\n",
        "from sklearn.metrics import accuracy_score, precision_score, recall_score, f1_score, confusion_matrix\n",
        "\n"
      ]
    },
    {
      "cell_type": "markdown",
      "source": [
        "##Data Preparartion"
      ],
      "metadata": {
        "id": "xAqa23asrAAU"
      },
      "id": "xAqa23asrAAU"
    },
    {
      "cell_type": "code",
      "execution_count": null,
      "id": "Xyb-OGenPW1F",
      "metadata": {
        "colab": {
          "base_uri": "https://localhost:8080/"
        },
        "id": "Xyb-OGenPW1F",
        "outputId": "65e06df0-0917-421b-bc87-01fa23ebe117"
      },
      "outputs": [
        {
          "output_type": "stream",
          "name": "stdout",
          "text": [
            "  A1     A2     A3 A4 A5 A6 A7    A8 A9 A10  A11 A12 A13    A14  A15 Class\n",
            "0  b  30.83  0.000  u  g  w  v  1.25  t   t    1   f   g  202.0    0     +\n",
            "1  a  58.67  4.460  u  g  q  h  3.04  t   t    6   f   g   43.0  560     +\n",
            "2  a  24.50  0.500  u  g  q  h  1.50  t   f    0   f   g  280.0  824     +\n",
            "3  b  27.83  1.540  u  g  w  v  3.75  t   t    5   t   g  100.0    3     +\n",
            "4  b  20.17  5.625  u  g  w  v  1.71  t   f    0   f   s  120.0    0     +\n"
          ]
        },
        {
          "output_type": "execute_result",
          "data": {
            "text/plain": [
              "(653, 16)"
            ]
          },
          "metadata": {},
          "execution_count": 3
        }
      ],
      "source": [
        "file = \"crx.data\"\n",
        "column_names = ['A1', 'A2', 'A3', 'A4', 'A5', 'A6', 'A7', 'A8', 'A9', 'A10', 'A11', 'A12', 'A13', 'A14', 'A15', 'Class']\n",
        "data = pd.read_csv(file, names=column_names, sep=',', na_values='?')\n",
        "data = data.replace('?', np.nan)\n",
        "data.dropna(inplace=True)\n",
        "#data.drop_duplicates(inplace=True)\n",
        "print(data.head())\n",
        "# print(data.columns)\n",
        "data.shape\n"
      ]
    },
    {
      "cell_type": "code",
      "source": [
        "from os import replace\n",
        "# Separate features and target\n",
        "replace_map = {'+': 1, '-': 0}\n",
        "data['Class'] = data['Class'].replace(replace_map)"
      ],
      "metadata": {
        "colab": {
          "base_uri": "https://localhost:8080/"
        },
        "id": "-pZczfAYBkA7",
        "outputId": "3cc27573-90be-45e4-fdbc-b81409608f6a"
      },
      "id": "-pZczfAYBkA7",
      "execution_count": null,
      "outputs": [
        {
          "output_type": "stream",
          "name": "stderr",
          "text": [
            "<ipython-input-4-6a55f5a09167>:4: FutureWarning: Downcasting behavior in `replace` is deprecated and will be removed in a future version. To retain the old behavior, explicitly call `result.infer_objects(copy=False)`. To opt-in to the future behavior, set `pd.set_option('future.no_silent_downcasting', True)`\n",
            "  data['Class'] = data['Class'].replace(replace_map)\n"
          ]
        }
      ]
    },
    {
      "cell_type": "code",
      "source": [
        "data.info()"
      ],
      "metadata": {
        "colab": {
          "base_uri": "https://localhost:8080/"
        },
        "id": "OLcBlNfe427a",
        "outputId": "d1ec599f-c5e8-4813-f350-8cc73aa447ab"
      },
      "id": "OLcBlNfe427a",
      "execution_count": null,
      "outputs": [
        {
          "output_type": "stream",
          "name": "stdout",
          "text": [
            "<class 'pandas.core.frame.DataFrame'>\n",
            "Index: 653 entries, 0 to 689\n",
            "Data columns (total 16 columns):\n",
            " #   Column  Non-Null Count  Dtype  \n",
            "---  ------  --------------  -----  \n",
            " 0   A1      653 non-null    object \n",
            " 1   A2      653 non-null    float64\n",
            " 2   A3      653 non-null    float64\n",
            " 3   A4      653 non-null    object \n",
            " 4   A5      653 non-null    object \n",
            " 5   A6      653 non-null    object \n",
            " 6   A7      653 non-null    object \n",
            " 7   A8      653 non-null    float64\n",
            " 8   A9      653 non-null    object \n",
            " 9   A10     653 non-null    object \n",
            " 10  A11     653 non-null    int64  \n",
            " 11  A12     653 non-null    object \n",
            " 12  A13     653 non-null    object \n",
            " 13  A14     653 non-null    float64\n",
            " 14  A15     653 non-null    int64  \n",
            " 15  Class   653 non-null    int64  \n",
            "dtypes: float64(4), int64(3), object(9)\n",
            "memory usage: 86.7+ KB\n"
          ]
        }
      ]
    },
    {
      "cell_type": "code",
      "execution_count": null,
      "id": "2ab0301c-60a1-4b1b-946e-26d36ec19fc1",
      "metadata": {
        "colab": {
          "base_uri": "https://localhost:8080/",
          "height": 206
        },
        "id": "2ab0301c-60a1-4b1b-946e-26d36ec19fc1",
        "outputId": "e85e5b2a-d7f3-48d2-cbc0-b8b4514cf7b3"
      },
      "outputs": [
        {
          "output_type": "execute_result",
          "data": {
            "text/plain": [
              "  A1     A2     A3 A4 A5 A6 A7    A8 A9 A10  A11 A12 A13    A14  A15  Class\n",
              "0  b  30.83  0.000  u  g  w  v  1.25  t   t    1   f   g  202.0    0      1\n",
              "1  a  58.67  4.460  u  g  q  h  3.04  t   t    6   f   g   43.0  560      1\n",
              "2  a  24.50  0.500  u  g  q  h  1.50  t   f    0   f   g  280.0  824      1\n",
              "3  b  27.83  1.540  u  g  w  v  3.75  t   t    5   t   g  100.0    3      1\n",
              "4  b  20.17  5.625  u  g  w  v  1.71  t   f    0   f   s  120.0    0      1"
            ],
            "text/html": [
              "\n",
              "  <div id=\"df-fb31284b-be35-43a6-80a0-af6263f2b878\" class=\"colab-df-container\">\n",
              "    <div>\n",
              "<style scoped>\n",
              "    .dataframe tbody tr th:only-of-type {\n",
              "        vertical-align: middle;\n",
              "    }\n",
              "\n",
              "    .dataframe tbody tr th {\n",
              "        vertical-align: top;\n",
              "    }\n",
              "\n",
              "    .dataframe thead th {\n",
              "        text-align: right;\n",
              "    }\n",
              "</style>\n",
              "<table border=\"1\" class=\"dataframe\">\n",
              "  <thead>\n",
              "    <tr style=\"text-align: right;\">\n",
              "      <th></th>\n",
              "      <th>A1</th>\n",
              "      <th>A2</th>\n",
              "      <th>A3</th>\n",
              "      <th>A4</th>\n",
              "      <th>A5</th>\n",
              "      <th>A6</th>\n",
              "      <th>A7</th>\n",
              "      <th>A8</th>\n",
              "      <th>A9</th>\n",
              "      <th>A10</th>\n",
              "      <th>A11</th>\n",
              "      <th>A12</th>\n",
              "      <th>A13</th>\n",
              "      <th>A14</th>\n",
              "      <th>A15</th>\n",
              "      <th>Class</th>\n",
              "    </tr>\n",
              "  </thead>\n",
              "  <tbody>\n",
              "    <tr>\n",
              "      <th>0</th>\n",
              "      <td>b</td>\n",
              "      <td>30.83</td>\n",
              "      <td>0.000</td>\n",
              "      <td>u</td>\n",
              "      <td>g</td>\n",
              "      <td>w</td>\n",
              "      <td>v</td>\n",
              "      <td>1.25</td>\n",
              "      <td>t</td>\n",
              "      <td>t</td>\n",
              "      <td>1</td>\n",
              "      <td>f</td>\n",
              "      <td>g</td>\n",
              "      <td>202.0</td>\n",
              "      <td>0</td>\n",
              "      <td>1</td>\n",
              "    </tr>\n",
              "    <tr>\n",
              "      <th>1</th>\n",
              "      <td>a</td>\n",
              "      <td>58.67</td>\n",
              "      <td>4.460</td>\n",
              "      <td>u</td>\n",
              "      <td>g</td>\n",
              "      <td>q</td>\n",
              "      <td>h</td>\n",
              "      <td>3.04</td>\n",
              "      <td>t</td>\n",
              "      <td>t</td>\n",
              "      <td>6</td>\n",
              "      <td>f</td>\n",
              "      <td>g</td>\n",
              "      <td>43.0</td>\n",
              "      <td>560</td>\n",
              "      <td>1</td>\n",
              "    </tr>\n",
              "    <tr>\n",
              "      <th>2</th>\n",
              "      <td>a</td>\n",
              "      <td>24.50</td>\n",
              "      <td>0.500</td>\n",
              "      <td>u</td>\n",
              "      <td>g</td>\n",
              "      <td>q</td>\n",
              "      <td>h</td>\n",
              "      <td>1.50</td>\n",
              "      <td>t</td>\n",
              "      <td>f</td>\n",
              "      <td>0</td>\n",
              "      <td>f</td>\n",
              "      <td>g</td>\n",
              "      <td>280.0</td>\n",
              "      <td>824</td>\n",
              "      <td>1</td>\n",
              "    </tr>\n",
              "    <tr>\n",
              "      <th>3</th>\n",
              "      <td>b</td>\n",
              "      <td>27.83</td>\n",
              "      <td>1.540</td>\n",
              "      <td>u</td>\n",
              "      <td>g</td>\n",
              "      <td>w</td>\n",
              "      <td>v</td>\n",
              "      <td>3.75</td>\n",
              "      <td>t</td>\n",
              "      <td>t</td>\n",
              "      <td>5</td>\n",
              "      <td>t</td>\n",
              "      <td>g</td>\n",
              "      <td>100.0</td>\n",
              "      <td>3</td>\n",
              "      <td>1</td>\n",
              "    </tr>\n",
              "    <tr>\n",
              "      <th>4</th>\n",
              "      <td>b</td>\n",
              "      <td>20.17</td>\n",
              "      <td>5.625</td>\n",
              "      <td>u</td>\n",
              "      <td>g</td>\n",
              "      <td>w</td>\n",
              "      <td>v</td>\n",
              "      <td>1.71</td>\n",
              "      <td>t</td>\n",
              "      <td>f</td>\n",
              "      <td>0</td>\n",
              "      <td>f</td>\n",
              "      <td>s</td>\n",
              "      <td>120.0</td>\n",
              "      <td>0</td>\n",
              "      <td>1</td>\n",
              "    </tr>\n",
              "  </tbody>\n",
              "</table>\n",
              "</div>\n",
              "    <div class=\"colab-df-buttons\">\n",
              "\n",
              "  <div class=\"colab-df-container\">\n",
              "    <button class=\"colab-df-convert\" onclick=\"convertToInteractive('df-fb31284b-be35-43a6-80a0-af6263f2b878')\"\n",
              "            title=\"Convert this dataframe to an interactive table.\"\n",
              "            style=\"display:none;\">\n",
              "\n",
              "  <svg xmlns=\"http://www.w3.org/2000/svg\" height=\"24px\" viewBox=\"0 -960 960 960\">\n",
              "    <path d=\"M120-120v-720h720v720H120Zm60-500h600v-160H180v160Zm220 220h160v-160H400v160Zm0 220h160v-160H400v160ZM180-400h160v-160H180v160Zm440 0h160v-160H620v160ZM180-180h160v-160H180v160Zm440 0h160v-160H620v160Z\"/>\n",
              "  </svg>\n",
              "    </button>\n",
              "\n",
              "  <style>\n",
              "    .colab-df-container {\n",
              "      display:flex;\n",
              "      gap: 12px;\n",
              "    }\n",
              "\n",
              "    .colab-df-convert {\n",
              "      background-color: #E8F0FE;\n",
              "      border: none;\n",
              "      border-radius: 50%;\n",
              "      cursor: pointer;\n",
              "      display: none;\n",
              "      fill: #1967D2;\n",
              "      height: 32px;\n",
              "      padding: 0 0 0 0;\n",
              "      width: 32px;\n",
              "    }\n",
              "\n",
              "    .colab-df-convert:hover {\n",
              "      background-color: #E2EBFA;\n",
              "      box-shadow: 0px 1px 2px rgba(60, 64, 67, 0.3), 0px 1px 3px 1px rgba(60, 64, 67, 0.15);\n",
              "      fill: #174EA6;\n",
              "    }\n",
              "\n",
              "    .colab-df-buttons div {\n",
              "      margin-bottom: 4px;\n",
              "    }\n",
              "\n",
              "    [theme=dark] .colab-df-convert {\n",
              "      background-color: #3B4455;\n",
              "      fill: #D2E3FC;\n",
              "    }\n",
              "\n",
              "    [theme=dark] .colab-df-convert:hover {\n",
              "      background-color: #434B5C;\n",
              "      box-shadow: 0px 1px 3px 1px rgba(0, 0, 0, 0.15);\n",
              "      filter: drop-shadow(0px 1px 2px rgba(0, 0, 0, 0.3));\n",
              "      fill: #FFFFFF;\n",
              "    }\n",
              "  </style>\n",
              "\n",
              "    <script>\n",
              "      const buttonEl =\n",
              "        document.querySelector('#df-fb31284b-be35-43a6-80a0-af6263f2b878 button.colab-df-convert');\n",
              "      buttonEl.style.display =\n",
              "        google.colab.kernel.accessAllowed ? 'block' : 'none';\n",
              "\n",
              "      async function convertToInteractive(key) {\n",
              "        const element = document.querySelector('#df-fb31284b-be35-43a6-80a0-af6263f2b878');\n",
              "        const dataTable =\n",
              "          await google.colab.kernel.invokeFunction('convertToInteractive',\n",
              "                                                    [key], {});\n",
              "        if (!dataTable) return;\n",
              "\n",
              "        const docLinkHtml = 'Like what you see? Visit the ' +\n",
              "          '<a target=\"_blank\" href=https://colab.research.google.com/notebooks/data_table.ipynb>data table notebook</a>'\n",
              "          + ' to learn more about interactive tables.';\n",
              "        element.innerHTML = '';\n",
              "        dataTable['output_type'] = 'display_data';\n",
              "        await google.colab.output.renderOutput(dataTable, element);\n",
              "        const docLink = document.createElement('div');\n",
              "        docLink.innerHTML = docLinkHtml;\n",
              "        element.appendChild(docLink);\n",
              "      }\n",
              "    </script>\n",
              "  </div>\n",
              "\n",
              "\n",
              "<div id=\"df-fd3d24c8-797e-476b-a2c8-4ae4d838e800\">\n",
              "  <button class=\"colab-df-quickchart\" onclick=\"quickchart('df-fd3d24c8-797e-476b-a2c8-4ae4d838e800')\"\n",
              "            title=\"Suggest charts\"\n",
              "            style=\"display:none;\">\n",
              "\n",
              "<svg xmlns=\"http://www.w3.org/2000/svg\" height=\"24px\"viewBox=\"0 0 24 24\"\n",
              "     width=\"24px\">\n",
              "    <g>\n",
              "        <path d=\"M19 3H5c-1.1 0-2 .9-2 2v14c0 1.1.9 2 2 2h14c1.1 0 2-.9 2-2V5c0-1.1-.9-2-2-2zM9 17H7v-7h2v7zm4 0h-2V7h2v10zm4 0h-2v-4h2v4z\"/>\n",
              "    </g>\n",
              "</svg>\n",
              "  </button>\n",
              "\n",
              "<style>\n",
              "  .colab-df-quickchart {\n",
              "      --bg-color: #E8F0FE;\n",
              "      --fill-color: #1967D2;\n",
              "      --hover-bg-color: #E2EBFA;\n",
              "      --hover-fill-color: #174EA6;\n",
              "      --disabled-fill-color: #AAA;\n",
              "      --disabled-bg-color: #DDD;\n",
              "  }\n",
              "\n",
              "  [theme=dark] .colab-df-quickchart {\n",
              "      --bg-color: #3B4455;\n",
              "      --fill-color: #D2E3FC;\n",
              "      --hover-bg-color: #434B5C;\n",
              "      --hover-fill-color: #FFFFFF;\n",
              "      --disabled-bg-color: #3B4455;\n",
              "      --disabled-fill-color: #666;\n",
              "  }\n",
              "\n",
              "  .colab-df-quickchart {\n",
              "    background-color: var(--bg-color);\n",
              "    border: none;\n",
              "    border-radius: 50%;\n",
              "    cursor: pointer;\n",
              "    display: none;\n",
              "    fill: var(--fill-color);\n",
              "    height: 32px;\n",
              "    padding: 0;\n",
              "    width: 32px;\n",
              "  }\n",
              "\n",
              "  .colab-df-quickchart:hover {\n",
              "    background-color: var(--hover-bg-color);\n",
              "    box-shadow: 0 1px 2px rgba(60, 64, 67, 0.3), 0 1px 3px 1px rgba(60, 64, 67, 0.15);\n",
              "    fill: var(--button-hover-fill-color);\n",
              "  }\n",
              "\n",
              "  .colab-df-quickchart-complete:disabled,\n",
              "  .colab-df-quickchart-complete:disabled:hover {\n",
              "    background-color: var(--disabled-bg-color);\n",
              "    fill: var(--disabled-fill-color);\n",
              "    box-shadow: none;\n",
              "  }\n",
              "\n",
              "  .colab-df-spinner {\n",
              "    border: 2px solid var(--fill-color);\n",
              "    border-color: transparent;\n",
              "    border-bottom-color: var(--fill-color);\n",
              "    animation:\n",
              "      spin 1s steps(1) infinite;\n",
              "  }\n",
              "\n",
              "  @keyframes spin {\n",
              "    0% {\n",
              "      border-color: transparent;\n",
              "      border-bottom-color: var(--fill-color);\n",
              "      border-left-color: var(--fill-color);\n",
              "    }\n",
              "    20% {\n",
              "      border-color: transparent;\n",
              "      border-left-color: var(--fill-color);\n",
              "      border-top-color: var(--fill-color);\n",
              "    }\n",
              "    30% {\n",
              "      border-color: transparent;\n",
              "      border-left-color: var(--fill-color);\n",
              "      border-top-color: var(--fill-color);\n",
              "      border-right-color: var(--fill-color);\n",
              "    }\n",
              "    40% {\n",
              "      border-color: transparent;\n",
              "      border-right-color: var(--fill-color);\n",
              "      border-top-color: var(--fill-color);\n",
              "    }\n",
              "    60% {\n",
              "      border-color: transparent;\n",
              "      border-right-color: var(--fill-color);\n",
              "    }\n",
              "    80% {\n",
              "      border-color: transparent;\n",
              "      border-right-color: var(--fill-color);\n",
              "      border-bottom-color: var(--fill-color);\n",
              "    }\n",
              "    90% {\n",
              "      border-color: transparent;\n",
              "      border-bottom-color: var(--fill-color);\n",
              "    }\n",
              "  }\n",
              "</style>\n",
              "\n",
              "  <script>\n",
              "    async function quickchart(key) {\n",
              "      const quickchartButtonEl =\n",
              "        document.querySelector('#' + key + ' button');\n",
              "      quickchartButtonEl.disabled = true;  // To prevent multiple clicks.\n",
              "      quickchartButtonEl.classList.add('colab-df-spinner');\n",
              "      try {\n",
              "        const charts = await google.colab.kernel.invokeFunction(\n",
              "            'suggestCharts', [key], {});\n",
              "      } catch (error) {\n",
              "        console.error('Error during call to suggestCharts:', error);\n",
              "      }\n",
              "      quickchartButtonEl.classList.remove('colab-df-spinner');\n",
              "      quickchartButtonEl.classList.add('colab-df-quickchart-complete');\n",
              "    }\n",
              "    (() => {\n",
              "      let quickchartButtonEl =\n",
              "        document.querySelector('#df-fd3d24c8-797e-476b-a2c8-4ae4d838e800 button');\n",
              "      quickchartButtonEl.style.display =\n",
              "        google.colab.kernel.accessAllowed ? 'block' : 'none';\n",
              "    })();\n",
              "  </script>\n",
              "</div>\n",
              "\n",
              "    </div>\n",
              "  </div>\n"
            ],
            "application/vnd.google.colaboratory.intrinsic+json": {
              "type": "dataframe",
              "variable_name": "data",
              "summary": "{\n  \"name\": \"data\",\n  \"rows\": 653,\n  \"fields\": [\n    {\n      \"column\": \"A1\",\n      \"properties\": {\n        \"dtype\": \"category\",\n        \"num_unique_values\": 2,\n        \"samples\": [\n          \"a\",\n          \"b\"\n        ],\n        \"semantic_type\": \"\",\n        \"description\": \"\"\n      }\n    },\n    {\n      \"column\": \"A2\",\n      \"properties\": {\n        \"dtype\": \"number\",\n        \"std\": 11.838267107399854,\n        \"min\": 13.75,\n        \"max\": 76.75,\n        \"num_unique_values\": 340,\n        \"samples\": [\n          39.25,\n          18.83\n        ],\n        \"semantic_type\": \"\",\n        \"description\": \"\"\n      }\n    },\n    {\n      \"column\": \"A3\",\n      \"properties\": {\n        \"dtype\": \"number\",\n        \"std\": 5.027077437761294,\n        \"min\": 0.0,\n        \"max\": 28.0,\n        \"num_unique_values\": 213,\n        \"samples\": [\n          0.83,\n          10.915\n        ],\n        \"semantic_type\": \"\",\n        \"description\": \"\"\n      }\n    },\n    {\n      \"column\": \"A4\",\n      \"properties\": {\n        \"dtype\": \"category\",\n        \"num_unique_values\": 3,\n        \"samples\": [\n          \"u\",\n          \"y\"\n        ],\n        \"semantic_type\": \"\",\n        \"description\": \"\"\n      }\n    },\n    {\n      \"column\": \"A5\",\n      \"properties\": {\n        \"dtype\": \"category\",\n        \"num_unique_values\": 3,\n        \"samples\": [\n          \"g\",\n          \"p\"\n        ],\n        \"semantic_type\": \"\",\n        \"description\": \"\"\n      }\n    },\n    {\n      \"column\": \"A6\",\n      \"properties\": {\n        \"dtype\": \"category\",\n        \"num_unique_values\": 14,\n        \"samples\": [\n          \"i\",\n          \"aa\"\n        ],\n        \"semantic_type\": \"\",\n        \"description\": \"\"\n      }\n    },\n    {\n      \"column\": \"A7\",\n      \"properties\": {\n        \"dtype\": \"category\",\n        \"num_unique_values\": 9,\n        \"samples\": [\n          \"dd\",\n          \"h\"\n        ],\n        \"semantic_type\": \"\",\n        \"description\": \"\"\n      }\n    },\n    {\n      \"column\": \"A8\",\n      \"properties\": {\n        \"dtype\": \"number\",\n        \"std\": 3.371120259441243,\n        \"min\": 0.0,\n        \"max\": 28.5,\n        \"num_unique_values\": 131,\n        \"samples\": [\n          13.5,\n          3.5\n        ],\n        \"semantic_type\": \"\",\n        \"description\": \"\"\n      }\n    },\n    {\n      \"column\": \"A9\",\n      \"properties\": {\n        \"dtype\": \"category\",\n        \"num_unique_values\": 2,\n        \"samples\": [\n          \"f\",\n          \"t\"\n        ],\n        \"semantic_type\": \"\",\n        \"description\": \"\"\n      }\n    },\n    {\n      \"column\": \"A10\",\n      \"properties\": {\n        \"dtype\": \"category\",\n        \"num_unique_values\": 2,\n        \"samples\": [\n          \"f\",\n          \"t\"\n        ],\n        \"semantic_type\": \"\",\n        \"description\": \"\"\n      }\n    },\n    {\n      \"column\": \"A11\",\n      \"properties\": {\n        \"dtype\": \"number\",\n        \"std\": 4,\n        \"min\": 0,\n        \"max\": 67,\n        \"num_unique_values\": 23,\n        \"samples\": [\n          23,\n          9\n        ],\n        \"semantic_type\": \"\",\n        \"description\": \"\"\n      }\n    },\n    {\n      \"column\": \"A12\",\n      \"properties\": {\n        \"dtype\": \"category\",\n        \"num_unique_values\": 2,\n        \"samples\": [\n          \"t\",\n          \"f\"\n        ],\n        \"semantic_type\": \"\",\n        \"description\": \"\"\n      }\n    },\n    {\n      \"column\": \"A13\",\n      \"properties\": {\n        \"dtype\": \"category\",\n        \"num_unique_values\": 3,\n        \"samples\": [\n          \"g\",\n          \"s\"\n        ],\n        \"semantic_type\": \"\",\n        \"description\": \"\"\n      }\n    },\n    {\n      \"column\": \"A14\",\n      \"properties\": {\n        \"dtype\": \"number\",\n        \"std\": 168.29681104695345,\n        \"min\": 0.0,\n        \"max\": 2000.0,\n        \"num_unique_values\": 164,\n        \"samples\": [\n          333.0,\n          352.0\n        ],\n        \"semantic_type\": \"\",\n        \"description\": \"\"\n      }\n    },\n    {\n      \"column\": \"A15\",\n      \"properties\": {\n        \"dtype\": \"number\",\n        \"std\": 5253,\n        \"min\": 0,\n        \"max\": 100000,\n        \"num_unique_values\": 229,\n        \"samples\": [\n          68,\n          2200\n        ],\n        \"semantic_type\": \"\",\n        \"description\": \"\"\n      }\n    },\n    {\n      \"column\": \"Class\",\n      \"properties\": {\n        \"dtype\": \"number\",\n        \"std\": 0,\n        \"min\": 0,\n        \"max\": 1,\n        \"num_unique_values\": 2,\n        \"samples\": [\n          0,\n          1\n        ],\n        \"semantic_type\": \"\",\n        \"description\": \"\"\n      }\n    }\n  ]\n}"
            }
          },
          "metadata": {},
          "execution_count": 6
        }
      ],
      "source": [
        "# Fill missing values with the most frequent value for simplicity\n",
        "data.fillna(data.mode().iloc[0], inplace=True)\n",
        "data.head()"
      ]
    },
    {
      "cell_type": "code",
      "execution_count": null,
      "id": "543bd500-00ab-4fe5-b430-6cc4f1a0bd6f",
      "metadata": {
        "colab": {
          "base_uri": "https://localhost:8080/",
          "height": 235
        },
        "id": "543bd500-00ab-4fe5-b430-6cc4f1a0bd6f",
        "outputId": "b7446837-8b7e-4367-d670-a5170731d9d2"
      },
      "outputs": [
        {
          "output_type": "execute_result",
          "data": {
            "text/plain": [
              "      A2     A3    A8  A11    A14  A15  Class   A1_b  A4_u   A4_y  ...   A7_j  \\\n",
              "0  30.83  0.000  1.25    1  202.0    0      1   True  True  False  ...  False   \n",
              "1  58.67  4.460  3.04    6   43.0  560      1  False  True  False  ...  False   \n",
              "2  24.50  0.500  1.50    0  280.0  824      1  False  True  False  ...  False   \n",
              "3  27.83  1.540  3.75    5  100.0    3      1   True  True  False  ...  False   \n",
              "4  20.17  5.625  1.71    0  120.0    0      1   True  True  False  ...  False   \n",
              "\n",
              "    A7_n   A7_o   A7_v   A7_z  A9_t  A10_t  A12_t  A13_p  A13_s  \n",
              "0  False  False   True  False  True   True  False  False  False  \n",
              "1  False  False  False  False  True   True  False  False  False  \n",
              "2  False  False  False  False  True  False  False  False  False  \n",
              "3  False  False   True  False  True   True   True  False  False  \n",
              "4  False  False   True  False  True  False  False  False   True  \n",
              "\n",
              "[5 rows x 38 columns]"
            ],
            "text/html": [
              "\n",
              "  <div id=\"df-05be358e-ff0d-4892-94f9-9b98a860f140\" class=\"colab-df-container\">\n",
              "    <div>\n",
              "<style scoped>\n",
              "    .dataframe tbody tr th:only-of-type {\n",
              "        vertical-align: middle;\n",
              "    }\n",
              "\n",
              "    .dataframe tbody tr th {\n",
              "        vertical-align: top;\n",
              "    }\n",
              "\n",
              "    .dataframe thead th {\n",
              "        text-align: right;\n",
              "    }\n",
              "</style>\n",
              "<table border=\"1\" class=\"dataframe\">\n",
              "  <thead>\n",
              "    <tr style=\"text-align: right;\">\n",
              "      <th></th>\n",
              "      <th>A2</th>\n",
              "      <th>A3</th>\n",
              "      <th>A8</th>\n",
              "      <th>A11</th>\n",
              "      <th>A14</th>\n",
              "      <th>A15</th>\n",
              "      <th>Class</th>\n",
              "      <th>A1_b</th>\n",
              "      <th>A4_u</th>\n",
              "      <th>A4_y</th>\n",
              "      <th>...</th>\n",
              "      <th>A7_j</th>\n",
              "      <th>A7_n</th>\n",
              "      <th>A7_o</th>\n",
              "      <th>A7_v</th>\n",
              "      <th>A7_z</th>\n",
              "      <th>A9_t</th>\n",
              "      <th>A10_t</th>\n",
              "      <th>A12_t</th>\n",
              "      <th>A13_p</th>\n",
              "      <th>A13_s</th>\n",
              "    </tr>\n",
              "  </thead>\n",
              "  <tbody>\n",
              "    <tr>\n",
              "      <th>0</th>\n",
              "      <td>30.83</td>\n",
              "      <td>0.000</td>\n",
              "      <td>1.25</td>\n",
              "      <td>1</td>\n",
              "      <td>202.0</td>\n",
              "      <td>0</td>\n",
              "      <td>1</td>\n",
              "      <td>True</td>\n",
              "      <td>True</td>\n",
              "      <td>False</td>\n",
              "      <td>...</td>\n",
              "      <td>False</td>\n",
              "      <td>False</td>\n",
              "      <td>False</td>\n",
              "      <td>True</td>\n",
              "      <td>False</td>\n",
              "      <td>True</td>\n",
              "      <td>True</td>\n",
              "      <td>False</td>\n",
              "      <td>False</td>\n",
              "      <td>False</td>\n",
              "    </tr>\n",
              "    <tr>\n",
              "      <th>1</th>\n",
              "      <td>58.67</td>\n",
              "      <td>4.460</td>\n",
              "      <td>3.04</td>\n",
              "      <td>6</td>\n",
              "      <td>43.0</td>\n",
              "      <td>560</td>\n",
              "      <td>1</td>\n",
              "      <td>False</td>\n",
              "      <td>True</td>\n",
              "      <td>False</td>\n",
              "      <td>...</td>\n",
              "      <td>False</td>\n",
              "      <td>False</td>\n",
              "      <td>False</td>\n",
              "      <td>False</td>\n",
              "      <td>False</td>\n",
              "      <td>True</td>\n",
              "      <td>True</td>\n",
              "      <td>False</td>\n",
              "      <td>False</td>\n",
              "      <td>False</td>\n",
              "    </tr>\n",
              "    <tr>\n",
              "      <th>2</th>\n",
              "      <td>24.50</td>\n",
              "      <td>0.500</td>\n",
              "      <td>1.50</td>\n",
              "      <td>0</td>\n",
              "      <td>280.0</td>\n",
              "      <td>824</td>\n",
              "      <td>1</td>\n",
              "      <td>False</td>\n",
              "      <td>True</td>\n",
              "      <td>False</td>\n",
              "      <td>...</td>\n",
              "      <td>False</td>\n",
              "      <td>False</td>\n",
              "      <td>False</td>\n",
              "      <td>False</td>\n",
              "      <td>False</td>\n",
              "      <td>True</td>\n",
              "      <td>False</td>\n",
              "      <td>False</td>\n",
              "      <td>False</td>\n",
              "      <td>False</td>\n",
              "    </tr>\n",
              "    <tr>\n",
              "      <th>3</th>\n",
              "      <td>27.83</td>\n",
              "      <td>1.540</td>\n",
              "      <td>3.75</td>\n",
              "      <td>5</td>\n",
              "      <td>100.0</td>\n",
              "      <td>3</td>\n",
              "      <td>1</td>\n",
              "      <td>True</td>\n",
              "      <td>True</td>\n",
              "      <td>False</td>\n",
              "      <td>...</td>\n",
              "      <td>False</td>\n",
              "      <td>False</td>\n",
              "      <td>False</td>\n",
              "      <td>True</td>\n",
              "      <td>False</td>\n",
              "      <td>True</td>\n",
              "      <td>True</td>\n",
              "      <td>True</td>\n",
              "      <td>False</td>\n",
              "      <td>False</td>\n",
              "    </tr>\n",
              "    <tr>\n",
              "      <th>4</th>\n",
              "      <td>20.17</td>\n",
              "      <td>5.625</td>\n",
              "      <td>1.71</td>\n",
              "      <td>0</td>\n",
              "      <td>120.0</td>\n",
              "      <td>0</td>\n",
              "      <td>1</td>\n",
              "      <td>True</td>\n",
              "      <td>True</td>\n",
              "      <td>False</td>\n",
              "      <td>...</td>\n",
              "      <td>False</td>\n",
              "      <td>False</td>\n",
              "      <td>False</td>\n",
              "      <td>True</td>\n",
              "      <td>False</td>\n",
              "      <td>True</td>\n",
              "      <td>False</td>\n",
              "      <td>False</td>\n",
              "      <td>False</td>\n",
              "      <td>True</td>\n",
              "    </tr>\n",
              "  </tbody>\n",
              "</table>\n",
              "<p>5 rows × 38 columns</p>\n",
              "</div>\n",
              "    <div class=\"colab-df-buttons\">\n",
              "\n",
              "  <div class=\"colab-df-container\">\n",
              "    <button class=\"colab-df-convert\" onclick=\"convertToInteractive('df-05be358e-ff0d-4892-94f9-9b98a860f140')\"\n",
              "            title=\"Convert this dataframe to an interactive table.\"\n",
              "            style=\"display:none;\">\n",
              "\n",
              "  <svg xmlns=\"http://www.w3.org/2000/svg\" height=\"24px\" viewBox=\"0 -960 960 960\">\n",
              "    <path d=\"M120-120v-720h720v720H120Zm60-500h600v-160H180v160Zm220 220h160v-160H400v160Zm0 220h160v-160H400v160ZM180-400h160v-160H180v160Zm440 0h160v-160H620v160ZM180-180h160v-160H180v160Zm440 0h160v-160H620v160Z\"/>\n",
              "  </svg>\n",
              "    </button>\n",
              "\n",
              "  <style>\n",
              "    .colab-df-container {\n",
              "      display:flex;\n",
              "      gap: 12px;\n",
              "    }\n",
              "\n",
              "    .colab-df-convert {\n",
              "      background-color: #E8F0FE;\n",
              "      border: none;\n",
              "      border-radius: 50%;\n",
              "      cursor: pointer;\n",
              "      display: none;\n",
              "      fill: #1967D2;\n",
              "      height: 32px;\n",
              "      padding: 0 0 0 0;\n",
              "      width: 32px;\n",
              "    }\n",
              "\n",
              "    .colab-df-convert:hover {\n",
              "      background-color: #E2EBFA;\n",
              "      box-shadow: 0px 1px 2px rgba(60, 64, 67, 0.3), 0px 1px 3px 1px rgba(60, 64, 67, 0.15);\n",
              "      fill: #174EA6;\n",
              "    }\n",
              "\n",
              "    .colab-df-buttons div {\n",
              "      margin-bottom: 4px;\n",
              "    }\n",
              "\n",
              "    [theme=dark] .colab-df-convert {\n",
              "      background-color: #3B4455;\n",
              "      fill: #D2E3FC;\n",
              "    }\n",
              "\n",
              "    [theme=dark] .colab-df-convert:hover {\n",
              "      background-color: #434B5C;\n",
              "      box-shadow: 0px 1px 3px 1px rgba(0, 0, 0, 0.15);\n",
              "      filter: drop-shadow(0px 1px 2px rgba(0, 0, 0, 0.3));\n",
              "      fill: #FFFFFF;\n",
              "    }\n",
              "  </style>\n",
              "\n",
              "    <script>\n",
              "      const buttonEl =\n",
              "        document.querySelector('#df-05be358e-ff0d-4892-94f9-9b98a860f140 button.colab-df-convert');\n",
              "      buttonEl.style.display =\n",
              "        google.colab.kernel.accessAllowed ? 'block' : 'none';\n",
              "\n",
              "      async function convertToInteractive(key) {\n",
              "        const element = document.querySelector('#df-05be358e-ff0d-4892-94f9-9b98a860f140');\n",
              "        const dataTable =\n",
              "          await google.colab.kernel.invokeFunction('convertToInteractive',\n",
              "                                                    [key], {});\n",
              "        if (!dataTable) return;\n",
              "\n",
              "        const docLinkHtml = 'Like what you see? Visit the ' +\n",
              "          '<a target=\"_blank\" href=https://colab.research.google.com/notebooks/data_table.ipynb>data table notebook</a>'\n",
              "          + ' to learn more about interactive tables.';\n",
              "        element.innerHTML = '';\n",
              "        dataTable['output_type'] = 'display_data';\n",
              "        await google.colab.output.renderOutput(dataTable, element);\n",
              "        const docLink = document.createElement('div');\n",
              "        docLink.innerHTML = docLinkHtml;\n",
              "        element.appendChild(docLink);\n",
              "      }\n",
              "    </script>\n",
              "  </div>\n",
              "\n",
              "\n",
              "<div id=\"df-8a6d3f21-e661-4a64-8eb2-6a54d4e62f28\">\n",
              "  <button class=\"colab-df-quickchart\" onclick=\"quickchart('df-8a6d3f21-e661-4a64-8eb2-6a54d4e62f28')\"\n",
              "            title=\"Suggest charts\"\n",
              "            style=\"display:none;\">\n",
              "\n",
              "<svg xmlns=\"http://www.w3.org/2000/svg\" height=\"24px\"viewBox=\"0 0 24 24\"\n",
              "     width=\"24px\">\n",
              "    <g>\n",
              "        <path d=\"M19 3H5c-1.1 0-2 .9-2 2v14c0 1.1.9 2 2 2h14c1.1 0 2-.9 2-2V5c0-1.1-.9-2-2-2zM9 17H7v-7h2v7zm4 0h-2V7h2v10zm4 0h-2v-4h2v4z\"/>\n",
              "    </g>\n",
              "</svg>\n",
              "  </button>\n",
              "\n",
              "<style>\n",
              "  .colab-df-quickchart {\n",
              "      --bg-color: #E8F0FE;\n",
              "      --fill-color: #1967D2;\n",
              "      --hover-bg-color: #E2EBFA;\n",
              "      --hover-fill-color: #174EA6;\n",
              "      --disabled-fill-color: #AAA;\n",
              "      --disabled-bg-color: #DDD;\n",
              "  }\n",
              "\n",
              "  [theme=dark] .colab-df-quickchart {\n",
              "      --bg-color: #3B4455;\n",
              "      --fill-color: #D2E3FC;\n",
              "      --hover-bg-color: #434B5C;\n",
              "      --hover-fill-color: #FFFFFF;\n",
              "      --disabled-bg-color: #3B4455;\n",
              "      --disabled-fill-color: #666;\n",
              "  }\n",
              "\n",
              "  .colab-df-quickchart {\n",
              "    background-color: var(--bg-color);\n",
              "    border: none;\n",
              "    border-radius: 50%;\n",
              "    cursor: pointer;\n",
              "    display: none;\n",
              "    fill: var(--fill-color);\n",
              "    height: 32px;\n",
              "    padding: 0;\n",
              "    width: 32px;\n",
              "  }\n",
              "\n",
              "  .colab-df-quickchart:hover {\n",
              "    background-color: var(--hover-bg-color);\n",
              "    box-shadow: 0 1px 2px rgba(60, 64, 67, 0.3), 0 1px 3px 1px rgba(60, 64, 67, 0.15);\n",
              "    fill: var(--button-hover-fill-color);\n",
              "  }\n",
              "\n",
              "  .colab-df-quickchart-complete:disabled,\n",
              "  .colab-df-quickchart-complete:disabled:hover {\n",
              "    background-color: var(--disabled-bg-color);\n",
              "    fill: var(--disabled-fill-color);\n",
              "    box-shadow: none;\n",
              "  }\n",
              "\n",
              "  .colab-df-spinner {\n",
              "    border: 2px solid var(--fill-color);\n",
              "    border-color: transparent;\n",
              "    border-bottom-color: var(--fill-color);\n",
              "    animation:\n",
              "      spin 1s steps(1) infinite;\n",
              "  }\n",
              "\n",
              "  @keyframes spin {\n",
              "    0% {\n",
              "      border-color: transparent;\n",
              "      border-bottom-color: var(--fill-color);\n",
              "      border-left-color: var(--fill-color);\n",
              "    }\n",
              "    20% {\n",
              "      border-color: transparent;\n",
              "      border-left-color: var(--fill-color);\n",
              "      border-top-color: var(--fill-color);\n",
              "    }\n",
              "    30% {\n",
              "      border-color: transparent;\n",
              "      border-left-color: var(--fill-color);\n",
              "      border-top-color: var(--fill-color);\n",
              "      border-right-color: var(--fill-color);\n",
              "    }\n",
              "    40% {\n",
              "      border-color: transparent;\n",
              "      border-right-color: var(--fill-color);\n",
              "      border-top-color: var(--fill-color);\n",
              "    }\n",
              "    60% {\n",
              "      border-color: transparent;\n",
              "      border-right-color: var(--fill-color);\n",
              "    }\n",
              "    80% {\n",
              "      border-color: transparent;\n",
              "      border-right-color: var(--fill-color);\n",
              "      border-bottom-color: var(--fill-color);\n",
              "    }\n",
              "    90% {\n",
              "      border-color: transparent;\n",
              "      border-bottom-color: var(--fill-color);\n",
              "    }\n",
              "  }\n",
              "</style>\n",
              "\n",
              "  <script>\n",
              "    async function quickchart(key) {\n",
              "      const quickchartButtonEl =\n",
              "        document.querySelector('#' + key + ' button');\n",
              "      quickchartButtonEl.disabled = true;  // To prevent multiple clicks.\n",
              "      quickchartButtonEl.classList.add('colab-df-spinner');\n",
              "      try {\n",
              "        const charts = await google.colab.kernel.invokeFunction(\n",
              "            'suggestCharts', [key], {});\n",
              "      } catch (error) {\n",
              "        console.error('Error during call to suggestCharts:', error);\n",
              "      }\n",
              "      quickchartButtonEl.classList.remove('colab-df-spinner');\n",
              "      quickchartButtonEl.classList.add('colab-df-quickchart-complete');\n",
              "    }\n",
              "    (() => {\n",
              "      let quickchartButtonEl =\n",
              "        document.querySelector('#df-8a6d3f21-e661-4a64-8eb2-6a54d4e62f28 button');\n",
              "      quickchartButtonEl.style.display =\n",
              "        google.colab.kernel.accessAllowed ? 'block' : 'none';\n",
              "    })();\n",
              "  </script>\n",
              "</div>\n",
              "\n",
              "    </div>\n",
              "  </div>\n"
            ],
            "application/vnd.google.colaboratory.intrinsic+json": {
              "type": "dataframe",
              "variable_name": "data"
            }
          },
          "metadata": {},
          "execution_count": 7
        }
      ],
      "source": [
        "# Convert categorical columns to numerical using dummy encoding\n",
        "data = pd.get_dummies(data, drop_first=True)\n",
        "data.head()"
      ]
    },
    {
      "cell_type": "code",
      "source": [
        "# Normalize or standardize numeric columns\n",
        "from sklearn.preprocessing import StandardScaler\n",
        "scaler = StandardScaler()  # Or MinMaxScaler()\n",
        "tmp = scaler.fit_transform(data[['A2','A3','A8','A11', 'A14','A15']])\n",
        "data[['A2','A3','A8','A11', 'A14','A15']] = tmp\n",
        "data = pd.DataFrame(data, columns= data.columns)"
      ],
      "metadata": {
        "id": "RGVhpXQ5GzwL"
      },
      "id": "RGVhpXQ5GzwL",
      "execution_count": null,
      "outputs": []
    },
    {
      "cell_type": "code",
      "source": [
        "data.head()"
      ],
      "metadata": {
        "colab": {
          "base_uri": "https://localhost:8080/",
          "height": 255
        },
        "id": "V3hXgfG-z1JY",
        "outputId": "7e2fba3c-66c1-4647-8c30-86adf6a78892"
      },
      "id": "V3hXgfG-z1JY",
      "execution_count": null,
      "outputs": [
        {
          "output_type": "execute_result",
          "data": {
            "text/plain": [
              "         A2        A3        A8       A11       A14       A15  Class   A1_b  \\\n",
              "0 -0.056962 -0.961440 -0.295171 -0.302596  0.128682 -0.193125      1   True   \n",
              "1  2.296536 -0.073565  0.236217  0.704516 -0.816802 -0.086443      1  False   \n",
              "2 -0.592078 -0.861903 -0.220955 -0.504019  0.592504 -0.036150      1  False   \n",
              "3 -0.310572 -0.654865  0.446990  0.503093 -0.477855 -0.192553      1   True   \n",
              "4 -0.958122  0.158358 -0.158613 -0.504019 -0.358926 -0.193125      1   True   \n",
              "\n",
              "   A4_u   A4_y  ...   A7_j   A7_n   A7_o   A7_v   A7_z  A9_t  A10_t  A12_t  \\\n",
              "0  True  False  ...  False  False  False   True  False  True   True  False   \n",
              "1  True  False  ...  False  False  False  False  False  True   True  False   \n",
              "2  True  False  ...  False  False  False  False  False  True  False  False   \n",
              "3  True  False  ...  False  False  False   True  False  True   True   True   \n",
              "4  True  False  ...  False  False  False   True  False  True  False  False   \n",
              "\n",
              "   A13_p  A13_s  \n",
              "0  False  False  \n",
              "1  False  False  \n",
              "2  False  False  \n",
              "3  False  False  \n",
              "4  False   True  \n",
              "\n",
              "[5 rows x 38 columns]"
            ],
            "text/html": [
              "\n",
              "  <div id=\"df-f41aca99-add1-46d8-9445-b41d0366dd1a\" class=\"colab-df-container\">\n",
              "    <div>\n",
              "<style scoped>\n",
              "    .dataframe tbody tr th:only-of-type {\n",
              "        vertical-align: middle;\n",
              "    }\n",
              "\n",
              "    .dataframe tbody tr th {\n",
              "        vertical-align: top;\n",
              "    }\n",
              "\n",
              "    .dataframe thead th {\n",
              "        text-align: right;\n",
              "    }\n",
              "</style>\n",
              "<table border=\"1\" class=\"dataframe\">\n",
              "  <thead>\n",
              "    <tr style=\"text-align: right;\">\n",
              "      <th></th>\n",
              "      <th>A2</th>\n",
              "      <th>A3</th>\n",
              "      <th>A8</th>\n",
              "      <th>A11</th>\n",
              "      <th>A14</th>\n",
              "      <th>A15</th>\n",
              "      <th>Class</th>\n",
              "      <th>A1_b</th>\n",
              "      <th>A4_u</th>\n",
              "      <th>A4_y</th>\n",
              "      <th>...</th>\n",
              "      <th>A7_j</th>\n",
              "      <th>A7_n</th>\n",
              "      <th>A7_o</th>\n",
              "      <th>A7_v</th>\n",
              "      <th>A7_z</th>\n",
              "      <th>A9_t</th>\n",
              "      <th>A10_t</th>\n",
              "      <th>A12_t</th>\n",
              "      <th>A13_p</th>\n",
              "      <th>A13_s</th>\n",
              "    </tr>\n",
              "  </thead>\n",
              "  <tbody>\n",
              "    <tr>\n",
              "      <th>0</th>\n",
              "      <td>-0.056962</td>\n",
              "      <td>-0.961440</td>\n",
              "      <td>-0.295171</td>\n",
              "      <td>-0.302596</td>\n",
              "      <td>0.128682</td>\n",
              "      <td>-0.193125</td>\n",
              "      <td>1</td>\n",
              "      <td>True</td>\n",
              "      <td>True</td>\n",
              "      <td>False</td>\n",
              "      <td>...</td>\n",
              "      <td>False</td>\n",
              "      <td>False</td>\n",
              "      <td>False</td>\n",
              "      <td>True</td>\n",
              "      <td>False</td>\n",
              "      <td>True</td>\n",
              "      <td>True</td>\n",
              "      <td>False</td>\n",
              "      <td>False</td>\n",
              "      <td>False</td>\n",
              "    </tr>\n",
              "    <tr>\n",
              "      <th>1</th>\n",
              "      <td>2.296536</td>\n",
              "      <td>-0.073565</td>\n",
              "      <td>0.236217</td>\n",
              "      <td>0.704516</td>\n",
              "      <td>-0.816802</td>\n",
              "      <td>-0.086443</td>\n",
              "      <td>1</td>\n",
              "      <td>False</td>\n",
              "      <td>True</td>\n",
              "      <td>False</td>\n",
              "      <td>...</td>\n",
              "      <td>False</td>\n",
              "      <td>False</td>\n",
              "      <td>False</td>\n",
              "      <td>False</td>\n",
              "      <td>False</td>\n",
              "      <td>True</td>\n",
              "      <td>True</td>\n",
              "      <td>False</td>\n",
              "      <td>False</td>\n",
              "      <td>False</td>\n",
              "    </tr>\n",
              "    <tr>\n",
              "      <th>2</th>\n",
              "      <td>-0.592078</td>\n",
              "      <td>-0.861903</td>\n",
              "      <td>-0.220955</td>\n",
              "      <td>-0.504019</td>\n",
              "      <td>0.592504</td>\n",
              "      <td>-0.036150</td>\n",
              "      <td>1</td>\n",
              "      <td>False</td>\n",
              "      <td>True</td>\n",
              "      <td>False</td>\n",
              "      <td>...</td>\n",
              "      <td>False</td>\n",
              "      <td>False</td>\n",
              "      <td>False</td>\n",
              "      <td>False</td>\n",
              "      <td>False</td>\n",
              "      <td>True</td>\n",
              "      <td>False</td>\n",
              "      <td>False</td>\n",
              "      <td>False</td>\n",
              "      <td>False</td>\n",
              "    </tr>\n",
              "    <tr>\n",
              "      <th>3</th>\n",
              "      <td>-0.310572</td>\n",
              "      <td>-0.654865</td>\n",
              "      <td>0.446990</td>\n",
              "      <td>0.503093</td>\n",
              "      <td>-0.477855</td>\n",
              "      <td>-0.192553</td>\n",
              "      <td>1</td>\n",
              "      <td>True</td>\n",
              "      <td>True</td>\n",
              "      <td>False</td>\n",
              "      <td>...</td>\n",
              "      <td>False</td>\n",
              "      <td>False</td>\n",
              "      <td>False</td>\n",
              "      <td>True</td>\n",
              "      <td>False</td>\n",
              "      <td>True</td>\n",
              "      <td>True</td>\n",
              "      <td>True</td>\n",
              "      <td>False</td>\n",
              "      <td>False</td>\n",
              "    </tr>\n",
              "    <tr>\n",
              "      <th>4</th>\n",
              "      <td>-0.958122</td>\n",
              "      <td>0.158358</td>\n",
              "      <td>-0.158613</td>\n",
              "      <td>-0.504019</td>\n",
              "      <td>-0.358926</td>\n",
              "      <td>-0.193125</td>\n",
              "      <td>1</td>\n",
              "      <td>True</td>\n",
              "      <td>True</td>\n",
              "      <td>False</td>\n",
              "      <td>...</td>\n",
              "      <td>False</td>\n",
              "      <td>False</td>\n",
              "      <td>False</td>\n",
              "      <td>True</td>\n",
              "      <td>False</td>\n",
              "      <td>True</td>\n",
              "      <td>False</td>\n",
              "      <td>False</td>\n",
              "      <td>False</td>\n",
              "      <td>True</td>\n",
              "    </tr>\n",
              "  </tbody>\n",
              "</table>\n",
              "<p>5 rows × 38 columns</p>\n",
              "</div>\n",
              "    <div class=\"colab-df-buttons\">\n",
              "\n",
              "  <div class=\"colab-df-container\">\n",
              "    <button class=\"colab-df-convert\" onclick=\"convertToInteractive('df-f41aca99-add1-46d8-9445-b41d0366dd1a')\"\n",
              "            title=\"Convert this dataframe to an interactive table.\"\n",
              "            style=\"display:none;\">\n",
              "\n",
              "  <svg xmlns=\"http://www.w3.org/2000/svg\" height=\"24px\" viewBox=\"0 -960 960 960\">\n",
              "    <path d=\"M120-120v-720h720v720H120Zm60-500h600v-160H180v160Zm220 220h160v-160H400v160Zm0 220h160v-160H400v160ZM180-400h160v-160H180v160Zm440 0h160v-160H620v160ZM180-180h160v-160H180v160Zm440 0h160v-160H620v160Z\"/>\n",
              "  </svg>\n",
              "    </button>\n",
              "\n",
              "  <style>\n",
              "    .colab-df-container {\n",
              "      display:flex;\n",
              "      gap: 12px;\n",
              "    }\n",
              "\n",
              "    .colab-df-convert {\n",
              "      background-color: #E8F0FE;\n",
              "      border: none;\n",
              "      border-radius: 50%;\n",
              "      cursor: pointer;\n",
              "      display: none;\n",
              "      fill: #1967D2;\n",
              "      height: 32px;\n",
              "      padding: 0 0 0 0;\n",
              "      width: 32px;\n",
              "    }\n",
              "\n",
              "    .colab-df-convert:hover {\n",
              "      background-color: #E2EBFA;\n",
              "      box-shadow: 0px 1px 2px rgba(60, 64, 67, 0.3), 0px 1px 3px 1px rgba(60, 64, 67, 0.15);\n",
              "      fill: #174EA6;\n",
              "    }\n",
              "\n",
              "    .colab-df-buttons div {\n",
              "      margin-bottom: 4px;\n",
              "    }\n",
              "\n",
              "    [theme=dark] .colab-df-convert {\n",
              "      background-color: #3B4455;\n",
              "      fill: #D2E3FC;\n",
              "    }\n",
              "\n",
              "    [theme=dark] .colab-df-convert:hover {\n",
              "      background-color: #434B5C;\n",
              "      box-shadow: 0px 1px 3px 1px rgba(0, 0, 0, 0.15);\n",
              "      filter: drop-shadow(0px 1px 2px rgba(0, 0, 0, 0.3));\n",
              "      fill: #FFFFFF;\n",
              "    }\n",
              "  </style>\n",
              "\n",
              "    <script>\n",
              "      const buttonEl =\n",
              "        document.querySelector('#df-f41aca99-add1-46d8-9445-b41d0366dd1a button.colab-df-convert');\n",
              "      buttonEl.style.display =\n",
              "        google.colab.kernel.accessAllowed ? 'block' : 'none';\n",
              "\n",
              "      async function convertToInteractive(key) {\n",
              "        const element = document.querySelector('#df-f41aca99-add1-46d8-9445-b41d0366dd1a');\n",
              "        const dataTable =\n",
              "          await google.colab.kernel.invokeFunction('convertToInteractive',\n",
              "                                                    [key], {});\n",
              "        if (!dataTable) return;\n",
              "\n",
              "        const docLinkHtml = 'Like what you see? Visit the ' +\n",
              "          '<a target=\"_blank\" href=https://colab.research.google.com/notebooks/data_table.ipynb>data table notebook</a>'\n",
              "          + ' to learn more about interactive tables.';\n",
              "        element.innerHTML = '';\n",
              "        dataTable['output_type'] = 'display_data';\n",
              "        await google.colab.output.renderOutput(dataTable, element);\n",
              "        const docLink = document.createElement('div');\n",
              "        docLink.innerHTML = docLinkHtml;\n",
              "        element.appendChild(docLink);\n",
              "      }\n",
              "    </script>\n",
              "  </div>\n",
              "\n",
              "\n",
              "<div id=\"df-e7a9d752-ac50-4eac-86b4-c0a8fe68c5c5\">\n",
              "  <button class=\"colab-df-quickchart\" onclick=\"quickchart('df-e7a9d752-ac50-4eac-86b4-c0a8fe68c5c5')\"\n",
              "            title=\"Suggest charts\"\n",
              "            style=\"display:none;\">\n",
              "\n",
              "<svg xmlns=\"http://www.w3.org/2000/svg\" height=\"24px\"viewBox=\"0 0 24 24\"\n",
              "     width=\"24px\">\n",
              "    <g>\n",
              "        <path d=\"M19 3H5c-1.1 0-2 .9-2 2v14c0 1.1.9 2 2 2h14c1.1 0 2-.9 2-2V5c0-1.1-.9-2-2-2zM9 17H7v-7h2v7zm4 0h-2V7h2v10zm4 0h-2v-4h2v4z\"/>\n",
              "    </g>\n",
              "</svg>\n",
              "  </button>\n",
              "\n",
              "<style>\n",
              "  .colab-df-quickchart {\n",
              "      --bg-color: #E8F0FE;\n",
              "      --fill-color: #1967D2;\n",
              "      --hover-bg-color: #E2EBFA;\n",
              "      --hover-fill-color: #174EA6;\n",
              "      --disabled-fill-color: #AAA;\n",
              "      --disabled-bg-color: #DDD;\n",
              "  }\n",
              "\n",
              "  [theme=dark] .colab-df-quickchart {\n",
              "      --bg-color: #3B4455;\n",
              "      --fill-color: #D2E3FC;\n",
              "      --hover-bg-color: #434B5C;\n",
              "      --hover-fill-color: #FFFFFF;\n",
              "      --disabled-bg-color: #3B4455;\n",
              "      --disabled-fill-color: #666;\n",
              "  }\n",
              "\n",
              "  .colab-df-quickchart {\n",
              "    background-color: var(--bg-color);\n",
              "    border: none;\n",
              "    border-radius: 50%;\n",
              "    cursor: pointer;\n",
              "    display: none;\n",
              "    fill: var(--fill-color);\n",
              "    height: 32px;\n",
              "    padding: 0;\n",
              "    width: 32px;\n",
              "  }\n",
              "\n",
              "  .colab-df-quickchart:hover {\n",
              "    background-color: var(--hover-bg-color);\n",
              "    box-shadow: 0 1px 2px rgba(60, 64, 67, 0.3), 0 1px 3px 1px rgba(60, 64, 67, 0.15);\n",
              "    fill: var(--button-hover-fill-color);\n",
              "  }\n",
              "\n",
              "  .colab-df-quickchart-complete:disabled,\n",
              "  .colab-df-quickchart-complete:disabled:hover {\n",
              "    background-color: var(--disabled-bg-color);\n",
              "    fill: var(--disabled-fill-color);\n",
              "    box-shadow: none;\n",
              "  }\n",
              "\n",
              "  .colab-df-spinner {\n",
              "    border: 2px solid var(--fill-color);\n",
              "    border-color: transparent;\n",
              "    border-bottom-color: var(--fill-color);\n",
              "    animation:\n",
              "      spin 1s steps(1) infinite;\n",
              "  }\n",
              "\n",
              "  @keyframes spin {\n",
              "    0% {\n",
              "      border-color: transparent;\n",
              "      border-bottom-color: var(--fill-color);\n",
              "      border-left-color: var(--fill-color);\n",
              "    }\n",
              "    20% {\n",
              "      border-color: transparent;\n",
              "      border-left-color: var(--fill-color);\n",
              "      border-top-color: var(--fill-color);\n",
              "    }\n",
              "    30% {\n",
              "      border-color: transparent;\n",
              "      border-left-color: var(--fill-color);\n",
              "      border-top-color: var(--fill-color);\n",
              "      border-right-color: var(--fill-color);\n",
              "    }\n",
              "    40% {\n",
              "      border-color: transparent;\n",
              "      border-right-color: var(--fill-color);\n",
              "      border-top-color: var(--fill-color);\n",
              "    }\n",
              "    60% {\n",
              "      border-color: transparent;\n",
              "      border-right-color: var(--fill-color);\n",
              "    }\n",
              "    80% {\n",
              "      border-color: transparent;\n",
              "      border-right-color: var(--fill-color);\n",
              "      border-bottom-color: var(--fill-color);\n",
              "    }\n",
              "    90% {\n",
              "      border-color: transparent;\n",
              "      border-bottom-color: var(--fill-color);\n",
              "    }\n",
              "  }\n",
              "</style>\n",
              "\n",
              "  <script>\n",
              "    async function quickchart(key) {\n",
              "      const quickchartButtonEl =\n",
              "        document.querySelector('#' + key + ' button');\n",
              "      quickchartButtonEl.disabled = true;  // To prevent multiple clicks.\n",
              "      quickchartButtonEl.classList.add('colab-df-spinner');\n",
              "      try {\n",
              "        const charts = await google.colab.kernel.invokeFunction(\n",
              "            'suggestCharts', [key], {});\n",
              "      } catch (error) {\n",
              "        console.error('Error during call to suggestCharts:', error);\n",
              "      }\n",
              "      quickchartButtonEl.classList.remove('colab-df-spinner');\n",
              "      quickchartButtonEl.classList.add('colab-df-quickchart-complete');\n",
              "    }\n",
              "    (() => {\n",
              "      let quickchartButtonEl =\n",
              "        document.querySelector('#df-e7a9d752-ac50-4eac-86b4-c0a8fe68c5c5 button');\n",
              "      quickchartButtonEl.style.display =\n",
              "        google.colab.kernel.accessAllowed ? 'block' : 'none';\n",
              "    })();\n",
              "  </script>\n",
              "</div>\n",
              "\n",
              "    </div>\n",
              "  </div>\n"
            ],
            "application/vnd.google.colaboratory.intrinsic+json": {
              "type": "dataframe",
              "variable_name": "data"
            }
          },
          "metadata": {},
          "execution_count": 9
        }
      ]
    },
    {
      "cell_type": "markdown",
      "source": [
        "Detect X and Y"
      ],
      "metadata": {
        "id": "y7YU0bvWrOFa"
      },
      "id": "y7YU0bvWrOFa"
    },
    {
      "cell_type": "code",
      "source": [
        "# Detect X and y\n",
        "target_column = data.columns[-1]  # Automatically detects the last column\n",
        "feature = data.columns[:-1]  # Automatically detects the column\n",
        "\n",
        "X = data[feature]\n",
        "y = data[target_column].astype(int)  # Convert to integer type\n",
        "\n",
        "\n"
      ],
      "metadata": {
        "id": "wESTc7q-jpQy"
      },
      "id": "wESTc7q-jpQy",
      "execution_count": null,
      "outputs": []
    },
    {
      "cell_type": "code",
      "source": [
        "# Identify columns\n",
        "numerical_columns = data.select_dtypes(include=['int64', 'float64']).columns\n",
        "categorical_columns = data.select_dtypes(include=['object', 'category']).columns"
      ],
      "metadata": {
        "id": "h1wtXGaFhr0D"
      },
      "id": "h1wtXGaFhr0D",
      "execution_count": null,
      "outputs": []
    },
    {
      "cell_type": "code",
      "source": [
        "# Histograms for numerical columns\n",
        "data[numerical_columns].hist(bins=15, figsize=(12, 8), color='skyblue', edgecolor='black')\n",
        "plt.tight_layout()\n",
        "plt.show()\n",
        "\n"
      ],
      "metadata": {
        "colab": {
          "base_uri": "https://localhost:8080/",
          "height": 756
        },
        "id": "UbXS7kFwhwdB",
        "outputId": "e7d2686b-2ebd-452a-f28c-8a01243179e9"
      },
      "id": "UbXS7kFwhwdB",
      "execution_count": null,
      "outputs": [
        {
          "output_type": "display_data",
          "data": {
            "text/plain": [
              "<Figure size 1200x800 with 9 Axes>"
            ],
            "image/png": "[encoded data removed]"
          },
          "metadata": {}
        }
      ]
    },
    {
      "cell_type": "markdown",
      "id": "Su0QEf6OPW1G",
      "metadata": {
        "id": "Su0QEf6OPW1G"
      },
      "source": [
        "## Train-Test Split\n",
        "We will split the dataset into training and testing sets using a 70/30 split ratio."
      ]
    },
    {
      "cell_type": "code",
      "execution_count": null,
      "id": "lEB_oDJwPW1G",
      "metadata": {
        "colab": {
          "base_uri": "https://localhost:8080/"
        },
        "id": "lEB_oDJwPW1G",
        "outputId": "b43b3e24-0788-4eb7-c014-41c0894496dd"
      },
      "outputs": [
        {
          "output_type": "stream",
          "name": "stdout",
          "text": [
            "\n",
            "Step 2: Splitting the data into training and testing sets\n",
            "Class distribution in training set: {0: 418, 1: 39}\n",
            "Class distribution in testing set: {0: 182, 1: 14}\n"
          ]
        }
      ],
      "source": [
        "# Step 2: Train-Test Split\n",
        "print(\"\\nStep 2: Splitting the data into training and testing sets\")\n",
        "X_train, X_test, y_train, y_test = train_test_split(X, y, test_size=0.3, random_state=42)\n",
        "unique_train, counts_train = np.unique(y_train, return_counts=True)\n",
        "print(f\"Class distribution in training set: {dict(zip(unique_train, counts_train))}\")\n",
        "unique_test, counts_test = np.unique(y_test, return_counts=True)\n",
        "print(f\"Class distribution in testing set: {dict(zip(unique_test, counts_test))}\")"
      ]
    },
    {
      "cell_type": "markdown",
      "source": [
        "##Support Vector Machine"
      ],
      "metadata": {
        "id": "dzcsoJIgrX_3"
      },
      "id": "dzcsoJIgrX_3"
    },
    {
      "cell_type": "code",
      "execution_count": null,
      "id": "M8iJ1V3QPW1H",
      "metadata": {
        "colab": {
          "base_uri": "https://localhost:8080/"
        },
        "id": "M8iJ1V3QPW1H",
        "outputId": "2785cdd0-a810-4e42-ccf5-ed09496fa4f0"
      },
      "outputs": [
        {
          "output_type": "stream",
          "name": "stdout",
          "text": [
            "\n",
            "Step 3: Training an SVM on the imbalanced dataset\n",
            "SVM \n",
            "Metrics Before SMOTE:\n",
            "Accuracy for imbalanced dataset 0.9438775510204082\n",
            "Precision for imbalanced dataset 0.7142857142857143\n",
            "Recall for imbalanced dataset 0.35714285714285715\n",
            "F1 score for imbalanced dataset 0.47619047619047616\n",
            "True Positive 180\n",
            "True Negative 2\n",
            "False Positive 9\n",
            "False Negative 5\n",
            "Confusion Matrix Report for imbalanced dataset SVM [[180   2]\n",
            " [  9   5]]\n"
          ]
        }
      ],
      "source": [
        "# Step 3: Train an SVM on the Imbalanced Dataset\n",
        "print(\"\\nStep 3: Training an SVM on the imbalanced dataset\")\n",
        "svm = SVC(kernel='linear')\n",
        "svm.fit(X_train, y_train)\n",
        "y_pred_imbalanced = svm.predict(X_test)\n",
        "\n",
        "# Report metrics before SMOTE\n",
        "print(\"SVM \\nMetrics Before SMOTE:\")\n",
        "imbalanced_report = classification_report(y_test, y_pred_imbalanced)\n",
        "accuracy_imb_svm=accuracy_score(y_test, y_pred_imbalanced)\n",
        "precision_score_imb_svm=precision_score(y_test, y_pred_imbalanced)\n",
        "recall_score_imb_svm=recall_score(y_test, y_pred_imbalanced)\n",
        "f1_score_imb_svm=f1_score(y_test, y_pred_imbalanced)\n",
        "print(\"Accuracy for imbalanced dataset\",accuracy_imb_svm)\n",
        "print(\"Precision for imbalanced dataset\",precision_score_imb_svm)\n",
        "print(\"Recall for imbalanced dataset\",recall_score_imb_svm)\n",
        "print(\"F1 score for imbalanced dataset\",f1_score_imb_svm)\n",
        "cm_svm=confusion_matrix(y_test, y_pred_imbalanced)\n",
        "#Get values for TP, TN, FP, FN\n",
        "TP,TN,FP, FN =cm_svm.ravel()\n",
        "print(\"True Positive\",TP)\n",
        "print(\"True Negative\",TN)\n",
        "print(\"False Positive\",FP)\n",
        "print(\"False Negative\",FN)\n",
        "print(\"Confusion Matrix Report for imbalanced dataset SVM\", cm_svm)\n"
      ]
    },
    {
      "cell_type": "markdown",
      "source": [
        "##Decision Tree"
      ],
      "metadata": {
        "id": "XjyVRcBbrcNL"
      },
      "id": "XjyVRcBbrcNL"
    },
    {
      "cell_type": "code",
      "source": [
        "# Step 3: Train an decision tree on the Imbalanced Dataset\n",
        "print(\"\\nStep 3: Training an decision tree on the imbalanced dataset\")\n",
        "dtree = DecisionTreeClassifier(random_state=42)\n",
        "dtree .fit(X_train, y_train)\n",
        "y_pred_imbalanced = dtree.predict(X_test)\n",
        "\n",
        "# Report metrics before SMOTE\n",
        "print(\"Decison Tree \\nMetrics Before SMOTE:\")\n",
        "imbalanced_report = classification_report(y_test, y_pred_imbalanced)\n",
        "accuracy_imb_dtree=accuracy_score(y_test, y_pred_imbalanced)\n",
        "precision_score_imb_dtree=precision_score(y_test, y_pred_imbalanced)\n",
        "recall_score_imb_dtree=recall_score(y_test, y_pred_imbalanced)\n",
        "f1_score_imb_dtree=f1_score(y_test, y_pred_imbalanced)\n",
        "print(\"Accuracy for imbalanced dataset\",accuracy_imb_dtree)\n",
        "print(\"Precision for imbalanced dataset\",precision_score_imb_dtree)\n",
        "print(\"Recall for imbalanced dataset\",recall_score_imb_dtree)\n",
        "print(\"F1 score for imbalanced dataset\",f1_score_imb_dtree)\n",
        "cm_dtree=confusion_matrix(y_test, y_pred_imbalanced)\n",
        "#Get values for TP, TN, FP, FN\n",
        "TP,TN,FP, FN =cm_dtree.ravel()\n",
        "print(\"True Positive\",TP)\n",
        "print(\"True Negative\",TN)\n",
        "print(\"False Positive\",FP)\n",
        "print(\"False Negative\",FN)\n",
        "print(\"Confusion Matrix Report for imbalanced dataset Decision Tree\", cm_dtree)"
      ],
      "metadata": {
        "colab": {
          "base_uri": "https://localhost:8080/"
        },
        "id": "UvyHYYLN3n5x",
        "outputId": "52f05f74-c850-4953-f036-319ecdfb8214"
      },
      "id": "UvyHYYLN3n5x",
      "execution_count": null,
      "outputs": [
        {
          "output_type": "stream",
          "name": "stdout",
          "text": [
            "\n",
            "Step 3: Training an decision tree on the imbalanced dataset\n",
            "Decison Tree \n",
            "Metrics Before SMOTE:\n",
            "Accuracy for imbalanced dataset 0.8826530612244898\n",
            "Precision for imbalanced dataset 0.2857142857142857\n",
            "Recall for imbalanced dataset 0.42857142857142855\n",
            "F1 score for imbalanced dataset 0.34285714285714286\n",
            "True Positive 167\n",
            "True Negative 15\n",
            "False Positive 8\n",
            "False Negative 6\n",
            "Confusion Matrix Report for imbalanced dataset Decision Tree [[167  15]\n",
            " [  8   6]]\n"
          ]
        }
      ]
    },
    {
      "cell_type": "markdown",
      "source": [
        "##Perceptron"
      ],
      "metadata": {
        "id": "gZEwPTWIrf2q"
      },
      "id": "gZEwPTWIrf2q"
    },
    {
      "cell_type": "code",
      "source": [
        "# Step 3: Train an perceptron on the Imbalanced Dataset\n",
        "print(\"\\nStep 3: Training an perceptron on the imbalanced dataset\")\n",
        "perceptron = Perceptron(random_state=42)\n",
        "perceptron .fit(X_train, y_train)\n",
        "y_pred_imbalanced = perceptron.predict(X_test)\n",
        "\n",
        "# Report metrics before SMOTE\n",
        "print(\"Perceptron \\nMetrics Before SMOTE:\")\n",
        "imbalanced_report = classification_report(y_test, y_pred_imbalanced)\n",
        "accuracy_imb_percep=accuracy_score(y_test, y_pred_imbalanced)\n",
        "precision_score_imb_percep=precision_score(y_test, y_pred_imbalanced)\n",
        "recall_score_imb_percep=recall_score(y_test, y_pred_imbalanced)\n",
        "f1_score_imb_percep=f1_score(y_test, y_pred_imbalanced)\n",
        "print(\"Accuracy for imbalanced dataset\",accuracy_imb_percep)\n",
        "print(\"Precision for imbalanced dataset\",precision_score_imb_percep)\n",
        "print(\"Recall for imbalanced dataset\",recall_score_imb_percep)\n",
        "print(\"F1 score for imbalanced dataset\",f1_score_imb_percep)\n",
        "cm_perceptron=confusion_matrix(y_test, y_pred_imbalanced)\n",
        "#Get values for TP, TN, FP, FN\n",
        "TP,TN,FP, FN =cm_perceptron.ravel()\n",
        "print(\"True Positive\",TP)\n",
        "print(\"True Negative\",TN)\n",
        "print(\"False Positive\",FP)\n",
        "print(\"False Negative\",FN)\n",
        "print(\"Confusion Matrix Report for imbalanced dataset Perceptron\", cm_perceptron)"
      ],
      "metadata": {
        "colab": {
          "base_uri": "https://localhost:8080/"
        },
        "id": "PXMqcTJJ6cH_",
        "outputId": "1fa850c4-7976-4413-8d5a-f81cbc44494c"
      },
      "id": "PXMqcTJJ6cH_",
      "execution_count": null,
      "outputs": [
        {
          "output_type": "stream",
          "name": "stdout",
          "text": [
            "\n",
            "Step 3: Training an perceptron on the imbalanced dataset\n",
            "Perceptron \n",
            "Metrics Before SMOTE:\n",
            "Accuracy for imbalanced dataset 0.9081632653061225\n",
            "Precision for imbalanced dataset 0.16666666666666666\n",
            "Recall for imbalanced dataset 0.07142857142857142\n",
            "F1 score for imbalanced dataset 0.1\n",
            "True Positive 177\n",
            "True Negative 5\n",
            "False Positive 13\n",
            "False Negative 1\n",
            "Confusion Matrix Report for imbalanced dataset Perceptron [[177   5]\n",
            " [ 13   1]]\n"
          ]
        }
      ]
    },
    {
      "cell_type": "markdown",
      "source": [
        "##Ensemble Random Forest"
      ],
      "metadata": {
        "id": "FmYxsD37ru5M"
      },
      "id": "FmYxsD37ru5M"
    },
    {
      "cell_type": "code",
      "execution_count": null,
      "id": "b51f0d28-96c9-4222-8a4b-42f4920b7059",
      "metadata": {
        "colab": {
          "base_uri": "https://localhost:8080/"
        },
        "id": "b51f0d28-96c9-4222-8a4b-42f4920b7059",
        "outputId": "7645235d-f578-44a6-f7d6-79d27993d980"
      },
      "outputs": [
        {
          "output_type": "stream",
          "name": "stdout",
          "text": [
            "\n",
            "Step 4: Applying Ensemble Random Forest to imbalanced dataset\n",
            "Training an Ensemble Random Foreston the imbalanced dataset\n",
            "Random forest \n",
            "Classification Report :\n",
            "              precision    recall  f1-score   support\n",
            "\n",
            "           0       0.94      0.99      0.97       182\n",
            "           1       0.60      0.21      0.32        14\n",
            "\n",
            "    accuracy                           0.93       196\n",
            "   macro avg       0.77      0.60      0.64       196\n",
            "weighted avg       0.92      0.93      0.92       196\n",
            "\n",
            "Accuracy for imbalanced dataset 0.9336734693877551\n",
            "Precision for imbalanced dataset 0.6\n",
            "Recall for imbalanced dataset 0.21428571428571427\n",
            "F1 score for imbalanced dataset 0.3157894736842105\n",
            "True Positive 180\n",
            "True Negative 2\n",
            "False Positive 11\n",
            "False Negative 3\n",
            "Confusion Matrix Report for imbalanced dataset Random Forest [[180   2]\n",
            " [ 11   3]]\n"
          ]
        }
      ],
      "source": [
        "# Step 4: Apply Ensemble Random Forest\n",
        "print(\"\\nStep 4: Applying Ensemble Random Forest to imbalanced dataset\")\n",
        "rftree = RandomForestClassifier(random_state=42)\n",
        "\n",
        "# Train an Ensemble Random Forest on the Imbalanced Dataset\n",
        "print(\"Training an Ensemble Random Foreston the imbalanced dataset\")\n",
        "rftree .fit(X_train, y_train)\n",
        "y_pred_imbalanced = rftree.predict(X_test)\n",
        "\n",
        "# Report metrics\n",
        "print(\"Random forest \\nClassification Report :\")\n",
        "imbalanced_report = classification_report(y_test, y_pred_imbalanced)\n",
        "print(imbalanced_report)\n",
        "accuracy_imbal_rf=accuracy_score(y_test, y_pred_imbalanced)\n",
        "precision_imbal_rf=precision_score(y_test, y_pred_imbalanced)\n",
        "recall_imbal_rf=recall_score(y_test, y_pred_imbalanced)\n",
        "f1_score_imbal_rf=f1_score(y_test, y_pred_imbalanced)\n",
        "print(\"Accuracy for imbalanced dataset\",accuracy_imbal_rf)\n",
        "print(\"Precision for imbalanced dataset\",precision_imbal_rf)\n",
        "print(\"Recall for imbalanced dataset\",recall_imbal_rf)\n",
        "print(\"F1 score for imbalanced dataset\",f1_score_imbal_rf)\n",
        "cm_rf=confusion_matrix(y_test, y_pred_imbalanced)\n",
        "#Get values for TP, TN, FP, FN\n",
        "TP,TN,FP, FN =cm_rf.ravel()\n",
        "print(\"True Positive\",TP)\n",
        "print(\"True Negative\",TN)\n",
        "print(\"False Positive\",FP)\n",
        "print(\"False Negative\",FN)\n",
        "print(\"Confusion Matrix Report for imbalanced dataset Random Forest\", cm_rf)"
      ]
    },
    {
      "cell_type": "markdown",
      "id": "C2GJR_-iPW1H",
      "metadata": {
        "id": "C2GJR_-iPW1H"
      },
      "source": [
        "## Visualizing Class Distribution Before SMOTE\n",
        "We will plot the class distribution in the training set before applying SMOTE."
      ]
    },
    {
      "cell_type": "code",
      "execution_count": null,
      "id": "SweCmCnPPW1H",
      "metadata": {
        "colab": {
          "base_uri": "https://localhost:8080/",
          "height": 564
        },
        "id": "SweCmCnPPW1H",
        "outputId": "6140dc04-5cb6-40fb-c1a8-638b8e1a6ff6"
      },
      "outputs": [
        {
          "output_type": "display_data",
          "data": {
            "text/plain": [
              "<Figure size 600x600 with 1 Axes>"
            ],
            "image/png": "[encoded data removed]"
          },
          "metadata": {}
        }
      ],
      "source": [
        "# Plot the class distribution before SMOTE\n",
        "plt.figure(figsize=(6, 6))\n",
        "sns.barplot(x=list(unique_train), y=list(counts_train))\n",
        "plt.title('Class Distribution Before SMOTE')\n",
        "plt.xlabel('Class')\n",
        "plt.ylabel('Number of Samples')\n",
        "plt.show()"
      ]
    },
    {
      "cell_type": "markdown",
      "id": "3AbmY6YdPW1H",
      "metadata": {
        "id": "3AbmY6YdPW1H"
      },
      "source": [
        "## Apply SMOTE\n",
        "We will apply SMOTE (Synthetic Minority Oversampling Technique) to balance the training set and ensure both classes have an equal number of samples."
      ]
    },
    {
      "cell_type": "code",
      "execution_count": null,
      "id": "S7h5d-XsPW1H",
      "metadata": {
        "colab": {
          "base_uri": "https://localhost:8080/"
        },
        "id": "S7h5d-XsPW1H",
        "outputId": "7f11133d-fb82-4a65-b1f8-d34b0cfb966b"
      },
      "outputs": [
        {
          "output_type": "stream",
          "name": "stdout",
          "text": [
            "\n",
            "Step 4: Applying SMOTE to balance the training set\n",
            "Class distribution after applying SMOTE: {0: 418, 1: 418}\n"
          ]
        }
      ],
      "source": [
        "# Step 4: Apply SMOTE\n",
        "print(\"\\nStep 4: Applying SMOTE to balance the training set\")\n",
        "smote = SMOTE(random_state=42)\n",
        "X_train_smote, y_train_smote = smote.fit_resample(X_train, y_train)\n",
        "unique_smote, counts_smote = np.unique(y_train_smote, return_counts=True)\n",
        "print(f\"Class distribution after applying SMOTE: {dict(zip(unique_smote, counts_smote))}\")"
      ]
    },
    {
      "cell_type": "markdown",
      "source": [
        "##We will retrain all the models on the SMOTE-balanced dataset and report the new metrics."
      ],
      "metadata": {
        "id": "K1VLUc7PsiHj"
      },
      "id": "K1VLUc7PsiHj"
    },
    {
      "cell_type": "markdown",
      "id": "R_P3A9nKPW1I",
      "metadata": {
        "id": "R_P3A9nKPW1I"
      },
      "source": [
        "## Train an SVM on the Balanced Dataset\n",
        "\n",
        "\n",
        "\n"
      ]
    },
    {
      "cell_type": "code",
      "execution_count": null,
      "id": "tsotl6o1PW1I",
      "metadata": {
        "colab": {
          "base_uri": "https://localhost:8080/"
        },
        "id": "tsotl6o1PW1I",
        "outputId": "04281afd-8ae6-449e-f309-d89d1c411ae7"
      },
      "outputs": [
        {
          "output_type": "stream",
          "name": "stdout",
          "text": [
            "\n",
            "Step 5: Training an SVM on the SMOTE-balanced dataset\n",
            "SVM \n",
            "Classification Report After SMOTE:\n",
            "              precision    recall  f1-score   support\n",
            "\n",
            "           0       0.95      0.94      0.94       182\n",
            "           1       0.31      0.36      0.33        14\n",
            "\n",
            "    accuracy                           0.90       196\n",
            "   macro avg       0.63      0.65      0.64       196\n",
            "weighted avg       0.90      0.90      0.90       196\n",
            "\n",
            "Accuracy for balanced dataset 0.8979591836734694\n",
            "Precision for balanced dataset 0.3125\n",
            "Recall for balanced dataset 0.35714285714285715\n",
            "F1 score for balanced dataset 0.3333333333333333\n",
            "True Positive 171\n",
            "True Negative 11\n",
            "False Positive 9\n",
            "False Negative 5\n",
            "Confusion Matrix Report for balanced dataset SVM [[171  11]\n",
            " [  9   5]]\n"
          ]
        }
      ],
      "source": [
        "# Step 5: Train an SVM on the Balanced Dataset\n",
        "print(\"\\nStep 5: Training an SVM on the SMOTE-balanced dataset\")\n",
        "svm_smote = SVC(kernel='linear', random_state=42)\n",
        "svm_smote.fit(X_train_smote, y_train_smote)\n",
        "y_pred_smote = svm_smote.predict(X_test)\n",
        "\n",
        "# Report metrics after SMOTE\n",
        "print(\"SVM \\nClassification Report After SMOTE:\")\n",
        "smote_report = classification_report(y_test, y_pred_smote)\n",
        "print(smote_report)\n",
        "accuracy_bal_svm=accuracy_score(y_test, y_pred_smote)\n",
        "precision_score_bal_svm=precision_score(y_test, y_pred_smote)\n",
        "recall_score_bal_svm=recall_score(y_test, y_pred_smote)\n",
        "f1_score_ibal_svm=f1_score(y_test, y_pred_smote)\n",
        "print(\"Accuracy for balanced dataset\",accuracy_bal_svm)\n",
        "print(\"Precision for balanced dataset\",precision_score_bal_svm)\n",
        "print(\"Recall for balanced dataset\",recall_score_bal_svm)\n",
        "print(\"F1 score for balanced dataset\",f1_score_ibal_svm)\n",
        "cm_svm_smote=confusion_matrix(y_test, y_pred_smote)\n",
        "#Get values for TP, TN, FP, FN\n",
        "TP,TN,FP, FN =cm_svm_smote.ravel()\n",
        "print(\"True Positive\",TP)\n",
        "print(\"True Negative\",TN)\n",
        "print(\"False Positive\",FP)\n",
        "print(\"False Negative\",FN)\n",
        "print(\"Confusion Matrix Report for balanced dataset SVM\", cm_svm_smote)"
      ]
    },
    {
      "cell_type": "markdown",
      "source": [
        "## Train an Decision Tree on the Balanced Dataset\n"
      ],
      "metadata": {
        "id": "ijNyeSvpsu7_"
      },
      "id": "ijNyeSvpsu7_"
    },
    {
      "cell_type": "code",
      "source": [
        "# Step 5: Train an decision tree on the Balanced Dataset\n",
        "print(\"\\nStep 5: Training an decision tree on the SMOTE-balanced dataset\")\n",
        "dtree_smote = DecisionTreeClassifier(random_state=42)\n",
        "dtree_smote.fit(X_train_smote, y_train_smote)\n",
        "y_pred_smote = dtree_smote.predict(X_test)\n",
        "\n",
        "# Report metrics after SMOTE\n",
        "print(\" Decision Tree \\nClassification Report After SMOTE:\")\n",
        "smote_report = classification_report(y_test, y_pred_smote)\n",
        "print(smote_report)\n",
        "accuracy_bal_dtree=accuracy_score(y_test, y_pred_smote)\n",
        "precision_score_bal_dtree=precision_score(y_test, y_pred_smote)\n",
        "recall_score_bal_dtree=recall_score(y_test, y_pred_smote)\n",
        "f1_score_ibal_dtree=f1_score(y_test, y_pred_smote)\n",
        "print(\"Accuracy for balanced dataset\",accuracy_bal_dtree)\n",
        "print(\"Precision for balanced dataset\",precision_score_bal_dtree)\n",
        "print(\"Recall for balanced dataset\",recall_score_bal_dtree)\n",
        "print(\"F1 score for balanced dataset\",f1_score_ibal_dtree)\n",
        "cm_dtree_smote=confusion_matrix(y_test, y_pred_smote)\n",
        "#Get values for TP, TN, FP, FN\n",
        "TP,TN,FP, FN =cm_dtree_smote.ravel()\n",
        "print(\"True Positive\",TP)\n",
        "print(\"True Negative\",TN)\n",
        "print(\"False Positive\",FP)\n",
        "print(\"False Negative\",FN)\n",
        "print(\"Confusion Matrix Report for balanced dataset Decison Tree\", cm_dtree_smote)"
      ],
      "metadata": {
        "colab": {
          "base_uri": "https://localhost:8080/"
        },
        "id": "v2A_mws453jZ",
        "outputId": "d5fcf2e3-2fea-435b-8030-596d01130a59"
      },
      "id": "v2A_mws453jZ",
      "execution_count": null,
      "outputs": [
        {
          "output_type": "stream",
          "name": "stdout",
          "text": [
            "\n",
            "Step 5: Training an decision tree on the SMOTE-balanced dataset\n",
            " Decision Tree \n",
            "Classification Report After SMOTE:\n",
            "              precision    recall  f1-score   support\n",
            "\n",
            "           0       0.97      0.90      0.93       182\n",
            "           1       0.32      0.64      0.43        14\n",
            "\n",
            "    accuracy                           0.88       196\n",
            "   macro avg       0.65      0.77      0.68       196\n",
            "weighted avg       0.92      0.88      0.90       196\n",
            "\n",
            "Accuracy for balanced dataset 0.8775510204081632\n",
            "Precision for balanced dataset 0.32142857142857145\n",
            "Recall for balanced dataset 0.6428571428571429\n",
            "F1 score for balanced dataset 0.42857142857142855\n",
            "True Positive 163\n",
            "True Negative 19\n",
            "False Positive 5\n",
            "False Negative 9\n",
            "Confusion Matrix Report for balanced dataset Decison Tree [[163  19]\n",
            " [  5   9]]\n"
          ]
        }
      ]
    },
    {
      "cell_type": "markdown",
      "source": [
        "## Train an Perceptron on the Balanced Dataset\n"
      ],
      "metadata": {
        "id": "x44IoJnasyTj"
      },
      "id": "x44IoJnasyTj"
    },
    {
      "cell_type": "code",
      "source": [
        "# Step 5: Train an Perceptron on the Balanced Dataset\n",
        "print(\"\\nStep 5: Training an perceptron on the SMOTE-balanced dataset\")\n",
        "perceptron_smote = Perceptron(random_state=42)\n",
        "perceptron_smote.fit(X_train_smote, y_train_smote)\n",
        "y_pred_smote = perceptron_smote.predict(X_test)\n",
        "\n",
        "# Report metrics after SMOTE\n",
        "print(\"Perceptron \\nClassification Report After SMOTE:\")\n",
        "smote_report = classification_report(y_test, y_pred_smote)\n",
        "print(smote_report)\n",
        "accuracy_bal_percep=accuracy_score(y_test, y_pred_smote)\n",
        "precision_score_bal_percep=precision_score(y_test, y_pred_smote)\n",
        "recall_score_bal_percep=recall_score(y_test, y_pred_smote)\n",
        "f1_score_ibal_percep=f1_score(y_test, y_pred_smote)\n",
        "print(\"Accuracy for balanced dataset\",accuracy_bal_percep)\n",
        "print(\"Precision for balanced dataset\",precision_score_bal_percep)\n",
        "print(\"Recall for balanced dataset\",recall_score_bal_percep)\n",
        "print(\"F1 score for balanced dataset\",f1_score_ibal_percep)\n",
        "cm_perceptron_smote=confusion_matrix(y_test, y_pred_smote)\n",
        "#Get values for TP, TN, FP, FN\n",
        "TP,TN,FP, FN =cm_perceptron_smote.ravel()\n",
        "print(\"True Positive\",TP)\n",
        "print(\"True Negative\",TN)\n",
        "print(\"False Positive\",FP)\n",
        "print(\"False Negative\",FN)\n",
        "print(\"Confusion Matrix Report for balanced dataset Perceptron\", cm_perceptron_smote)"
      ],
      "metadata": {
        "colab": {
          "base_uri": "https://localhost:8080/"
        },
        "id": "w6VNacu37ws5",
        "outputId": "4cff8484-c34f-4e7f-d576-a90e0cdae5cd"
      },
      "id": "w6VNacu37ws5",
      "execution_count": null,
      "outputs": [
        {
          "output_type": "stream",
          "name": "stdout",
          "text": [
            "\n",
            "Step 5: Training an perceptron on the SMOTE-balanced dataset\n",
            "Perceptron \n",
            "Classification Report After SMOTE:\n",
            "              precision    recall  f1-score   support\n",
            "\n",
            "           0       0.98      0.79      0.88       182\n",
            "           1       0.22      0.79      0.35        14\n",
            "\n",
            "    accuracy                           0.79       196\n",
            "   macro avg       0.60      0.79      0.61       196\n",
            "weighted avg       0.93      0.79      0.84       196\n",
            "\n",
            "Accuracy for balanced dataset 0.7908163265306123\n",
            "Precision for balanced dataset 0.22448979591836735\n",
            "Recall for balanced dataset 0.7857142857142857\n",
            "F1 score for balanced dataset 0.3492063492063492\n",
            "True Positive 144\n",
            "True Negative 38\n",
            "False Positive 3\n",
            "False Negative 11\n",
            "Confusion Matrix Report for balanced dataset Perceptron [[144  38]\n",
            " [  3  11]]\n"
          ]
        }
      ]
    },
    {
      "cell_type": "markdown",
      "source": [
        "## Train Ensemble Random Forest on Balanced Dataset"
      ],
      "metadata": {
        "id": "IMwcpXTf-TKm"
      },
      "id": "IMwcpXTf-TKm"
    },
    {
      "cell_type": "code",
      "source": [
        "# Step 4: Apply Ensemble Random Forest on Balanced dataset\n",
        "print(\"\\nStep 4: Applying Ensemble Random Forest to balance the training set\")\n",
        "rftree = RandomForestClassifier(random_state=42)\n",
        "\n",
        "# Train an Ensemble Random Forest on the balanced Dataset\n",
        "print(\"Training an Ensemble Random Foreston the balanced dataset\")\n",
        "rftree .fit(X_train_smote, y_train_smote)\n",
        "y_pred_balanced = rftree.predict(X_test)\n",
        "\n",
        "# Report metrics\n",
        "print(\"Random Forest \\nClassification Report :\")\n",
        "imbalanced_report = classification_report(y_test, y_pred_balanced)\n",
        "print(imbalanced_report)\n",
        "accuracy_bal_rf=accuracy_score(y_test, y_pred_balanced)\n",
        "precision_bal_rf=precision_score(y_test, y_pred_balanced)\n",
        "recall_bal_rf=recall_score(y_test, y_pred_balanced)\n",
        "f1_score_bal_rf=f1_score(y_test, y_pred_balanced)\n",
        "print(\"Accuracy for balanced dataset\",accuracy_bal_rf)\n",
        "print(\"Precision for balanced dataset\",precision_bal_rf)\n",
        "print(\"Recall for balanced dataset\",recall_bal_rf)\n",
        "print(\"F1 score for balanced dataset\",f1_score_bal_rf)\n",
        "cm_rf_smote=confusion_matrix(y_test, y_pred_balanced)\n",
        "#Get values for TP, TN, FP, FN\n",
        "TP,TN,FP, FN =cm_rf_smote.ravel()\n",
        "print(\"True Positive\",TP)\n",
        "print(\"True Negative\",TN)\n",
        "print(\"False Positive\",FP)\n",
        "print(\"False Negative\",FN)\n",
        "print(\"Confusion Matrix Report for balanced dataset Random forest\", cm_rf_smote)"
      ],
      "metadata": {
        "colab": {
          "base_uri": "https://localhost:8080/"
        },
        "id": "8nCb0noQ7mN0",
        "outputId": "8cadac62-1951-46b6-9933-871e115defd9"
      },
      "id": "8nCb0noQ7mN0",
      "execution_count": null,
      "outputs": [
        {
          "output_type": "stream",
          "name": "stdout",
          "text": [
            "\n",
            "Step 4: Applying Ensemble Random Forest to balance the training set\n",
            "Training an Ensemble Random Foreston the balanced dataset\n",
            "Random Forest \n",
            "Classification Report :\n",
            "              precision    recall  f1-score   support\n",
            "\n",
            "           0       0.96      0.95      0.95       182\n",
            "           1       0.38      0.43      0.40        14\n",
            "\n",
            "    accuracy                           0.91       196\n",
            "   macro avg       0.67      0.69      0.68       196\n",
            "weighted avg       0.91      0.91      0.91       196\n",
            "\n",
            "Accuracy for balanced dataset 0.9081632653061225\n",
            "Precision for balanced dataset 0.375\n",
            "Recall for balanced dataset 0.42857142857142855\n",
            "F1 score for balanced dataset 0.4\n",
            "True Positive 172\n",
            "True Negative 10\n",
            "False Positive 8\n",
            "False Negative 6\n",
            "Confusion Matrix Report for balanced dataset Random forest [[172  10]\n",
            " [  8   6]]\n"
          ]
        }
      ]
    },
    {
      "cell_type": "markdown",
      "id": "cTUZReX0PW1I",
      "metadata": {
        "id": "cTUZReX0PW1I"
      },
      "source": [
        "## Step 7: Visualizing Class Distribution After SMOTE\n",
        "We will plot the class distribution after applying SMOTE."
      ]
    },
    {
      "cell_type": "code",
      "execution_count": null,
      "id": "Q30fZLcXPW1I",
      "metadata": {
        "colab": {
          "base_uri": "https://localhost:8080/",
          "height": 564
        },
        "id": "Q30fZLcXPW1I",
        "outputId": "4b952a99-3db2-463e-cf9f-cc327bb9298e"
      },
      "outputs": [
        {
          "output_type": "display_data",
          "data": {
            "text/plain": [
              "<Figure size 600x600 with 1 Axes>"
            ],
            "image/png": "[encoded data removed]"
          },
          "metadata": {}
        }
      ],
      "source": [
        "# Plot the class distribution after SMOTE\n",
        "plt.figure(figsize=(6, 6))\n",
        "sns.barplot(x=list(unique_smote), y=list(counts_smote))\n",
        "plt.title('Class Distribution After SMOTE')\n",
        "plt.xlabel('Class')\n",
        "plt.ylabel('Number of Samples')\n",
        "plt.show()"
      ]
    },
    {
      "cell_type": "markdown",
      "source": [
        "Visualization of the Baseline models using Bar graph"
      ],
      "metadata": {
        "id": "6coGAB9v1shU"
      },
      "id": "6coGAB9v1shU"
    },
    {
      "cell_type": "code",
      "source": [
        "from re import A\n",
        "# Define your metrics\n",
        "plt.figure(figsize=(12, 10))\n",
        "metrics = ['Accuracy', 'F1-score', 'Precision','Recall']\n",
        "BeforeSmote_SVM = [\n",
        "    accuracy_imb_svm, f1_score_imb_svm, precision_score_imb_svm, recall_score_imb_svm]\n",
        "BeforeSmote_Perceptron = [\n",
        "    accuracy_imb_percep, f1_score_imb_percep, precision_score_imb_percep, recall_score_imb_percep]\n",
        "BeforeSmote_DecisionTree = [\n",
        "    accuracy_imb_dtree, f1_score_imb_dtree, precision_score_imb_dtree, recall_score_imb_dtree]\n",
        "BeforeSmote_RandomForest = [\n",
        "    accuracy_imbal_rf, f1_score_imbal_rf, precision_imbal_rf, recall_imbal_rf]\n",
        "#----------------------------------------------------------------------------------------------------------\n",
        "AfterSmote_SVM=[\n",
        "accuracy_bal_svm, f1_score_ibal_svm, precision_score_bal_svm, recall_score_bal_svm]\n",
        "AfterSmote_Perceptron = [\n",
        "    accuracy_bal_percep, f1_score_ibal_percep, precision_score_bal_percep, recall_score_bal_percep]\n",
        "AfterSmote_DecisionTree = [\n",
        "    accuracy_bal_dtree, f1_score_ibal_dtree, precision_score_bal_dtree, recall_score_bal_dtree]\n",
        "AfterSmote_RandomForest = [\n",
        "    accuracy_bal_rf, f1_score_bal_rf, precision_bal_rf, recall_bal_rf]\n",
        "\n",
        "# Plot comparison\n",
        "index = np.arange(len(metrics))\n",
        "bar_width = 0.1\n",
        "\n",
        "plt.bar(index, BeforeSmote_SVM, bar_width, label='BeforeSmote_SVM')\n",
        "plt.bar(index + bar_width*1, BeforeSmote_Perceptron, bar_width, label='BeforeSmote_Perceptron')\n",
        "plt.bar(index + bar_width*2, BeforeSmote_DecisionTree, bar_width, label='BeforeSmote_DecisionTree')\n",
        "plt.bar(index + bar_width*3, BeforeSmote_RandomForest, bar_width, label='BeforeSmote_RandomForest')\n",
        "plt.bar(index + bar_width*4, AfterSmote_SVM, bar_width, label='AfterSmote_SVM')\n",
        "plt.bar(index + bar_width*5, AfterSmote_Perceptron, bar_width, label='AfterSmote_Perceptron')\n",
        "plt.bar(index + bar_width*6, AfterSmote_DecisionTree, bar_width, label='AfterSmote_DecisionTree')\n",
        "plt.bar(index + bar_width*7, AfterSmote_RandomForest, bar_width, label='AfterSmote_RandomForest')\n",
        "\n",
        "plt.xlabel('Metrics')\n",
        "plt.ylabel('Scores')\n",
        "plt.title('Model Comparison for before and after SMOTE')\n",
        "plt.xticks(index + bar_width, metrics)\n",
        "plt.legend()\n",
        "plt.show()"
      ],
      "metadata": {
        "colab": {
          "base_uri": "https://localhost:8080/",
          "height": 872
        },
        "id": "PyHGh9WdmCAo",
        "outputId": "4e5c6338-d8d7-4a91-dac4-109fe5ce66f2"
      },
      "id": "PyHGh9WdmCAo",
      "execution_count": null,
      "outputs": [
        {
          "output_type": "display_data",
          "data": {
            "text/plain": [
              "<Figure size 1200x1000 with 1 Axes>"
            ],
            "image/png": "[encoded data removed]"
          },
          "metadata": {}
        }
      ]
    },
    {
      "cell_type": "markdown",
      "source": [
        "## Apply Hyper Parameter Tuning on Imbalanced Dataset\n"
      ],
      "metadata": {
        "id": "EvTjWdPDtt_I"
      },
      "id": "EvTjWdPDtt_I"
    },
    {
      "cell_type": "code",
      "source": [
        "# list of models\n",
        "models = [Perceptron(), SVC(kernel='linear'), DecisionTreeClassifier(), RandomForestClassifier(random_state=0)]"
      ],
      "metadata": {
        "id": "zkyLzuZM5J6r"
      },
      "id": "zkyLzuZM5J6r",
      "execution_count": null,
      "outputs": []
    },
    {
      "cell_type": "markdown",
      "source": [
        "Comparing the models with different Hyperparameter values using GridSearchCV"
      ],
      "metadata": {
        "id": "hf3Pw5XvCAOw"
      },
      "id": "hf3Pw5XvCAOw"
    },
    {
      "cell_type": "code",
      "source": [
        "models_list = [Perceptron(), SVC(kernel='linear'), DecisionTreeClassifier(), RandomForestClassifier(random_state=0)]"
      ],
      "metadata": {
        "id": "XsXJw2RFB3B4"
      },
      "id": "XsXJw2RFB3B4",
      "execution_count": null,
      "outputs": []
    },
    {
      "cell_type": "code",
      "source": [
        "# creating a dictionary that contains hyperparameter values for the above mentioned models\n",
        "\n",
        "\n",
        "model_hyperparameters = {\n",
        "    'perceptron_hyperparameters': {\n",
        "        'alpha': [0.0001, 0.001, 0.01, 0.1, 1.0, 10.0, 100],  # Regularization strength\n",
        "        'max_iter': [1000, 5000, 10000]       # Number of iterations\n",
        "    },\n",
        "    'svc_hyperparameters': {\n",
        "        'kernel': ['linear', 'poly', 'rbf', 'sigmoid'],  # Kernel types\n",
        "        'C': [1, 5, 10, 20]                             # Regularization strength\n",
        "    },\n",
        "    'decision_tree_hyperparameters': {\n",
        "        'max_depth': [5, 10, 20, 30, 40, 50],                # Maximum depth of tree\n",
        "        'min_samples_split': [2, 5, 10],                # Minimum samples to split a node\n",
        "        'criterion': ['gini', 'entropy']                # Splitting criteria\n",
        "    },\n",
        "    'random_forest_hyperparameters': {\n",
        "        'n_estimators': [10, 20, 50, 100, 500, 1000],              # Number of trees\n",
        "        'max_depth': [5, 10, 20, 30, 40, 50],                    # Maximum depth of trees\n",
        "        'min_samples_split': [2, 5, 10, 20],                 # Minimum samples to split a node\n",
        "        'max_features': ['sqrt', 'log2', None]\n",
        "    }\n",
        "}\n"
      ],
      "metadata": {
        "id": "7fUa55huCcw1"
      },
      "id": "7fUa55huCcw1",
      "execution_count": null,
      "outputs": []
    },
    {
      "cell_type": "code",
      "source": [
        "type(model_hyperparameters)"
      ],
      "metadata": {
        "id": "mfkZAJ24DXYo",
        "colab": {
          "base_uri": "https://localhost:8080/"
        },
        "outputId": "0ae407e2-a0c7-4f7e-c3bc-6456247ec48d"
      },
      "id": "mfkZAJ24DXYo",
      "execution_count": null,
      "outputs": [
        {
          "output_type": "execute_result",
          "data": {
            "text/plain": [
              "dict"
            ]
          },
          "metadata": {},
          "execution_count": 29
        }
      ]
    },
    {
      "cell_type": "code",
      "source": [
        "print(model_hyperparameters.keys())"
      ],
      "metadata": {
        "id": "R6tEJIH0Da9Q",
        "colab": {
          "base_uri": "https://localhost:8080/"
        },
        "outputId": "f4624c6e-8b12-4b18-8160-397053271823"
      },
      "id": "R6tEJIH0Da9Q",
      "execution_count": null,
      "outputs": [
        {
          "output_type": "stream",
          "name": "stdout",
          "text": [
            "dict_keys(['perceptron_hyperparameters', 'svc_hyperparameters', 'decision_tree_hyperparameters', 'random_forest_hyperparameters'])\n"
          ]
        }
      ]
    },
    {
      "cell_type": "code",
      "source": [
        "model_keys = list(model_hyperparameters.keys())\n",
        "print(model_keys)"
      ],
      "metadata": {
        "id": "kWesgetfEehJ",
        "colab": {
          "base_uri": "https://localhost:8080/"
        },
        "outputId": "c315e019-334d-4ec8-a42e-26d2ea425313"
      },
      "id": "kWesgetfEehJ",
      "execution_count": null,
      "outputs": [
        {
          "output_type": "stream",
          "name": "stdout",
          "text": [
            "['perceptron_hyperparameters', 'svc_hyperparameters', 'decision_tree_hyperparameters', 'random_forest_hyperparameters']\n"
          ]
        }
      ]
    },
    {
      "cell_type": "markdown",
      "source": [
        "##Applying GridSearchCV on Imbalanced Dataset"
      ],
      "metadata": {
        "id": "oxe4RQBxE0KK"
      },
      "id": "oxe4RQBxE0KK"
    },
    {
      "cell_type": "code",
      "source": [
        "def ModelSelection(list_of_models, hyperparameters_dictionary):\n",
        "\n",
        "  result = []\n",
        "\n",
        "  i = 0\n",
        "\n",
        "  for model in list_of_models:\n",
        "\n",
        "    key = model_keys[i]\n",
        "\n",
        "    params = hyperparameters_dictionary[key]\n",
        "\n",
        "    i += 1\n",
        "\n",
        "    print(model)\n",
        "    print(params)\n",
        "    print('---------------------------------')\n",
        "\n",
        "\n",
        "    classifier = GridSearchCV(model, params, cv=5, scoring='accuracy' )\n",
        "\n",
        "    # fitting the data to classifier\n",
        "    classifier.fit(X_train,y_train)\n",
        "\n",
        "    result.append({\n",
        "        'model used' : model,\n",
        "        'highest score' : classifier.best_score_,\n",
        "        'best hyperparameters' : classifier.best_params_\n",
        "    })\n",
        "\n",
        "  result_dataframe = pd.DataFrame(result, columns = ['model used','highest score','best hyperparameters'])\n",
        "\n",
        "  return result_dataframe"
      ],
      "metadata": {
        "id": "zrj-TAIDEvHJ"
      },
      "id": "zrj-TAIDEvHJ",
      "execution_count": null,
      "outputs": []
    },
    {
      "cell_type": "code",
      "source": [
        "dds= ModelSelection(models_list, model_hyperparameters)"
      ],
      "metadata": {
        "colab": {
          "base_uri": "https://localhost:8080/"
        },
        "id": "MMb9kv5VE9j-",
        "outputId": "a00d6620-8f72-4ecf-b567-46aa6751e031"
      },
      "id": "MMb9kv5VE9j-",
      "execution_count": null,
      "outputs": [
        {
          "output_type": "stream",
          "name": "stdout",
          "text": [
            "Perceptron()\n",
            "{'alpha': [0.0001, 0.001, 0.01, 0.1, 1.0, 10.0, 100], 'max_iter': [1000, 5000, 10000]}\n",
            "---------------------------------\n",
            "SVC(kernel='linear')\n",
            "{'kernel': ['linear', 'poly', 'rbf', 'sigmoid'], 'C': [1, 5, 10, 20]}\n",
            "---------------------------------\n"
          ]
        },
        {
          "output_type": "stream",
          "name": "stderr",
          "text": [
            "/usr/local/lib/python3.10/dist-packages/numpy/ma/core.py:2820: RuntimeWarning: invalid value encountered in cast\n",
            "  _data = np.array(data, dtype=dtype, copy=copy,\n"
          ]
        },
        {
          "output_type": "stream",
          "name": "stdout",
          "text": [
            "DecisionTreeClassifier()\n",
            "{'max_depth': [5, 10, 20, 30, 40, 50], 'min_samples_split': [2, 5, 10], 'criterion': ['gini', 'entropy']}\n",
            "---------------------------------\n",
            "RandomForestClassifier(random_state=0)\n",
            "{'n_estimators': [10, 20, 50, 100, 500, 1000], 'max_depth': [5, 10, 20, 30, 40, 50], 'min_samples_split': [2, 5, 10, 20], 'max_features': ['sqrt', 'log2', None]}\n",
            "---------------------------------\n"
          ]
        },
        {
          "output_type": "stream",
          "name": "stderr",
          "text": [
            "/usr/local/lib/python3.10/dist-packages/numpy/ma/core.py:2820: RuntimeWarning: invalid value encountered in cast\n",
            "  _data = np.array(data, dtype=dtype, copy=copy,\n"
          ]
        }
      ]
    },
    {
      "cell_type": "code",
      "source": [
        "dds['best hyperparameters'][3]"
      ],
      "metadata": {
        "colab": {
          "base_uri": "https://localhost:8080/"
        },
        "id": "o0Zse0M1JN8x",
        "outputId": "f5f144e4-dfe1-400e-8d5d-ce42d59fd84b"
      },
      "id": "o0Zse0M1JN8x",
      "execution_count": null,
      "outputs": [
        {
          "output_type": "execute_result",
          "data": {
            "text/plain": [
              "{'max_depth': 10,\n",
              " 'max_features': 'log2',\n",
              " 'min_samples_split': 5,\n",
              " 'n_estimators': 10}"
            ]
          },
          "metadata": {},
          "execution_count": 36
        }
      ]
    },
    {
      "cell_type": "code",
      "source": [
        "\n",
        " # Step 4: Apply best parameters to Ensemble Random Forest\n",
        "print(\"\\nStep 4: Applying Best Parameters Ensemble Random Forest to imbalance the training set\")\n",
        "rftree = RandomForestClassifier(random_state=42, max_depth=10, min_samples_split=5,n_estimators=10, max_features='log2')\n",
        "\n",
        "# Train an Ensemble Random Forest on the Imbalanced Dataset\n",
        "print(\"Training an Ensemble Random Foreston the imbalanced dataset\")\n",
        "rftree.fit(X_train, y_train)\n",
        "y_pred_imbalanced = rftree.predict(X_test)\n",
        "\n",
        "# Report metrics\n",
        "print(\"\\nClassification Report :\")\n",
        "imbalanced_report = classification_report(y_test, y_pred_imbalanced)\n",
        "print(imbalanced_report)\n",
        "accuracy_imbal_rf=accuracy_score(y_test, y_pred_imbalanced)\n",
        "precision_imbal_rf=precision_score(y_test, y_pred_imbalanced)\n",
        "recall_imbal_rf=recall_score(y_test, y_pred_imbalanced)\n",
        "f1_score_imbal_rf=f1_score(y_test, y_pred_imbalanced)\n",
        "print(\"Accuracy for imbalanced dataset\",accuracy_imbal_rf)\n",
        "print(\"Precision for imbalanced dataset\",precision_imbal_rf)\n",
        "print(\"Recall for imbalanced dataset\",recall_imbal_rf)\n",
        "print(\"F1 score for imbalanced dataset\",f1_score_imbal_rf)\n",
        "cm_rf=confusion_matrix(y_test, y_pred_imbalanced)\n",
        "#Get values for TP, TN, FP, FN\n",
        "TP,TN,FP, FN =cm_rf.ravel()\n",
        "print(\"True Positive\",TP)\n",
        "print(\"True Negative\",TN)\n",
        "print(\"False Positive\",FP)\n",
        "print(\"False Negative\",FN)\n",
        "print(\"Confusion Matrix Report for imbalanced dataset Random Forest\", cm_rf)"
      ],
      "metadata": {
        "colab": {
          "base_uri": "https://localhost:8080/"
        },
        "id": "dKMGu5yJnGdW",
        "outputId": "9156f89a-bbbc-49eb-caf2-61940191f54f"
      },
      "id": "dKMGu5yJnGdW",
      "execution_count": null,
      "outputs": [
        {
          "output_type": "stream",
          "name": "stdout",
          "text": [
            "\n",
            "Step 4: Applying Best Parameters Ensemble Random Forest to imbalance the training set\n",
            "Training an Ensemble Random Foreston the imbalanced dataset\n",
            "\n",
            "Classification Report :\n",
            "              precision    recall  f1-score   support\n",
            "\n",
            "           0       0.95      1.00      0.97       182\n",
            "           1       1.00      0.29      0.44        14\n",
            "\n",
            "    accuracy                           0.95       196\n",
            "   macro avg       0.97      0.64      0.71       196\n",
            "weighted avg       0.95      0.95      0.94       196\n",
            "\n",
            "Accuracy for imbalanced dataset 0.9489795918367347\n",
            "Precision for imbalanced dataset 1.0\n",
            "Recall for imbalanced dataset 0.2857142857142857\n",
            "F1 score for imbalanced dataset 0.4444444444444444\n",
            "True Positive 182\n",
            "True Negative 0\n",
            "False Positive 10\n",
            "False Negative 4\n",
            "Confusion Matrix Report for imbalanced dataset Random Forest [[182   0]\n",
            " [ 10   4]]\n"
          ]
        }
      ]
    },
    {
      "cell_type": "code",
      "source": [
        "# Step 4: Apply best parameters to Ensemble Random Forest\n",
        "print(\"\\nStep 4: Applying Best Parameters Ensemble Random Forest to imbalance the training set\")\n",
        "rftree = RandomForestClassifier(random_state=42,max_depth=30, min_samples_split=5,n_estimators=50, max_features='log2')\n",
        "\n",
        "# Train an Ensemble Random Forest on the Imbalanced Dataset\n",
        "print(\"Training an Ensemble Random Foreston the imbalanced dataset\")\n",
        "rftree .fit(X_train, y_train)\n",
        "y_pred_imbalanced = rftree.predict(X_test)\n",
        "\n",
        "# Report metrics\n",
        "print(\"\\nClassification Report :\")\n",
        "imbalanced_report = classification_report(y_test, y_pred_imbalanced)\n",
        "print(imbalanced_report)\n",
        "accuracy_imbal_rf_gs=accuracy_score(y_test, y_pred_imbalanced)\n",
        "precision_imbal_rf_gs=precision_score(y_test, y_pred_imbalanced)\n",
        "recall_imbal_rf_gs=recall_score(y_test, y_pred_imbalanced)\n",
        "f1_score_imbal_rf_gs=f1_score(y_test, y_pred_imbalanced)\n",
        "print(\"Accuracy for imbalanced dataset\",accuracy_imbal_rf_gs)\n",
        "print(\"Precision for imbalanced dataset\",precision_imbal_rf_gs)\n",
        "print(\"Recall for imbalanced dataset\",recall_imbal_rf_gs)\n",
        "print(\"F1 score for imbalanced dataset\",f1_score_imbal_rf_gs)\n",
        "cm_rf_gs=confusion_matrix(y_test, y_pred_imbalanced)\n",
        "#Get values for TP, TN, FP, FN\n",
        "TP,TN,FP, FN =cm_rf_gs.ravel()\n",
        "print(\"True Positive\",TP)\n",
        "print(\"True Negative\",TN)\n",
        "print(\"False Positive\",FP)\n",
        "print(\"False Negative\",FN)\n",
        "print(\"Confusion Matrix Report for imbalanced dataset Random Forest\", cm_rf_gs)"
      ],
      "metadata": {
        "colab": {
          "base_uri": "https://localhost:8080/"
        },
        "id": "0Tm9xn6kCbwq",
        "outputId": "517b5d79-b8dc-4478-808f-d580ab3743ac"
      },
      "id": "0Tm9xn6kCbwq",
      "execution_count": null,
      "outputs": [
        {
          "output_type": "stream",
          "name": "stdout",
          "text": [
            "\n",
            "Step 4: Applying Best Parameters Ensemble Random Forest to imbalance the training set\n",
            "Training an Ensemble Random Foreston the imbalanced dataset\n",
            "\n",
            "Classification Report :\n",
            "              precision    recall  f1-score   support\n",
            "\n",
            "           0       0.94      0.99      0.97       182\n",
            "           1       0.75      0.21      0.33        14\n",
            "\n",
            "    accuracy                           0.94       196\n",
            "   macro avg       0.85      0.60      0.65       196\n",
            "weighted avg       0.93      0.94      0.92       196\n",
            "\n",
            "Accuracy for imbalanced dataset 0.9387755102040817\n",
            "Precision for imbalanced dataset 0.75\n",
            "Recall for imbalanced dataset 0.21428571428571427\n",
            "F1 score for imbalanced dataset 0.3333333333333333\n",
            "True Positive 181\n",
            "True Negative 1\n",
            "False Positive 11\n",
            "False Negative 3\n",
            "Confusion Matrix Report for imbalanced dataset Random Forest [[181   1]\n",
            " [ 11   3]]\n"
          ]
        }
      ]
    },
    {
      "cell_type": "code",
      "source": [
        "dds['best hyperparameters'][2]"
      ],
      "metadata": {
        "colab": {
          "base_uri": "https://localhost:8080/"
        },
        "id": "FxvphF_W65m0",
        "outputId": "5902f246-e4d1-4286-f860-a23cd019caca"
      },
      "id": "FxvphF_W65m0",
      "execution_count": null,
      "outputs": [
        {
          "output_type": "execute_result",
          "data": {
            "text/plain": [
              "{'criterion': 'entropy', 'max_depth': 5, 'min_samples_split': 10}"
            ]
          },
          "metadata": {},
          "execution_count": 39
        }
      ]
    },
    {
      "cell_type": "code",
      "source": [
        "# Step 3: Train an decision tree on the Imbalanced Dataset\n",
        "print(\"\\nStep 3: Training an decision tree on the imbalanced dataset\")\n",
        "dtree = DecisionTreeClassifier(random_state=42, max_depth=5, min_samples_split=10,criterion= 'entropy')\n",
        "dtree .fit(X_train, y_train)\n",
        "y_pred_imbalanced = dtree.predict(X_test)\n",
        "\n",
        "# Report metrics before SMOTE\n",
        "print(\"\\nClassification Report Before SMOTE:\")\n",
        "imbalanced_report = classification_report(y_test, y_pred_imbalanced)\n",
        "print(imbalanced_report)\n",
        "accuracy_imb_dtree_gs=accuracy_score(y_test, y_pred_imbalanced)\n",
        "precision_score_imb_dtree_gs=precision_score(y_test, y_pred_imbalanced)\n",
        "recall_score_imb_dtree_gs=recall_score(y_test, y_pred_imbalanced)\n",
        "f1_score_imb_dtree_gs=f1_score(y_test, y_pred_imbalanced)\n",
        "print(\"Accuracy for imbalanced dataset\",accuracy_imb_dtree_gs)\n",
        "print(\"Precision for imbalanced dataset\",precision_score_imb_dtree_gs)\n",
        "print(\"Recall for imbalanced dataset\",recall_score_imb_dtree_gs)\n",
        "print(\"F1 score for imbalanced dataset\",f1_score_imb_dtree_gs)\n",
        "cm_dtree_gs=confusion_matrix(y_test, y_pred_imbalanced)\n",
        "#Get values for TP, TN, FP, FN\n",
        "TP,TN,FP, FN =cm_dtree_gs.ravel()\n",
        "print(\"True Positive\",TP)\n",
        "print(\"True Negative\",TN)\n",
        "print(\"False Positive\",FP)\n",
        "print(\"False Negative\",FN)\n",
        "print(\"Confusion Matrix Report for imbalanced dataset Decision Tree\", cm_dtree_gs)"
      ],
      "metadata": {
        "colab": {
          "base_uri": "https://localhost:8080/"
        },
        "id": "9BBjmEv6VtsO",
        "outputId": "aa8e2399-5e0e-4263-bc98-4218cd697d59"
      },
      "id": "9BBjmEv6VtsO",
      "execution_count": null,
      "outputs": [
        {
          "output_type": "stream",
          "name": "stdout",
          "text": [
            "\n",
            "Step 3: Training an decision tree on the imbalanced dataset\n",
            "\n",
            "Classification Report Before SMOTE:\n",
            "              precision    recall  f1-score   support\n",
            "\n",
            "           0       0.95      0.98      0.96       182\n",
            "           1       0.50      0.29      0.36        14\n",
            "\n",
            "    accuracy                           0.93       196\n",
            "   macro avg       0.72      0.63      0.66       196\n",
            "weighted avg       0.91      0.93      0.92       196\n",
            "\n",
            "Accuracy for imbalanced dataset 0.9285714285714286\n",
            "Precision for imbalanced dataset 0.5\n",
            "Recall for imbalanced dataset 0.2857142857142857\n",
            "F1 score for imbalanced dataset 0.36363636363636365\n",
            "True Positive 178\n",
            "True Negative 4\n",
            "False Positive 10\n",
            "False Negative 4\n",
            "Confusion Matrix Report for imbalanced dataset Decision Tree [[178   4]\n",
            " [ 10   4]]\n"
          ]
        }
      ]
    },
    {
      "cell_type": "code",
      "source": [
        "dds['best hyperparameters'][1]"
      ],
      "metadata": {
        "colab": {
          "base_uri": "https://localhost:8080/"
        },
        "id": "uIwbYY1x7NR6",
        "outputId": "e2f110f5-e50d-41e5-d59b-24f776f58c14"
      },
      "id": "uIwbYY1x7NR6",
      "execution_count": null,
      "outputs": [
        {
          "output_type": "execute_result",
          "data": {
            "text/plain": [
              "{'C': 10, 'kernel': 'rbf'}"
            ]
          },
          "metadata": {},
          "execution_count": 41
        }
      ]
    },
    {
      "cell_type": "code",
      "source": [
        "# Step 3: Train an SVM on the Imbalanced Dataset\n",
        "print(\"\\nStep 3: Training an SVM on the imbalanced dataset\")\n",
        "svm = SVC(C=10 ,kernel='rbf')\n",
        "svm.fit(X_train, y_train)\n",
        "y_pred_imbalanced = svm.predict(X_test)\n",
        "\n",
        "# Report metrics before SMOTE\n",
        "print(\"\\nClassification Report Before SMOTE:\")\n",
        "imbalanced_report = classification_report(y_test, y_pred_imbalanced)\n",
        "print(imbalanced_report)\n",
        "accuracy_imb_svm_gs=accuracy_score(y_test, y_pred_imbalanced)\n",
        "precision_score_imb_svm_gs=precision_score(y_test, y_pred_imbalanced)\n",
        "recall_score_imb_svm_gs=recall_score(y_test, y_pred_imbalanced)\n",
        "f1_score_imb_svm_gs=f1_score(y_test, y_pred_imbalanced)\n",
        "print(\"Accuracy for imbalanced dataset\",accuracy_imb_svm_gs)\n",
        "print(\"Precision for imbalanced dataset\",precision_score_imb_svm_gs)\n",
        "print(\"Recall for imbalanced dataset\",recall_score_imb_svm_gs)\n",
        "print(\"F1 score for imbalanced dataset\",f1_score_imb_svm_gs)\n",
        "cm_svm_gs=confusion_matrix(y_test, y_pred_imbalanced)\n",
        "#Get values for TP, TN, FP, FN\n",
        "TP,TN,FP, FN =cm_svm_gs.ravel()\n",
        "print(\"True Positive\",TP)\n",
        "print(\"True Negative\",TN)\n",
        "print(\"False Positive\",FP)\n",
        "print(\"False Negative\",FN)\n",
        "print(\"Confusion Matrix Report for imbalanced dataset SVM\", cm_svm_gs)\n"
      ],
      "metadata": {
        "colab": {
          "base_uri": "https://localhost:8080/"
        },
        "id": "7JPnBMmcVuHf",
        "outputId": "2ad4f072-e752-4825-a932-c6dad2207de6"
      },
      "id": "7JPnBMmcVuHf",
      "execution_count": null,
      "outputs": [
        {
          "output_type": "stream",
          "name": "stdout",
          "text": [
            "\n",
            "Step 3: Training an SVM on the imbalanced dataset\n",
            "\n",
            "Classification Report Before SMOTE:\n",
            "              precision    recall  f1-score   support\n",
            "\n",
            "           0       0.94      0.96      0.95       182\n",
            "           1       0.22      0.14      0.17        14\n",
            "\n",
            "    accuracy                           0.90       196\n",
            "   macro avg       0.58      0.55      0.56       196\n",
            "weighted avg       0.88      0.90      0.89       196\n",
            "\n",
            "Accuracy for imbalanced dataset 0.9030612244897959\n",
            "Precision for imbalanced dataset 0.2222222222222222\n",
            "Recall for imbalanced dataset 0.14285714285714285\n",
            "F1 score for imbalanced dataset 0.17391304347826086\n",
            "True Positive 175\n",
            "True Negative 7\n",
            "False Positive 12\n",
            "False Negative 2\n",
            "Confusion Matrix Report for imbalanced dataset SVM [[175   7]\n",
            " [ 12   2]]\n"
          ]
        }
      ]
    },
    {
      "cell_type": "code",
      "source": [
        "dds['best hyperparameters'][0]"
      ],
      "metadata": {
        "colab": {
          "base_uri": "https://localhost:8080/"
        },
        "id": "dIdboDm47U5o",
        "outputId": "3290bb9c-b8ae-43a5-b0e8-db14ad27393c"
      },
      "id": "dIdboDm47U5o",
      "execution_count": null,
      "outputs": [
        {
          "output_type": "execute_result",
          "data": {
            "text/plain": [
              "{'alpha': 0.0001, 'max_iter': 1000}"
            ]
          },
          "metadata": {},
          "execution_count": 43
        }
      ]
    },
    {
      "cell_type": "code",
      "source": [
        "# Step 3: Train an perceptron on the Imbalanced Dataset\n",
        "print(\"\\nStep 3: Training an perceptron on the imbalanced dataset\")\n",
        "perceptron = Perceptron(alpha= 0.0001, max_iter= 1000)\n",
        "perceptron .fit(X_train, y_train)\n",
        "y_pred_imbalanced = perceptron.predict(X_test)\n",
        "\n",
        "# Report metrics before SMOTE\n",
        "print(\"\\nClassification Report Before SMOTE:\")\n",
        "imbalanced_report = classification_report(y_test, y_pred_imbalanced)\n",
        "print(imbalanced_report)\n",
        "accuracy_imb_percep_gs=accuracy_score(y_test, y_pred_imbalanced)\n",
        "precision_score_imb_percep_gs=precision_score(y_test, y_pred_imbalanced)\n",
        "recall_score_imb_percep_gs=recall_score(y_test, y_pred_imbalanced)\n",
        "f1_score_imb_percep_gs=f1_score(y_test, y_pred_imbalanced)\n",
        "print(\"Accuracy for imbalanced dataset\",accuracy_imb_percep_gs)\n",
        "print(\"Precision for imbalanced dataset\",precision_score_imb_percep_gs)\n",
        "print(\"Recall for imbalanced dataset\",recall_score_imb_percep_gs)\n",
        "print(\"F1 score for imbalanced dataset\",f1_score_imb_percep_gs)\n",
        "cm_perceptron_gs=confusion_matrix(y_test, y_pred_imbalanced)\n",
        "#Get values for TP, TN, FP, FN\n",
        "TP,TN,FP, FN =cm_perceptron_gs.ravel()\n",
        "print(\"True Positive\",TP)\n",
        "print(\"True Negative\",TN)\n",
        "print(\"False Positive\",FP)\n",
        "print(\"False Negative\",FN)\n",
        "print(\"Confusion Matrix Report for imbalanced dataset Perceptron\", cm_perceptron_gs)"
      ],
      "metadata": {
        "colab": {
          "base_uri": "https://localhost:8080/"
        },
        "id": "FWkG9wc6U3nu",
        "outputId": "872fbb22-96fa-43f7-a65c-b01d0b0533b9"
      },
      "id": "FWkG9wc6U3nu",
      "execution_count": null,
      "outputs": [
        {
          "output_type": "stream",
          "name": "stdout",
          "text": [
            "\n",
            "Step 3: Training an perceptron on the imbalanced dataset\n",
            "\n",
            "Classification Report Before SMOTE:\n",
            "              precision    recall  f1-score   support\n",
            "\n",
            "           0       0.93      0.96      0.95       182\n",
            "           1       0.12      0.07      0.09        14\n",
            "\n",
            "    accuracy                           0.90       196\n",
            "   macro avg       0.53      0.52      0.52       196\n",
            "weighted avg       0.87      0.90      0.88       196\n",
            "\n",
            "Accuracy for imbalanced dataset 0.8979591836734694\n",
            "Precision for imbalanced dataset 0.125\n",
            "Recall for imbalanced dataset 0.07142857142857142\n",
            "F1 score for imbalanced dataset 0.09090909090909091\n",
            "True Positive 175\n",
            "True Negative 7\n",
            "False Positive 13\n",
            "False Negative 1\n",
            "Confusion Matrix Report for imbalanced dataset Perceptron [[175   7]\n",
            " [ 13   1]]\n"
          ]
        }
      ]
    },
    {
      "cell_type": "markdown",
      "source": [
        "## Apply Hyper Parameter Tuning on SMOTE Balanced Dataset\n"
      ],
      "metadata": {
        "id": "-ofWdVsquOKF"
      },
      "id": "-ofWdVsquOKF"
    },
    {
      "cell_type": "code",
      "source": [
        "models_list_smote = [Perceptron(), SVC(kernel='linear'), DecisionTreeClassifier(), RandomForestClassifier(random_state=0)]"
      ],
      "metadata": {
        "id": "Aq7_Bz-e9LAX"
      },
      "id": "Aq7_Bz-e9LAX",
      "execution_count": null,
      "outputs": []
    },
    {
      "cell_type": "code",
      "source": [
        "# creating a dictionary that contains hyperparameter values for the above mentioned models\n",
        "\n",
        "\n",
        "smote_model_hyperparameters = {\n",
        "    'perceptron_hyperparameters': {\n",
        "        'alpha': [0.0001, 0.001, 0.01, 0.1, 1.0, 10.0, 100],  # Regularization strength\n",
        "        'max_iter': [1000, 5000, 10000]       # Number of iterations\n",
        "    },\n",
        "    'svc_hyperparameters': {\n",
        "        'kernel': ['linear', 'poly', 'rbf', 'sigmoid'],  # Kernel types\n",
        "        'C': [1, 5, 10, 20]                             # Regularization strength\n",
        "    },\n",
        "    'decision_tree_hyperparameters': {\n",
        "        'max_depth': [5, 10, 20, 30, 40, 50],                # Maximum depth of tree\n",
        "        'min_samples_split': [2, 5, 10],                # Minimum samples to split a node\n",
        "        'criterion': ['gini', 'entropy']                # Splitting criteria\n",
        "    },\n",
        "    'random_forest_hyperparameters': {\n",
        "        'n_estimators': [10, 20, 50, 100, 500, 1000],              # Number of trees\n",
        "        'max_depth': [5, 10, 20, 30, 40, 50],                    # Maximum depth of trees\n",
        "        'min_samples_split': [2, 5, 10, 20],                       # Minimum samples to split a node\n",
        "        'max_features': ['sqrt', 'log2', None]\n",
        "    }\n",
        "}\n"
      ],
      "metadata": {
        "id": "JMbnR6hZ9Nfw"
      },
      "id": "JMbnR6hZ9Nfw",
      "execution_count": null,
      "outputs": []
    },
    {
      "cell_type": "code",
      "source": [
        "print(smote_model_hyperparameters.keys())"
      ],
      "metadata": {
        "id": "awryX6B59lmj",
        "colab": {
          "base_uri": "https://localhost:8080/"
        },
        "outputId": "27d6bbd5-b1ac-4f59-dd44-10099687fcea"
      },
      "id": "awryX6B59lmj",
      "execution_count": null,
      "outputs": [
        {
          "output_type": "stream",
          "name": "stdout",
          "text": [
            "dict_keys(['perceptron_hyperparameters', 'svc_hyperparameters', 'decision_tree_hyperparameters', 'random_forest_hyperparameters'])\n"
          ]
        }
      ]
    },
    {
      "cell_type": "code",
      "source": [
        "smote_model_keys = list(smote_model_hyperparameters.keys())\n",
        "print(smote_model_keys)"
      ],
      "metadata": {
        "id": "jV9_H3e0-ISI",
        "colab": {
          "base_uri": "https://localhost:8080/"
        },
        "outputId": "ec1fd5b4-b2c1-4449-b03e-1582cb3d5939"
      },
      "id": "jV9_H3e0-ISI",
      "execution_count": null,
      "outputs": [
        {
          "output_type": "stream",
          "name": "stdout",
          "text": [
            "['perceptron_hyperparameters', 'svc_hyperparameters', 'decision_tree_hyperparameters', 'random_forest_hyperparameters']\n"
          ]
        }
      ]
    },
    {
      "cell_type": "markdown",
      "source": [
        "##Apply Grid Search on SMOTE Balanced Datset"
      ],
      "metadata": {
        "id": "cRG3wltsuUhK"
      },
      "id": "cRG3wltsuUhK"
    },
    {
      "cell_type": "code",
      "source": [
        "def ModelSelectionSmote(list_of_models, hyperparameters_dictionary):\n",
        "\n",
        "  result = []\n",
        "\n",
        "  i = 0\n",
        "\n",
        "  for model in list_of_models:\n",
        "\n",
        "    key = smote_model_keys[i]\n",
        "\n",
        "    params = hyperparameters_dictionary[key]\n",
        "\n",
        "    i += 1\n",
        "\n",
        "    print(model)\n",
        "    print(params)\n",
        "    print('-----------------------------------------------------------------')\n",
        "\n",
        "\n",
        "    classifier = GridSearchCV(model, params, cv=5 ,scoring='accuracy', verbose=2, n_jobs=-1)\n",
        "\n",
        "    # fitting the data to classifier\n",
        "    classifier.fit(X_train_smote,y_train_smote)\n",
        "\n",
        "    result.append({\n",
        "        'model used' : model,\n",
        "        'highest score' : classifier.best_score_,\n",
        "        'best hyperparameters' : classifier.best_params_\n",
        "    })\n",
        "\n",
        "  result_dataframe_smote = pd.DataFrame(result, columns = ['model used','highest score','best hyperparameters'])\n",
        "\n",
        "  return result_dataframe_smote"
      ],
      "metadata": {
        "id": "q7dzxQGK9xBx"
      },
      "id": "q7dzxQGK9xBx",
      "execution_count": null,
      "outputs": []
    },
    {
      "cell_type": "code",
      "source": [
        "ssd = ModelSelectionSmote(models_list_smote, smote_model_hyperparameters)"
      ],
      "metadata": {
        "colab": {
          "base_uri": "https://localhost:8080/"
        },
        "id": "1SNJ_cZ2AVB5",
        "outputId": "a819d085-1b4d-47bc-e869-303228a3df8a"
      },
      "id": "1SNJ_cZ2AVB5",
      "execution_count": null,
      "outputs": [
        {
          "output_type": "stream",
          "name": "stdout",
          "text": [
            "Perceptron()\n",
            "{'alpha': [0.0001, 0.001, 0.01, 0.1, 1.0, 10.0, 100], 'max_iter': [1000, 5000, 10000]}\n",
            "-----------------------------------------------------------------\n",
            "Fitting 5 folds for each of 21 candidates, totalling 105 fits\n",
            "SVC(kernel='linear')\n",
            "{'kernel': ['linear', 'poly', 'rbf', 'sigmoid'], 'C': [1, 5, 10, 20]}\n",
            "-----------------------------------------------------------------\n",
            "Fitting 5 folds for each of 16 candidates, totalling 80 fits\n",
            "DecisionTreeClassifier()\n",
            "{'max_depth': [5, 10, 20, 30, 40, 50], 'min_samples_split': [2, 5, 10], 'criterion': ['gini', 'entropy']}\n",
            "-----------------------------------------------------------------\n",
            "Fitting 5 folds for each of 36 candidates, totalling 180 fits\n",
            "RandomForestClassifier(random_state=0)\n",
            "{'n_estimators': [10, 20, 50, 100, 500, 1000], 'max_depth': [5, 10, 20, 30, 40, 50], 'min_samples_split': [2, 5, 10, 20], 'max_features': ['sqrt', 'log2', None]}\n",
            "-----------------------------------------------------------------\n",
            "Fitting 5 folds for each of 432 candidates, totalling 2160 fits\n"
          ]
        },
        {
          "output_type": "stream",
          "name": "stderr",
          "text": [
            "/usr/local/lib/python3.10/dist-packages/numpy/ma/core.py:2820: RuntimeWarning: invalid value encountered in cast\n",
            "  _data = np.array(data, dtype=dtype, copy=copy,\n"
          ]
        }
      ]
    },
    {
      "cell_type": "code",
      "source": [
        "ssd['best hyperparameters'][3]"
      ],
      "metadata": {
        "colab": {
          "base_uri": "https://localhost:8080/"
        },
        "id": "HR4BYuCKHBmt",
        "outputId": "dfea7bca-4991-4b71-eb07-babb60186ae1"
      },
      "id": "HR4BYuCKHBmt",
      "execution_count": null,
      "outputs": [
        {
          "output_type": "execute_result",
          "data": {
            "text/plain": [
              "{'max_depth': 30,\n",
              " 'max_features': 'sqrt',\n",
              " 'min_samples_split': 2,\n",
              " 'n_estimators': 50}"
            ]
          },
          "metadata": {},
          "execution_count": 51
        }
      ]
    },
    {
      "cell_type": "code",
      "source": [
        "# Step 4: Apply Best parameters Ensemble Random Forest on Balanced dataset\n",
        "print(\"\\nStep 4: Applying Ensemble Random Forest to balance the training set\")\n",
        "rftree = RandomForestClassifier(max_depth=30, min_samples_split=2,n_estimators= 50 , max_features='sqrt',random_state=42)\n",
        "\n",
        "# Train an Ensemble Random Forest on the balanced Dataset\n",
        "print(\"Training an Ensemble Random Foreston the balanced dataset\")\n",
        "rftree .fit(X_train_smote, y_train_smote)\n",
        "y_pred_balanced = rftree.predict(X_test)\n",
        "\n",
        "# Report metrics\n",
        "print(\"\\nClassification Report :\")\n",
        "imbalanced_report = classification_report(y_test, y_pred_balanced)\n",
        "print(imbalanced_report)\n",
        "accuracy_bal_rf_gs=accuracy_score(y_test, y_pred_balanced)\n",
        "precision_bal_rf_gs=precision_score(y_test, y_pred_balanced)\n",
        "recall_bal_rf_gs=recall_score(y_test, y_pred_balanced)\n",
        "f1_score_bal_rf_gs=f1_score(y_test, y_pred_balanced)\n",
        "print(\"Accuracy for balanced dataset\",accuracy_bal_rf_gs)\n",
        "print(\"Precision for balanced dataset\",precision_bal_rf_gs)\n",
        "print(\"Recall for balanced dataset\",recall_bal_rf_gs)\n",
        "print(\"F1 score for balanced dataset\",f1_score_bal_rf_gs)\n",
        "cm_rf_smote_gs=confusion_matrix(y_test, y_pred_balanced)\n",
        "#Get values for TP, TN, FP, FN\n",
        "TP,TN,FP, FN =cm_rf_smote_gs.ravel()\n",
        "print(\"True Positive\",TP)\n",
        "print(\"True Negative\",TN)\n",
        "print(\"False Positive\",FP)\n",
        "print(\"False Negative\",FN)\n",
        "print(\"Confusion Matrix Report for balanced dataset Random forest\", cm_rf_smote_gs)"
      ],
      "metadata": {
        "colab": {
          "base_uri": "https://localhost:8080/"
        },
        "id": "7qX8-QzVDPcG",
        "outputId": "f9f688c8-052c-4454-cf96-fd79a085940d"
      },
      "id": "7qX8-QzVDPcG",
      "execution_count": null,
      "outputs": [
        {
          "output_type": "stream",
          "name": "stdout",
          "text": [
            "\n",
            "Step 4: Applying Ensemble Random Forest to balance the training set\n",
            "Training an Ensemble Random Foreston the balanced dataset\n",
            "\n",
            "Classification Report :\n",
            "              precision    recall  f1-score   support\n",
            "\n",
            "           0       0.95      0.93      0.94       182\n",
            "           1       0.32      0.43      0.36        14\n",
            "\n",
            "    accuracy                           0.89       196\n",
            "   macro avg       0.64      0.68      0.65       196\n",
            "weighted avg       0.91      0.89      0.90       196\n",
            "\n",
            "Accuracy for balanced dataset 0.8928571428571429\n",
            "Precision for balanced dataset 0.3157894736842105\n",
            "Recall for balanced dataset 0.42857142857142855\n",
            "F1 score for balanced dataset 0.36363636363636365\n",
            "True Positive 169\n",
            "True Negative 13\n",
            "False Positive 8\n",
            "False Negative 6\n",
            "Confusion Matrix Report for balanced dataset Random forest [[169  13]\n",
            " [  8   6]]\n"
          ]
        }
      ]
    },
    {
      "cell_type": "code",
      "source": [
        "ssd['best hyperparameters'][0]"
      ],
      "metadata": {
        "colab": {
          "base_uri": "https://localhost:8080/"
        },
        "id": "mcx7TEbXDKXh",
        "outputId": "c5112e1c-1f6e-4a3a-a076-aee13ffce752"
      },
      "id": "mcx7TEbXDKXh",
      "execution_count": null,
      "outputs": [
        {
          "output_type": "execute_result",
          "data": {
            "text/plain": [
              "{'alpha': 0.0001, 'max_iter': 1000}"
            ]
          },
          "metadata": {},
          "execution_count": 53
        }
      ]
    },
    {
      "cell_type": "code",
      "source": [
        "# Step 5: Train an Perceptron on the Balanced Dataset\n",
        "print(\"\\nStep 5: Training an perceptron on the SMOTE-balanced dataset\")\n",
        "perceptron_smote = Perceptron(alpha= 0.0001, max_iter= 1000)\n",
        "perceptron_smote.fit(X_train_smote, y_train_smote)\n",
        "y_pred_smote = perceptron_smote.predict(X_test)\n",
        "\n",
        "# Report metrics after SMOTE\n",
        "print(\"\\nClassification Report After SMOTE:\")\n",
        "smote_report = classification_report(y_test, y_pred_smote)\n",
        "print(smote_report)\n",
        "accuracy_bal_percep_gs=accuracy_score(y_test, y_pred_smote)\n",
        "precision_score_bal_percep_gs=precision_score(y_test, y_pred_smote)\n",
        "recall_score_bal_percep_gs=recall_score(y_test, y_pred_smote)\n",
        "f1_score_ibal_percep_gs=f1_score(y_test, y_pred_smote)\n",
        "print(\"Accuracy for balanced dataset\",accuracy_bal_percep_gs)\n",
        "print(\"Precision for balanced dataset\",precision_score_bal_percep_gs)\n",
        "print(\"Recall for balanced dataset\",recall_score_bal_percep_gs)\n",
        "print(\"F1 score for balanced dataset\",f1_score_ibal_percep_gs)\n",
        "cm_perceptron_smote_gs=confusion_matrix(y_test, y_pred_smote)\n",
        "#Get values for TP, TN, FP, FN\n",
        "TP,TN,FP, FN =cm_perceptron_smote_gs.ravel()\n",
        "print(\"True Positive\",TP)\n",
        "print(\"True Negative\",TN)\n",
        "print(\"False Positive\",FP)\n",
        "print(\"False Negative\",FN)\n",
        "print(\"Confusion Matrix Report for balanced dataset Perceptron\", cm_perceptron_smote_gs)"
      ],
      "metadata": {
        "colab": {
          "base_uri": "https://localhost:8080/"
        },
        "id": "aWf4AHsFUJFu",
        "outputId": "d717f2d3-b89d-4bd0-d5ff-f6589fd8a533"
      },
      "id": "aWf4AHsFUJFu",
      "execution_count": null,
      "outputs": [
        {
          "output_type": "stream",
          "name": "stdout",
          "text": [
            "\n",
            "Step 5: Training an perceptron on the SMOTE-balanced dataset\n",
            "\n",
            "Classification Report After SMOTE:\n",
            "              precision    recall  f1-score   support\n",
            "\n",
            "           0       0.94      0.98      0.96       182\n",
            "           1       0.40      0.14      0.21        14\n",
            "\n",
            "    accuracy                           0.92       196\n",
            "   macro avg       0.67      0.56      0.59       196\n",
            "weighted avg       0.90      0.92      0.91       196\n",
            "\n",
            "Accuracy for balanced dataset 0.923469387755102\n",
            "Precision for balanced dataset 0.4\n",
            "Recall for balanced dataset 0.14285714285714285\n",
            "F1 score for balanced dataset 0.21052631578947367\n",
            "True Positive 179\n",
            "True Negative 3\n",
            "False Positive 12\n",
            "False Negative 2\n",
            "Confusion Matrix Report for balanced dataset Perceptron [[179   3]\n",
            " [ 12   2]]\n"
          ]
        }
      ]
    },
    {
      "cell_type": "code",
      "source": [
        "ssd['best hyperparameters'][1]"
      ],
      "metadata": {
        "colab": {
          "base_uri": "https://localhost:8080/"
        },
        "id": "N2Dc_5AADGjU",
        "outputId": "a18201da-70b8-4266-8975-8141bd2241ae"
      },
      "id": "N2Dc_5AADGjU",
      "execution_count": null,
      "outputs": [
        {
          "output_type": "execute_result",
          "data": {
            "text/plain": [
              "{'C': 5, 'kernel': 'rbf'}"
            ]
          },
          "metadata": {},
          "execution_count": 55
        }
      ]
    },
    {
      "cell_type": "code",
      "source": [
        "# Step 5: Train an SVM on the Balanced Dataset\n",
        "print(\"\\nStep 5: Training an SVM on the SMOTE-balanced dataset\")\n",
        "svm_smote = SVC(C=5 ,kernel='rbf')\n",
        "svm_smote.fit(X_train_smote, y_train_smote)\n",
        "y_pred_smote = svm_smote.predict(X_test)\n",
        "\n",
        "# Report metrics after SMOTE\n",
        "print(\"\\nClassification Report After SMOTE:\")\n",
        "smote_report = classification_report(y_test, y_pred_smote)\n",
        "print(smote_report)\n",
        "accuracy_bal_svm_gs=accuracy_score(y_test, y_pred_smote)\n",
        "precision_score_bal_svm_gs=precision_score(y_test, y_pred_smote)\n",
        "recall_score_bal_svm_gs=recall_score(y_test, y_pred_smote)\n",
        "f1_score_ibal_svm_gs=f1_score(y_test, y_pred_smote)\n",
        "print(\"Accuracy for balanced dataset\",accuracy_bal_svm_gs)\n",
        "print(\"Precision for balanced dataset\",precision_score_bal_svm_gs)\n",
        "print(\"Recall for balanced dataset\",recall_score_bal_svm_gs)\n",
        "print(\"F1 score for balanced dataset\",f1_score_ibal_svm_gs)\n",
        "cm_svm_smote_gs=confusion_matrix(y_test, y_pred_smote)\n",
        "#Get values for TP, TN, FP, FN\n",
        "TP,TN,FP, FN =cm_svm_smote_gs.ravel()\n",
        "print(\"True Positive\",TP)\n",
        "print(\"True Negative\",TN)\n",
        "print(\"False Positive\",FP)\n",
        "print(\"False Negative\",FN)\n",
        "print(\"Confusion Matrix Report for balanced dataset SVM\", cm_svm_smote_gs)"
      ],
      "metadata": {
        "colab": {
          "base_uri": "https://localhost:8080/"
        },
        "id": "1k8FMF1iVt7E",
        "outputId": "fd857ddf-1b07-423c-dd8d-cb2fec21ec2d"
      },
      "id": "1k8FMF1iVt7E",
      "execution_count": null,
      "outputs": [
        {
          "output_type": "stream",
          "name": "stdout",
          "text": [
            "\n",
            "Step 5: Training an SVM on the SMOTE-balanced dataset\n",
            "\n",
            "Classification Report After SMOTE:\n",
            "              precision    recall  f1-score   support\n",
            "\n",
            "           0       0.94      0.94      0.94       182\n",
            "           1       0.21      0.21      0.21        14\n",
            "\n",
            "    accuracy                           0.89       196\n",
            "   macro avg       0.58      0.58      0.58       196\n",
            "weighted avg       0.89      0.89      0.89       196\n",
            "\n",
            "Accuracy for balanced dataset 0.8877551020408163\n",
            "Precision for balanced dataset 0.21428571428571427\n",
            "Recall for balanced dataset 0.21428571428571427\n",
            "F1 score for balanced dataset 0.21428571428571427\n",
            "True Positive 171\n",
            "True Negative 11\n",
            "False Positive 11\n",
            "False Negative 3\n",
            "Confusion Matrix Report for balanced dataset SVM [[171  11]\n",
            " [ 11   3]]\n"
          ]
        }
      ]
    },
    {
      "cell_type": "code",
      "source": [
        "ssd['best hyperparameters'][2]"
      ],
      "metadata": {
        "colab": {
          "base_uri": "https://localhost:8080/"
        },
        "id": "kYT-wygZDQwm",
        "outputId": "14f254f0-90d7-47e7-ab8d-b79242dcc1f7"
      },
      "id": "kYT-wygZDQwm",
      "execution_count": null,
      "outputs": [
        {
          "output_type": "execute_result",
          "data": {
            "text/plain": [
              "{'criterion': 'entropy', 'max_depth': 40, 'min_samples_split': 2}"
            ]
          },
          "metadata": {},
          "execution_count": 61
        }
      ]
    },
    {
      "cell_type": "code",
      "source": [
        "# Step 5: Train an decision tree on the Balanced Dataset\n",
        "print(\"\\nStep 5: Training an decision tree on the SMOTE-balanced dataset\")\n",
        "dtree_smote = DecisionTreeClassifier( max_depth=40, min_samples_split=2 ,criterion= 'entropy',random_state=42,)\n",
        "dtree_smote.fit(X_train_smote, y_train_smote)\n",
        "y_pred_smote = dtree_smote.predict(X_test)\n",
        "\n",
        "# Report metrics after SMOTE\n",
        "print(\"\\nClassification Report After SMOTE:\")\n",
        "smote_report = classification_report(y_test, y_pred_smote)\n",
        "print(smote_report)\n",
        "accuracy_bal_dtree_gs=accuracy_score(y_test, y_pred_smote)\n",
        "precision_score_bal_dtree_gs=precision_score(y_test, y_pred_smote)\n",
        "recall_score_bal_dtree_gs=recall_score(y_test, y_pred_smote)\n",
        "f1_score_ibal_dtree_gs=f1_score(y_test, y_pred_smote)\n",
        "print(\"Accuracy for balanced dataset\",accuracy_bal_dtree_gs)\n",
        "print(\"Precision for balanced dataset\",precision_score_bal_dtree_gs)\n",
        "print(\"Recall for balanced dataset\",recall_score_bal_dtree_gs)\n",
        "print(\"F1 score for balanced dataset\",f1_score_ibal_dtree_gs)\n",
        "cm_dtree_smote_gs=confusion_matrix(y_test, y_pred_smote)\n",
        "#Get values for TP, TN, FP, FN\n",
        "TP,TN,FP, FN =cm_dtree_smote_gs.ravel()\n",
        "print(\"True Positive\",TP)\n",
        "print(\"True Negative\",TN)\n",
        "print(\"False Positive\",FP)\n",
        "print(\"False Negative\",FN)\n",
        "print(\"Confusion Matrix Report for balanced dataset Decison Tree\", cm_dtree_smote_gs)"
      ],
      "metadata": {
        "colab": {
          "base_uri": "https://localhost:8080/"
        },
        "id": "Gzm4v4YCVtZV",
        "outputId": "e51227e3-258f-48f0-93dc-d8aa5c4fdd8e"
      },
      "id": "Gzm4v4YCVtZV",
      "execution_count": null,
      "outputs": [
        {
          "output_type": "stream",
          "name": "stdout",
          "text": [
            "\n",
            "Step 5: Training an decision tree on the SMOTE-balanced dataset\n",
            "\n",
            "Classification Report After SMOTE:\n",
            "              precision    recall  f1-score   support\n",
            "\n",
            "           0       0.97      0.92      0.94       182\n",
            "           1       0.35      0.57      0.43        14\n",
            "\n",
            "    accuracy                           0.89       196\n",
            "   macro avg       0.66      0.74      0.69       196\n",
            "weighted avg       0.92      0.89      0.90       196\n",
            "\n",
            "Accuracy for balanced dataset 0.8928571428571429\n",
            "Precision for balanced dataset 0.34782608695652173\n",
            "Recall for balanced dataset 0.5714285714285714\n",
            "F1 score for balanced dataset 0.43243243243243246\n",
            "True Positive 167\n",
            "True Negative 15\n",
            "False Positive 6\n",
            "False Negative 8\n",
            "Confusion Matrix Report for balanced dataset Decison Tree [[167  15]\n",
            " [  6   8]]\n"
          ]
        }
      ]
    },
    {
      "cell_type": "markdown",
      "source": [
        "Visualization of the tuned models with grid search using Bar graph"
      ],
      "metadata": {
        "id": "-BCX6_fZ1mcL"
      },
      "id": "-BCX6_fZ1mcL"
    },
    {
      "cell_type": "code",
      "source": [
        "from re import A\n",
        "# Define your metrics\n",
        "plt.figure(figsize=(12, 8))\n",
        "metrics = ['Accuracy', 'F1-score', 'Precision','Recall']\n",
        "BeforeSmote_SVM = [\n",
        "    accuracy_imb_svm_gs, f1_score_imb_svm_gs, precision_score_imb_svm_gs, recall_score_imb_svm_gs]\n",
        "BeforeSmote_Perceptron = [\n",
        "    accuracy_imb_percep_gs, f1_score_imb_percep_gs, precision_score_imb_percep_gs, recall_score_imb_percep_gs]\n",
        "BeforeSmote_DecisionTree = [\n",
        "    accuracy_imb_dtree_gs, f1_score_imb_dtree_gs, precision_score_imb_dtree_gs, recall_score_imb_dtree_gs]\n",
        "BeforeSmote_RandomForest = [\n",
        "    accuracy_imbal_rf_gs, f1_score_imbal_rf_gs, precision_imbal_rf_gs, recall_imbal_rf_gs]\n",
        "#----------------------------------------------------------------------------------------------------------\n",
        "AfterSmote_SVM=[\n",
        "accuracy_bal_svm_gs, f1_score_ibal_svm_gs, precision_score_bal_svm_gs, recall_score_bal_svm_gs]\n",
        "AfterSmote_Perceptron = [\n",
        "    accuracy_bal_percep_gs, f1_score_ibal_percep_gs, precision_score_bal_percep_gs, recall_score_bal_percep_gs]\n",
        "AfterSmote_DecisionTree = [\n",
        "    accuracy_bal_dtree_gs, f1_score_ibal_dtree_gs, precision_score_bal_dtree_gs, recall_score_bal_dtree_gs]\n",
        "AfterSmote_RandomForest = [\n",
        "    accuracy_bal_rf_gs, f1_score_bal_rf_gs, precision_bal_rf_gs, recall_bal_rf_gs]\n",
        "\n",
        "# Plot comparison\n",
        "index = np.arange(len(metrics))\n",
        "bar_width = 0.1\n",
        "plt.bar(index, BeforeSmote_SVM, bar_width, label='BeforeSmote_SVM')\n",
        "plt.bar(index + bar_width*1, BeforeSmote_Perceptron, bar_width, label='BeforeSmote_Perceptron')\n",
        "plt.bar(index + bar_width*2, BeforeSmote_DecisionTree, bar_width, label='BeforeSmote_DecisionTree')\n",
        "plt.bar(index + bar_width*3, BeforeSmote_RandomForest, bar_width, label='BeforeSmote_RandomForest')\n",
        "plt.bar(index + bar_width*4, AfterSmote_SVM, bar_width, label='AfterSmote_SVM')\n",
        "plt.bar(index + bar_width*5, AfterSmote_Perceptron, bar_width, label='AfterSmote_Perceptron')\n",
        "plt.bar(index + bar_width*6, AfterSmote_DecisionTree, bar_width, label='AfterSmote_DecisionTree')\n",
        "plt.bar(index + bar_width*7, AfterSmote_RandomForest, bar_width, label='AfterSmote_RandomForest')\n",
        "\n",
        "plt.xlabel('Metrics')\n",
        "plt.ylabel('Scores')\n",
        "plt.title('Model Comparison for before and after SMOTE with GridSearch')\n",
        "plt.xticks(index + bar_width, metrics)\n",
        "plt.legend()\n",
        "plt.show()"
      ],
      "metadata": {
        "colab": {
          "base_uri": "https://localhost:8080/",
          "height": 718
        },
        "id": "F55_BekMw9ZS",
        "outputId": "b9411620-481e-4a93-d656-fbf819839b14"
      },
      "id": "F55_BekMw9ZS",
      "execution_count": null,
      "outputs": [
        {
          "output_type": "display_data",
          "data": {
            "text/plain": [
              "<Figure size 1200x800 with 1 Axes>"
            ],
            "image/png": "[encoded data removed]"
          },
          "metadata": {}
        }
      ]
    },
    {
      "cell_type": "markdown",
      "source": [
        "##Apply Random Search on Imbalanced Dataset"
      ],
      "metadata": {
        "id": "weI9aHR-xVDX"
      },
      "id": "weI9aHR-xVDX"
    },
    {
      "cell_type": "code",
      "source": [
        "from sklearn.model_selection import RandomizedSearchCV\n",
        "from scipy.stats import randint, uniform\n",
        "\n",
        "# Define parameter distribution\n",
        "param_dist = {\n",
        "    'n_estimators': randint(50, 100, 500),\n",
        "    'max_depth': [10, 20, 30, None],\n",
        "    'min_samples_split': randint(2, 20),\n",
        "    #'min_samples_leaf': randint(1, 10),\n",
        "    'max_features': ['sqrt', 'log2', None]\n",
        "}\n",
        "\n",
        "# Initialize Random Forest Classifier\n",
        "rftree = RandomForestClassifier(random_state=42)\n",
        "\n",
        "# Perform Randomized Search\n",
        "random_search = RandomizedSearchCV(\n",
        "    estimator=rftree,\n",
        "    param_distributions=param_dist,\n",
        "    n_iter=100,  # Number of parameter settings sampled\n",
        "    cv=5,\n",
        "    scoring='accuracy',\n",
        "    verbose=2,\n",
        "    random_state=42,\n",
        "    n_jobs=-1\n",
        ")\n",
        "random_search.fit(X_train, y_train)\n",
        "\n",
        "# Best parameters\n",
        "print(\"Best parameters found: \", random_search.best_params_)\n",
        "\n",
        "# Train with optimal parameters\n",
        "best_rftree = random_search.best_estimator_\n",
        "y_pred_balanced = best_rftree.predict(X_test)\n",
        "\n",
        "# Report metrics\n",
        "print(\"\\nClassification Report :\")\n",
        "imbalanced_report = classification_report(y_test, y_pred_balanced)\n",
        "print(imbalanced_report)\n",
        "accuracy_bal_rf = accuracy_score(y_test, y_pred_balanced)\n",
        "precision_bal_rf = precision_score(y_test, y_pred_balanced)\n",
        "recall_bal_rf = recall_score(y_test, y_pred_balanced)\n",
        "f1_score_bal_rf = f1_score(y_test, y_pred_balanced)\n",
        "\n",
        "print(\"Accuracy for balanced dataset\", accuracy_bal_rf)\n",
        "print(\"Precision for balanced dataset\", precision_bal_rf)\n",
        "print(\"Recall for balanced dataset\", recall_bal_rf)\n",
        "print(\"F1 score for balanced dataset\", f1_score_bal_rf)\n"
      ],
      "metadata": {
        "id": "XxC7ymG4X0Kc",
        "colab": {
          "base_uri": "https://localhost:8080/"
        },
        "outputId": "53e1b710-f5cd-48d1-b654-43fab735f4c3"
      },
      "id": "XxC7ymG4X0Kc",
      "execution_count": null,
      "outputs": [
        {
          "output_type": "stream",
          "name": "stdout",
          "text": [
            "Fitting 5 folds for each of 100 candidates, totalling 500 fits\n",
            "Best parameters found:  {'max_depth': 30, 'max_features': 'sqrt', 'min_samples_split': 4, 'n_estimators': 586}\n",
            "\n",
            "Classification Report :\n",
            "              precision    recall  f1-score   support\n",
            "\n",
            "           0       0.94      0.99      0.97       182\n",
            "           1       0.60      0.21      0.32        14\n",
            "\n",
            "    accuracy                           0.93       196\n",
            "   macro avg       0.77      0.60      0.64       196\n",
            "weighted avg       0.92      0.93      0.92       196\n",
            "\n",
            "Accuracy for balanced dataset 0.9336734693877551\n",
            "Precision for balanced dataset 0.6\n",
            "Recall for balanced dataset 0.21428571428571427\n",
            "F1 score for balanced dataset 0.3157894736842105\n"
          ]
        }
      ]
    },
    {
      "cell_type": "code",
      "source": [
        "# list of models\n",
        "models = [Perceptron(), SVC(kernel='linear'), DecisionTreeClassifier(), RandomForestClassifier(random_state=0)]"
      ],
      "metadata": {
        "id": "C52p6RSGAfWa"
      },
      "id": "C52p6RSGAfWa",
      "execution_count": null,
      "outputs": []
    },
    {
      "cell_type": "markdown",
      "source": [
        "## Apply Hyper Parameter Tuning on Imbalanced Dataset\n",
        "\n"
      ],
      "metadata": {
        "id": "4Lf5r-xeSC4Q"
      },
      "id": "4Lf5r-xeSC4Q"
    },
    {
      "cell_type": "code",
      "source": [
        "models_list_rs = [Perceptron(), SVC(kernel='linear'), DecisionTreeClassifier(), RandomForestClassifier(random_state=0)]"
      ],
      "metadata": {
        "id": "MwiQfsPF3pSQ"
      },
      "id": "MwiQfsPF3pSQ",
      "execution_count": null,
      "outputs": []
    },
    {
      "cell_type": "code",
      "source": [
        "# creating a dictionary that contains hyperparameter values for the above mentioned models\n",
        "\n",
        "\n",
        "rs_model_hyperparameters = {\n",
        "    'perceptron_hyperparameters': {\n",
        "        'alpha': [0.0001, 0.001, 0.01, 0.1, 1.0, 10.0, 100],  # Regularization strength\n",
        "        'max_iter': [1000, 5000, 10000]       # Number of iterations\n",
        "    },\n",
        "    'svc_hyperparameters': {\n",
        "        'kernel': ['linear', 'poly', 'rbf', 'sigmoid'],  # Kernel types\n",
        "        'C': [1, 5, 10, 20]                             # Regularization strength\n",
        "    },\n",
        "    'decision_tree_hyperparameters': {\n",
        "        'max_depth': [5, 10, 20, 30, 40, 50],                # Maximum depth of tree\n",
        "        'min_samples_split': [2, 5, 10],                # Minimum samples to split a node\n",
        "        'criterion': ['gini', 'entropy']                # Splitting criteria\n",
        "    },\n",
        "    'random_forest_hyperparameters': {\n",
        "        'n_estimators': [10, 20, 50, 100, 500, 1000],              # Number of trees\n",
        "        'max_depth': [5, 10, 20, 30, 40, 50],                    # Maximum depth of trees\n",
        "        'min_samples_split': [2, 5, 10, 20],                 # Minimum samples to split a node\n",
        "        'max_features': ['sqrt', 'log2', None]\n",
        "    }\n",
        "}\n"
      ],
      "metadata": {
        "id": "iTIsFTQy3wbh"
      },
      "id": "iTIsFTQy3wbh",
      "execution_count": null,
      "outputs": []
    },
    {
      "cell_type": "code",
      "source": [
        "model_keys_rs = list(rs_model_hyperparameters.keys())\n",
        "print(model_keys_rs)"
      ],
      "metadata": {
        "colab": {
          "base_uri": "https://localhost:8080/"
        },
        "id": "Vm0wRkaM32Yt",
        "outputId": "4feb7fb4-3d26-47e3-b414-7048d72d0c0a"
      },
      "id": "Vm0wRkaM32Yt",
      "execution_count": null,
      "outputs": [
        {
          "output_type": "stream",
          "name": "stdout",
          "text": [
            "['perceptron_hyperparameters', 'svc_hyperparameters', 'decision_tree_hyperparameters', 'random_forest_hyperparameters']\n"
          ]
        }
      ]
    },
    {
      "cell_type": "markdown",
      "source": [
        "##Apply Randomized Search on Imbalanced Dataset"
      ],
      "metadata": {
        "id": "zbhJTV8iSPWH"
      },
      "id": "zbhJTV8iSPWH"
    },
    {
      "cell_type": "code",
      "source": [
        "def RandomSearchModelSelection(model_list, hyperparameters_dictionary, n_iter=100):\n",
        "\n",
        "    results = []\n",
        "    i=0\n",
        "    for model in model_list:\n",
        "      key = model_keys_rs[i] # Accessing the key for the current model\n",
        "      params = hyperparameters_dictionary[key]\n",
        "      i += 1\n",
        "\n",
        "      print(model)\n",
        "      print(params)\n",
        "      print('-----------------------------------------------------------------')\n",
        "\n",
        "\n",
        "        # Initializing RandomizedSearchCV\n",
        "      classifier = RandomizedSearchCV(model, params, n_iter = n_iter, cv=5, scoring='accuracy', random_state=42, verbose=2, n_jobs=-1 )\n",
        "\n",
        "        # Fitting the model\n",
        "      classifier.fit(X_train, y_train)\n",
        "\n",
        "        # Appending the results\n",
        "      results.append({\n",
        "            'model used': key,\n",
        "            'highest score': classifier.best_score_,\n",
        "            'best hyperparameters': classifier.best_params_\n",
        "        })\n",
        "\n",
        "    # Converting the results to a DataFrame\n",
        "    result_dataframe = pd.DataFrame(results, columns=['model used', 'highest score', 'best hyperparameters'])\n",
        "\n",
        "    return result_dataframe\n"
      ],
      "metadata": {
        "id": "C_R3dRp5zLCg"
      },
      "id": "C_R3dRp5zLCg",
      "execution_count": null,
      "outputs": []
    },
    {
      "cell_type": "code",
      "source": [
        "ssd1 = RandomSearchModelSelection(models_list_rs, rs_model_hyperparameters, n_iter=100)"
      ],
      "metadata": {
        "colab": {
          "base_uri": "https://localhost:8080/"
        },
        "id": "y1UB_4im2DXm",
        "outputId": "0533a18a-eb6c-4235-aef6-d092070528fe"
      },
      "id": "y1UB_4im2DXm",
      "execution_count": null,
      "outputs": [
        {
          "output_type": "stream",
          "name": "stdout",
          "text": [
            "Perceptron()\n",
            "{'alpha': [0.0001, 0.001, 0.01, 0.1, 1.0, 10.0, 100], 'max_iter': [1000, 5000, 10000]}\n",
            "-----------------------------------------------------------------\n",
            "Fitting 5 folds for each of 21 candidates, totalling 105 fits\n"
          ]
        },
        {
          "output_type": "stream",
          "name": "stderr",
          "text": [
            "/usr/local/lib/python3.10/dist-packages/sklearn/model_selection/_search.py:320: UserWarning: The total space of parameters 21 is smaller than n_iter=100. Running 21 iterations. For exhaustive searches, use GridSearchCV.\n",
            "  warnings.warn(\n"
          ]
        },
        {
          "output_type": "stream",
          "name": "stdout",
          "text": [
            "SVC(kernel='linear')\n",
            "{'kernel': ['linear', 'poly', 'rbf', 'sigmoid'], 'C': [1, 5, 10, 20]}\n",
            "-----------------------------------------------------------------\n",
            "Fitting 5 folds for each of 16 candidates, totalling 80 fits\n"
          ]
        },
        {
          "output_type": "stream",
          "name": "stderr",
          "text": [
            "/usr/local/lib/python3.10/dist-packages/sklearn/model_selection/_search.py:320: UserWarning: The total space of parameters 16 is smaller than n_iter=100. Running 16 iterations. For exhaustive searches, use GridSearchCV.\n",
            "  warnings.warn(\n"
          ]
        },
        {
          "output_type": "stream",
          "name": "stdout",
          "text": [
            "DecisionTreeClassifier()\n",
            "{'max_depth': [5, 10, 20, 30, 40, 50], 'min_samples_split': [2, 5, 10], 'criterion': ['gini', 'entropy']}\n",
            "-----------------------------------------------------------------\n",
            "Fitting 5 folds for each of 36 candidates, totalling 180 fits\n"
          ]
        },
        {
          "output_type": "stream",
          "name": "stderr",
          "text": [
            "/usr/local/lib/python3.10/dist-packages/sklearn/model_selection/_search.py:320: UserWarning: The total space of parameters 36 is smaller than n_iter=100. Running 36 iterations. For exhaustive searches, use GridSearchCV.\n",
            "  warnings.warn(\n"
          ]
        },
        {
          "output_type": "stream",
          "name": "stdout",
          "text": [
            "RandomForestClassifier(random_state=0)\n",
            "{'n_estimators': [10, 20, 50, 100, 500, 1000], 'max_depth': [5, 10, 20, 30, 40, 50], 'min_samples_split': [2, 5, 10, 20], 'max_features': ['sqrt', 'log2', None]}\n",
            "-----------------------------------------------------------------\n",
            "Fitting 5 folds for each of 100 candidates, totalling 500 fits\n"
          ]
        }
      ]
    },
    {
      "cell_type": "code",
      "source": [
        "ssd1.head()"
      ],
      "metadata": {
        "colab": {
          "base_uri": "https://localhost:8080/",
          "height": 175
        },
        "id": "J8prDQsQLNvN",
        "outputId": "202ecf44-6ac3-4962-eb43-e2126dac694b"
      },
      "id": "J8prDQsQLNvN",
      "execution_count": null,
      "outputs": [
        {
          "output_type": "execute_result",
          "data": {
            "text/plain": [
              "                      model used  highest score  \\\n",
              "0     perceptron_hyperparameters       0.877496   \n",
              "1            svc_hyperparameters       0.919135   \n",
              "2  decision_tree_hyperparameters       0.912542   \n",
              "3  random_forest_hyperparameters       0.919040   \n",
              "\n",
              "                                best hyperparameters  \n",
              "0                {'max_iter': 1000, 'alpha': 0.0001}  \n",
              "1                         {'kernel': 'rbf', 'C': 10}  \n",
              "2  {'min_samples_split': 10, 'max_depth': 5, 'cri...  \n",
              "3  {'n_estimators': 1000, 'min_samples_split': 5,...  "
            ],
            "text/html": [
              "\n",
              "  <div id=\"df-53b56bb0-4a51-44b2-bfbe-53b811db0fd4\" class=\"colab-df-container\">\n",
              "    <div>\n",
              "<style scoped>\n",
              "    .dataframe tbody tr th:only-of-type {\n",
              "        vertical-align: middle;\n",
              "    }\n",
              "\n",
              "    .dataframe tbody tr th {\n",
              "        vertical-align: top;\n",
              "    }\n",
              "\n",
              "    .dataframe thead th {\n",
              "        text-align: right;\n",
              "    }\n",
              "</style>\n",
              "<table border=\"1\" class=\"dataframe\">\n",
              "  <thead>\n",
              "    <tr style=\"text-align: right;\">\n",
              "      <th></th>\n",
              "      <th>model used</th>\n",
              "      <th>highest score</th>\n",
              "      <th>best hyperparameters</th>\n",
              "    </tr>\n",
              "  </thead>\n",
              "  <tbody>\n",
              "    <tr>\n",
              "      <th>0</th>\n",
              "      <td>perceptron_hyperparameters</td>\n",
              "      <td>0.877496</td>\n",
              "      <td>{'max_iter': 1000, 'alpha': 0.0001}</td>\n",
              "    </tr>\n",
              "    <tr>\n",
              "      <th>1</th>\n",
              "      <td>svc_hyperparameters</td>\n",
              "      <td>0.919135</td>\n",
              "      <td>{'kernel': 'rbf', 'C': 10}</td>\n",
              "    </tr>\n",
              "    <tr>\n",
              "      <th>2</th>\n",
              "      <td>decision_tree_hyperparameters</td>\n",
              "      <td>0.912542</td>\n",
              "      <td>{'min_samples_split': 10, 'max_depth': 5, 'cri...</td>\n",
              "    </tr>\n",
              "    <tr>\n",
              "      <th>3</th>\n",
              "      <td>random_forest_hyperparameters</td>\n",
              "      <td>0.919040</td>\n",
              "      <td>{'n_estimators': 1000, 'min_samples_split': 5,...</td>\n",
              "    </tr>\n",
              "  </tbody>\n",
              "</table>\n",
              "</div>\n",
              "    <div class=\"colab-df-buttons\">\n",
              "\n",
              "  <div class=\"colab-df-container\">\n",
              "    <button class=\"colab-df-convert\" onclick=\"convertToInteractive('df-53b56bb0-4a51-44b2-bfbe-53b811db0fd4')\"\n",
              "            title=\"Convert this dataframe to an interactive table.\"\n",
              "            style=\"display:none;\">\n",
              "\n",
              "  <svg xmlns=\"http://www.w3.org/2000/svg\" height=\"24px\" viewBox=\"0 -960 960 960\">\n",
              "    <path d=\"M120-120v-720h720v720H120Zm60-500h600v-160H180v160Zm220 220h160v-160H400v160Zm0 220h160v-160H400v160ZM180-400h160v-160H180v160Zm440 0h160v-160H620v160ZM180-180h160v-160H180v160Zm440 0h160v-160H620v160Z\"/>\n",
              "  </svg>\n",
              "    </button>\n",
              "\n",
              "  <style>\n",
              "    .colab-df-container {\n",
              "      display:flex;\n",
              "      gap: 12px;\n",
              "    }\n",
              "\n",
              "    .colab-df-convert {\n",
              "      background-color: #E8F0FE;\n",
              "      border: none;\n",
              "      border-radius: 50%;\n",
              "      cursor: pointer;\n",
              "      display: none;\n",
              "      fill: #1967D2;\n",
              "      height: 32px;\n",
              "      padding: 0 0 0 0;\n",
              "      width: 32px;\n",
              "    }\n",
              "\n",
              "    .colab-df-convert:hover {\n",
              "      background-color: #E2EBFA;\n",
              "      box-shadow: 0px 1px 2px rgba(60, 64, 67, 0.3), 0px 1px 3px 1px rgba(60, 64, 67, 0.15);\n",
              "      fill: #174EA6;\n",
              "    }\n",
              "\n",
              "    .colab-df-buttons div {\n",
              "      margin-bottom: 4px;\n",
              "    }\n",
              "\n",
              "    [theme=dark] .colab-df-convert {\n",
              "      background-color: #3B4455;\n",
              "      fill: #D2E3FC;\n",
              "    }\n",
              "\n",
              "    [theme=dark] .colab-df-convert:hover {\n",
              "      background-color: #434B5C;\n",
              "      box-shadow: 0px 1px 3px 1px rgba(0, 0, 0, 0.15);\n",
              "      filter: drop-shadow(0px 1px 2px rgba(0, 0, 0, 0.3));\n",
              "      fill: #FFFFFF;\n",
              "    }\n",
              "  </style>\n",
              "\n",
              "    <script>\n",
              "      const buttonEl =\n",
              "        document.querySelector('#df-53b56bb0-4a51-44b2-bfbe-53b811db0fd4 button.colab-df-convert');\n",
              "      buttonEl.style.display =\n",
              "        google.colab.kernel.accessAllowed ? 'block' : 'none';\n",
              "\n",
              "      async function convertToInteractive(key) {\n",
              "        const element = document.querySelector('#df-53b56bb0-4a51-44b2-bfbe-53b811db0fd4');\n",
              "        const dataTable =\n",
              "          await google.colab.kernel.invokeFunction('convertToInteractive',\n",
              "                                                    [key], {});\n",
              "        if (!dataTable) return;\n",
              "\n",
              "        const docLinkHtml = 'Like what you see? Visit the ' +\n",
              "          '<a target=\"_blank\" href=https://colab.research.google.com/notebooks/data_table.ipynb>data table notebook</a>'\n",
              "          + ' to learn more about interactive tables.';\n",
              "        element.innerHTML = '';\n",
              "        dataTable['output_type'] = 'display_data';\n",
              "        await google.colab.output.renderOutput(dataTable, element);\n",
              "        const docLink = document.createElement('div');\n",
              "        docLink.innerHTML = docLinkHtml;\n",
              "        element.appendChild(docLink);\n",
              "      }\n",
              "    </script>\n",
              "  </div>\n",
              "\n",
              "\n",
              "<div id=\"df-0a06d412-424c-421c-9389-395e9b0058e4\">\n",
              "  <button class=\"colab-df-quickchart\" onclick=\"quickchart('df-0a06d412-424c-421c-9389-395e9b0058e4')\"\n",
              "            title=\"Suggest charts\"\n",
              "            style=\"display:none;\">\n",
              "\n",
              "<svg xmlns=\"http://www.w3.org/2000/svg\" height=\"24px\"viewBox=\"0 0 24 24\"\n",
              "     width=\"24px\">\n",
              "    <g>\n",
              "        <path d=\"M19 3H5c-1.1 0-2 .9-2 2v14c0 1.1.9 2 2 2h14c1.1 0 2-.9 2-2V5c0-1.1-.9-2-2-2zM9 17H7v-7h2v7zm4 0h-2V7h2v10zm4 0h-2v-4h2v4z\"/>\n",
              "    </g>\n",
              "</svg>\n",
              "  </button>\n",
              "\n",
              "<style>\n",
              "  .colab-df-quickchart {\n",
              "      --bg-color: #E8F0FE;\n",
              "      --fill-color: #1967D2;\n",
              "      --hover-bg-color: #E2EBFA;\n",
              "      --hover-fill-color: #174EA6;\n",
              "      --disabled-fill-color: #AAA;\n",
              "      --disabled-bg-color: #DDD;\n",
              "  }\n",
              "\n",
              "  [theme=dark] .colab-df-quickchart {\n",
              "      --bg-color: #3B4455;\n",
              "      --fill-color: #D2E3FC;\n",
              "      --hover-bg-color: #434B5C;\n",
              "      --hover-fill-color: #FFFFFF;\n",
              "      --disabled-bg-color: #3B4455;\n",
              "      --disabled-fill-color: #666;\n",
              "  }\n",
              "\n",
              "  .colab-df-quickchart {\n",
              "    background-color: var(--bg-color);\n",
              "    border: none;\n",
              "    border-radius: 50%;\n",
              "    cursor: pointer;\n",
              "    display: none;\n",
              "    fill: var(--fill-color);\n",
              "    height: 32px;\n",
              "    padding: 0;\n",
              "    width: 32px;\n",
              "  }\n",
              "\n",
              "  .colab-df-quickchart:hover {\n",
              "    background-color: var(--hover-bg-color);\n",
              "    box-shadow: 0 1px 2px rgba(60, 64, 67, 0.3), 0 1px 3px 1px rgba(60, 64, 67, 0.15);\n",
              "    fill: var(--button-hover-fill-color);\n",
              "  }\n",
              "\n",
              "  .colab-df-quickchart-complete:disabled,\n",
              "  .colab-df-quickchart-complete:disabled:hover {\n",
              "    background-color: var(--disabled-bg-color);\n",
              "    fill: var(--disabled-fill-color);\n",
              "    box-shadow: none;\n",
              "  }\n",
              "\n",
              "  .colab-df-spinner {\n",
              "    border: 2px solid var(--fill-color);\n",
              "    border-color: transparent;\n",
              "    border-bottom-color: var(--fill-color);\n",
              "    animation:\n",
              "      spin 1s steps(1) infinite;\n",
              "  }\n",
              "\n",
              "  @keyframes spin {\n",
              "    0% {\n",
              "      border-color: transparent;\n",
              "      border-bottom-color: var(--fill-color);\n",
              "      border-left-color: var(--fill-color);\n",
              "    }\n",
              "    20% {\n",
              "      border-color: transparent;\n",
              "      border-left-color: var(--fill-color);\n",
              "      border-top-color: var(--fill-color);\n",
              "    }\n",
              "    30% {\n",
              "      border-color: transparent;\n",
              "      border-left-color: var(--fill-color);\n",
              "      border-top-color: var(--fill-color);\n",
              "      border-right-color: var(--fill-color);\n",
              "    }\n",
              "    40% {\n",
              "      border-color: transparent;\n",
              "      border-right-color: var(--fill-color);\n",
              "      border-top-color: var(--fill-color);\n",
              "    }\n",
              "    60% {\n",
              "      border-color: transparent;\n",
              "      border-right-color: var(--fill-color);\n",
              "    }\n",
              "    80% {\n",
              "      border-color: transparent;\n",
              "      border-right-color: var(--fill-color);\n",
              "      border-bottom-color: var(--fill-color);\n",
              "    }\n",
              "    90% {\n",
              "      border-color: transparent;\n",
              "      border-bottom-color: var(--fill-color);\n",
              "    }\n",
              "  }\n",
              "</style>\n",
              "\n",
              "  <script>\n",
              "    async function quickchart(key) {\n",
              "      const quickchartButtonEl =\n",
              "        document.querySelector('#' + key + ' button');\n",
              "      quickchartButtonEl.disabled = true;  // To prevent multiple clicks.\n",
              "      quickchartButtonEl.classList.add('colab-df-spinner');\n",
              "      try {\n",
              "        const charts = await google.colab.kernel.invokeFunction(\n",
              "            'suggestCharts', [key], {});\n",
              "      } catch (error) {\n",
              "        console.error('Error during call to suggestCharts:', error);\n",
              "      }\n",
              "      quickchartButtonEl.classList.remove('colab-df-spinner');\n",
              "      quickchartButtonEl.classList.add('colab-df-quickchart-complete');\n",
              "    }\n",
              "    (() => {\n",
              "      let quickchartButtonEl =\n",
              "        document.querySelector('#df-0a06d412-424c-421c-9389-395e9b0058e4 button');\n",
              "      quickchartButtonEl.style.display =\n",
              "        google.colab.kernel.accessAllowed ? 'block' : 'none';\n",
              "    })();\n",
              "  </script>\n",
              "</div>\n",
              "\n",
              "    </div>\n",
              "  </div>\n"
            ],
            "application/vnd.google.colaboratory.intrinsic+json": {
              "type": "dataframe",
              "variable_name": "ssd1",
              "summary": "{\n  \"name\": \"ssd1\",\n  \"rows\": 4,\n  \"fields\": [\n    {\n      \"column\": \"model used\",\n      \"properties\": {\n        \"dtype\": \"string\",\n        \"num_unique_values\": 4,\n        \"samples\": [\n          \"svc_hyperparameters\",\n          \"random_forest_hyperparameters\",\n          \"perceptron_hyperparameters\"\n        ],\n        \"semantic_type\": \"\",\n        \"description\": \"\"\n      }\n    },\n    {\n      \"column\": \"highest score\",\n      \"properties\": {\n        \"dtype\": \"number\",\n        \"std\": 0.01994474363109219,\n        \"min\": 0.8774964166268514,\n        \"max\": 0.9191352126134735,\n        \"num_unique_values\": 4,\n        \"samples\": [\n          0.9191352126134735,\n          0.9190396559961777,\n          0.8774964166268514\n        ],\n        \"semantic_type\": \"\",\n        \"description\": \"\"\n      }\n    },\n    {\n      \"column\": \"best hyperparameters\",\n      \"properties\": {\n        \"dtype\": \"object\",\n        \"semantic_type\": \"\",\n        \"description\": \"\"\n      }\n    }\n  ]\n}"
            }
          },
          "metadata": {},
          "execution_count": 73
        }
      ]
    },
    {
      "cell_type": "code",
      "source": [
        "ssd1['best hyperparameters'][3]"
      ],
      "metadata": {
        "colab": {
          "base_uri": "https://localhost:8080/"
        },
        "id": "NyhqKDBs6mDp",
        "outputId": "788b4c73-58b5-4334-8946-660d26914f1f"
      },
      "id": "NyhqKDBs6mDp",
      "execution_count": null,
      "outputs": [
        {
          "output_type": "execute_result",
          "data": {
            "text/plain": [
              "{'n_estimators': 1000,\n",
              " 'min_samples_split': 5,\n",
              " 'max_features': 'sqrt',\n",
              " 'max_depth': 40}"
            ]
          },
          "metadata": {},
          "execution_count": 74
        }
      ]
    },
    {
      "cell_type": "code",
      "source": [
        "\n",
        " # Step 4: Apply best parameters to Ensemble Random Forest\n",
        "print(\"\\nStep 4: Applying Best Parameters Ensemble Random Forest to imbalanced training set\")\n",
        "rftree = RandomForestClassifier(random_state=42, max_depth=40, min_samples_split=5,n_estimators=1000, max_features='sqrt')\n",
        "\n",
        "# Train an Ensemble Random Forest on the Imbalanced Dataset\n",
        "print(\"Training an Ensemble Random Foreston the imbalanced dataset\")\n",
        "rftree .fit(X_train, y_train)\n",
        "y_pred_imbalanced = rftree.predict(X_test)\n",
        "\n",
        "# Report metrics\n",
        "print(\"\\nClassification Report :\")\n",
        "imbalanced_report = classification_report(y_test, y_pred_imbalanced)\n",
        "print(imbalanced_report)\n",
        "accuracy_imbal_rf_rs=accuracy_score(y_test, y_pred_imbalanced)\n",
        "precision_imbal_rf_rs=precision_score(y_test, y_pred_imbalanced)\n",
        "recall_imbal_rf_rs=recall_score(y_test, y_pred_imbalanced)\n",
        "f1_score_imbal_rf_rs=f1_score(y_test, y_pred_imbalanced)\n",
        "print(\"Accuracy for imbalanced dataset\",accuracy_imbal_rf_rs)\n",
        "print(\"Precision for imbalanced dataset\",precision_imbal_rf_rs)\n",
        "print(\"Recall for imbalanced dataset\",recall_imbal_rf_rs)\n",
        "print(\"F1 score for imbalanced dataset\",f1_score_imbal_rf_rs)\n",
        "cm_rf_rs=confusion_matrix(y_test, y_pred_imbalanced)\n",
        "#Get values for TP, TN, FP, FN\n",
        "TP,TN,FP, FN =cm_rf_rs.ravel()\n",
        "print(\"True Positive\",TP)\n",
        "print(\"True Negative\",TN)\n",
        "print(\"False Positive\",FP)\n",
        "print(\"False Negative\",FN)\n",
        "print(\"Confusion Matrix Report for imbalanced dataset Random Forest\", cm_rf_rs)"
      ],
      "metadata": {
        "colab": {
          "base_uri": "https://localhost:8080/"
        },
        "id": "cXB56Dvf7E9Q",
        "outputId": "b9c1a87c-42da-4503-dbe8-ee649c29f6a2"
      },
      "id": "cXB56Dvf7E9Q",
      "execution_count": null,
      "outputs": [
        {
          "output_type": "stream",
          "name": "stdout",
          "text": [
            "\n",
            "Step 4: Applying Best Parameters Ensemble Random Forest to imbalanced training set\n",
            "Training an Ensemble Random Foreston the imbalanced dataset\n",
            "\n",
            "Classification Report :\n",
            "              precision    recall  f1-score   support\n",
            "\n",
            "           0       0.94      0.99      0.97       182\n",
            "           1       0.60      0.21      0.32        14\n",
            "\n",
            "    accuracy                           0.93       196\n",
            "   macro avg       0.77      0.60      0.64       196\n",
            "weighted avg       0.92      0.93      0.92       196\n",
            "\n",
            "Accuracy for imbalanced dataset 0.9336734693877551\n",
            "Precision for imbalanced dataset 0.6\n",
            "Recall for imbalanced dataset 0.21428571428571427\n",
            "F1 score for imbalanced dataset 0.3157894736842105\n",
            "True Positive 180\n",
            "True Negative 2\n",
            "False Positive 11\n",
            "False Negative 3\n",
            "Confusion Matrix Report for imbalanced dataset Random Forest [[180   2]\n",
            " [ 11   3]]\n"
          ]
        }
      ]
    },
    {
      "cell_type": "code",
      "source": [
        "ssd1['best hyperparameters'][2]"
      ],
      "metadata": {
        "colab": {
          "base_uri": "https://localhost:8080/"
        },
        "id": "MZ6JTISpIddR",
        "outputId": "2f45fa70-4e7a-4dc6-8f8d-4a15634fcc9f"
      },
      "id": "MZ6JTISpIddR",
      "execution_count": null,
      "outputs": [
        {
          "output_type": "execute_result",
          "data": {
            "text/plain": [
              "{'min_samples_split': 10, 'max_depth': 5, 'criterion': 'entropy'}"
            ]
          },
          "metadata": {},
          "execution_count": 76
        }
      ]
    },
    {
      "cell_type": "code",
      "source": [
        "# Step 3: Train an decision tree on the Imbalanced Dataset\n",
        "print(\"\\nStep 3: Training an decision tree on the imbalanced dataset\")\n",
        "dtree = DecisionTreeClassifier(random_state=42, max_depth=5, min_samples_split=10 ,criterion= 'entropy')\n",
        "dtree .fit(X_train, y_train)\n",
        "y_pred_imbalanced = dtree.predict(X_test)\n",
        "\n",
        "# Report metrics before SMOTE\n",
        "print(\"\\nClassification Report Before SMOTE:\")\n",
        "imbalanced_report = classification_report(y_test, y_pred_imbalanced)\n",
        "print(imbalanced_report)\n",
        "accuracy_imb_dtree_rs=accuracy_score(y_test, y_pred_imbalanced)\n",
        "precision_score_imb_dtree_rs=precision_score(y_test, y_pred_imbalanced)\n",
        "recall_score_imb_dtree_rs=recall_score(y_test, y_pred_imbalanced)\n",
        "f1_score_imb_dtree_rs=f1_score(y_test, y_pred_imbalanced)\n",
        "print(\"Accuracy for imbalanced dataset\",accuracy_imb_dtree_rs)\n",
        "print(\"Precision for imbalanced dataset\",precision_score_imb_dtree_rs)\n",
        "print(\"Recall for imbalanced dataset\",recall_score_imb_dtree_rs)\n",
        "print(\"F1 score for imbalanced dataset\",f1_score_imb_dtree_rs)\n",
        "cm_dtree_rs=confusion_matrix(y_test, y_pred_imbalanced)\n",
        "#Get values for TP, TN, FP, FN\n",
        "TP,TN,FP, FN =cm_dtree_rs.ravel()\n",
        "print(\"True Positive\",TP)\n",
        "print(\"True Negative\",TN)\n",
        "print(\"False Positive\",FP)\n",
        "print(\"False Negative\",FN)\n",
        "print(\"Confusion Matrix Report for imbalanced dataset Decision Tree\", cm_dtree_rs)"
      ],
      "metadata": {
        "colab": {
          "base_uri": "https://localhost:8080/"
        },
        "id": "9EZpAFoAQKqG",
        "outputId": "b6f5d1ed-aedd-4d2d-f93b-662e59f5f006"
      },
      "id": "9EZpAFoAQKqG",
      "execution_count": null,
      "outputs": [
        {
          "output_type": "stream",
          "name": "stdout",
          "text": [
            "\n",
            "Step 3: Training an decision tree on the imbalanced dataset\n",
            "\n",
            "Classification Report Before SMOTE:\n",
            "              precision    recall  f1-score   support\n",
            "\n",
            "           0       0.95      0.98      0.96       182\n",
            "           1       0.50      0.29      0.36        14\n",
            "\n",
            "    accuracy                           0.93       196\n",
            "   macro avg       0.72      0.63      0.66       196\n",
            "weighted avg       0.91      0.93      0.92       196\n",
            "\n",
            "Accuracy for imbalanced dataset 0.9285714285714286\n",
            "Precision for imbalanced dataset 0.5\n",
            "Recall for imbalanced dataset 0.2857142857142857\n",
            "F1 score for imbalanced dataset 0.36363636363636365\n",
            "True Positive 178\n",
            "True Negative 4\n",
            "False Positive 10\n",
            "False Negative 4\n",
            "Confusion Matrix Report for imbalanced dataset Decision Tree [[178   4]\n",
            " [ 10   4]]\n"
          ]
        }
      ]
    },
    {
      "cell_type": "code",
      "source": [
        "ssd1['best hyperparameters'][1]"
      ],
      "metadata": {
        "colab": {
          "base_uri": "https://localhost:8080/"
        },
        "id": "BAJ29E3kIh_4",
        "outputId": "74b08bd7-92b2-4313-c86d-dc6cf9fb16eb"
      },
      "id": "BAJ29E3kIh_4",
      "execution_count": null,
      "outputs": [
        {
          "output_type": "execute_result",
          "data": {
            "text/plain": [
              "{'kernel': 'rbf', 'C': 10}"
            ]
          },
          "metadata": {},
          "execution_count": 78
        }
      ]
    },
    {
      "cell_type": "code",
      "source": [
        "# Step 3: Train an SVM on the Imbalanced Dataset\n",
        "print(\"\\nStep 3: Training an SVM on the imbalanced dataset\")\n",
        "svm = SVC(kernel='rbf', C=10 )\n",
        "svm.fit(X_train, y_train)\n",
        "y_pred_imbalanced = svm.predict(X_test)\n",
        "\n",
        "# Report metrics before SMOTE\n",
        "print(\"\\nClassification Report Before SMOTE:\")\n",
        "imbalanced_report = classification_report(y_test, y_pred_imbalanced)\n",
        "print(imbalanced_report)\n",
        "accuracy_imb_svm_rs=accuracy_score(y_test, y_pred_imbalanced)\n",
        "precision_score_imb_svm_rs=precision_score(y_test, y_pred_imbalanced)\n",
        "recall_score_imb_svm_rs=recall_score(y_test, y_pred_imbalanced)\n",
        "f1_score_imb_svm_rs=f1_score(y_test, y_pred_imbalanced)\n",
        "print(\"Accuracy for imbalanced dataset\",accuracy_imb_svm_rs)\n",
        "print(\"Precision for imbalanced dataset\",precision_score_imb_svm_rs)\n",
        "print(\"Recall for imbalanced dataset\",recall_score_imb_svm_rs)\n",
        "print(\"F1 score for imbalanced dataset\",f1_score_imb_svm_rs)\n",
        "cm_svm_rs=confusion_matrix(y_test, y_pred_imbalanced)\n",
        "#Get values for TP, TN, FP, FN\n",
        "TP,TN,FP, FN =cm_svm_rs.ravel()\n",
        "print(\"True Positive\",TP)\n",
        "print(\"True Negative\",TN)\n",
        "print(\"False Positive\",FP)\n",
        "print(\"False Negative\",FN)\n",
        "print(\"Confusion Matrix Report for imbalanced dataset SVM\", cm_svm_rs)"
      ],
      "metadata": {
        "colab": {
          "base_uri": "https://localhost:8080/"
        },
        "id": "sKxl0RfdQKbF",
        "outputId": "a415e962-6eeb-4379-b19e-7afc47f3df42"
      },
      "id": "sKxl0RfdQKbF",
      "execution_count": null,
      "outputs": [
        {
          "output_type": "stream",
          "name": "stdout",
          "text": [
            "\n",
            "Step 3: Training an SVM on the imbalanced dataset\n",
            "\n",
            "Classification Report Before SMOTE:\n",
            "              precision    recall  f1-score   support\n",
            "\n",
            "           0       0.94      0.96      0.95       182\n",
            "           1       0.22      0.14      0.17        14\n",
            "\n",
            "    accuracy                           0.90       196\n",
            "   macro avg       0.58      0.55      0.56       196\n",
            "weighted avg       0.88      0.90      0.89       196\n",
            "\n",
            "Accuracy for imbalanced dataset 0.9030612244897959\n",
            "Precision for imbalanced dataset 0.2222222222222222\n",
            "Recall for imbalanced dataset 0.14285714285714285\n",
            "F1 score for imbalanced dataset 0.17391304347826086\n",
            "True Positive 175\n",
            "True Negative 7\n",
            "False Positive 12\n",
            "False Negative 2\n",
            "Confusion Matrix Report for imbalanced dataset SVM [[175   7]\n",
            " [ 12   2]]\n"
          ]
        }
      ]
    },
    {
      "cell_type": "code",
      "source": [
        "ssd1['best hyperparameters'][0]"
      ],
      "metadata": {
        "colab": {
          "base_uri": "https://localhost:8080/"
        },
        "id": "fxlRL7MjImla",
        "outputId": "fe75282b-b977-4584-fff1-6c80a82ee768"
      },
      "id": "fxlRL7MjImla",
      "execution_count": null,
      "outputs": [
        {
          "output_type": "execute_result",
          "data": {
            "text/plain": [
              "{'max_iter': 1000, 'alpha': 0.0001}"
            ]
          },
          "metadata": {},
          "execution_count": 80
        }
      ]
    },
    {
      "cell_type": "code",
      "source": [
        "# Step 3: Train an perceptron on the Imbalanced Dataset\n",
        "print(\"\\nStep 3: Training an perceptron on the imbalanced dataset\")\n",
        "perceptron = Perceptron(alpha= 0.0001, max_iter= 1000)\n",
        "perceptron .fit(X_train, y_train)\n",
        "y_pred_imbalanced = perceptron.predict(X_test)\n",
        "\n",
        "# Report metrics before SMOTE\n",
        "print(\"\\nClassification Report Before SMOTE:\")\n",
        "imbalanced_report = classification_report(y_test, y_pred_imbalanced)\n",
        "print(imbalanced_report)\n",
        "accuracy_imb_percep_rs=accuracy_score(y_test, y_pred_imbalanced)\n",
        "precision_score_imb_percep_rs=precision_score(y_test, y_pred_imbalanced)\n",
        "recall_score_imb_percep_rs=recall_score(y_test, y_pred_imbalanced)\n",
        "f1_score_imb_percep_rs=f1_score(y_test, y_pred_imbalanced)\n",
        "print(\"Accuracy for imbalanced dataset\",accuracy_imb_percep_rs)\n",
        "print(\"Precision for imbalanced dataset\",precision_score_imb_percep_rs)\n",
        "print(\"Recall for imbalanced dataset\",recall_score_imb_percep_rs)\n",
        "print(\"F1 score for imbalanced dataset\",f1_score_imb_percep_rs)\n",
        "cm_perceptron_rs=confusion_matrix(y_test, y_pred_imbalanced)\n",
        "#Get values for TP, TN, FP, FN\n",
        "TP,TN,FP, FN =cm_perceptron_rs.ravel()\n",
        "print(\"True Positive\",TP)\n",
        "print(\"True Negative\",TN)\n",
        "print(\"False Positive\",FP)\n",
        "print(\"False Negative\",FN)\n",
        "print(\"Confusion Matrix Report for imbalanced dataset Perceptron\", cm_perceptron_rs)"
      ],
      "metadata": {
        "colab": {
          "base_uri": "https://localhost:8080/"
        },
        "id": "zyOdKypGQKE5",
        "outputId": "7a69215b-47c7-4bda-caca-dd04e7589a1e"
      },
      "id": "zyOdKypGQKE5",
      "execution_count": null,
      "outputs": [
        {
          "output_type": "stream",
          "name": "stdout",
          "text": [
            "\n",
            "Step 3: Training an perceptron on the imbalanced dataset\n",
            "\n",
            "Classification Report Before SMOTE:\n",
            "              precision    recall  f1-score   support\n",
            "\n",
            "           0       0.93      0.96      0.95       182\n",
            "           1       0.12      0.07      0.09        14\n",
            "\n",
            "    accuracy                           0.90       196\n",
            "   macro avg       0.53      0.52      0.52       196\n",
            "weighted avg       0.87      0.90      0.88       196\n",
            "\n",
            "Accuracy for imbalanced dataset 0.8979591836734694\n",
            "Precision for imbalanced dataset 0.125\n",
            "Recall for imbalanced dataset 0.07142857142857142\n",
            "F1 score for imbalanced dataset 0.09090909090909091\n",
            "True Positive 175\n",
            "True Negative 7\n",
            "False Positive 13\n",
            "False Negative 1\n",
            "Confusion Matrix Report for imbalanced dataset Perceptron [[175   7]\n",
            " [ 13   1]]\n"
          ]
        }
      ]
    },
    {
      "cell_type": "markdown",
      "source": [
        "## Apply Hyper Parameter Tuning on SMOTE Balanced Dataset\n"
      ],
      "metadata": {
        "id": "1sLqQ27uVb_C"
      },
      "id": "1sLqQ27uVb_C"
    },
    {
      "cell_type": "code",
      "source": [
        "models_list_rs_smote = [Perceptron(), SVC(kernel='linear'), DecisionTreeClassifier(), RandomForestClassifier(random_state=0)]"
      ],
      "metadata": {
        "id": "83tkY9SDSiUH"
      },
      "id": "83tkY9SDSiUH",
      "execution_count": null,
      "outputs": []
    },
    {
      "cell_type": "code",
      "source": [
        "# creating a dictionary that contains hyperparameter values for the above mentioned models\n",
        "\n",
        "\n",
        "Smote_rs_model_hyperparameters = {\n",
        "    'perceptron_hyperparameters': {\n",
        "        'alpha': [0.0001, 0.001, 0.01, 0.1, 1.0, 10.0, 100],  # Regularization strength\n",
        "        'max_iter': [1000, 5000, 10000]       # Number of iterations\n",
        "    },\n",
        "    'svc_hyperparameters': {\n",
        "        'kernel': ['linear', 'poly', 'rbf', 'sigmoid'],  # Kernel types\n",
        "        'C': [1, 5, 10, 20]                             # Regularization strength\n",
        "    },\n",
        "    'decision_tree_hyperparameters': {\n",
        "        'max_depth': [5, 10, 20, 30, 40, 50],                # Maximum depth of tree\n",
        "        'min_samples_split': [2, 5, 10],                # Minimum samples to split a node\n",
        "        'criterion': ['gini', 'entropy']                # Splitting criteria\n",
        "    },\n",
        "    'random_forest_hyperparameters': {\n",
        "        'n_estimators': [10, 20, 50, 100, 500, 1000],              # Number of trees\n",
        "        'max_depth': [5, 10, 20, 30, 40, 50],                    # Maximum depth of trees\n",
        "        'min_samples_split': [2, 5, 10, 20],                 # Minimum samples to split a node\n",
        "        'max_features': ['sqrt', 'log2', None]\n",
        "    }\n",
        "}\n"
      ],
      "metadata": {
        "id": "CfIwn5OvWikB"
      },
      "id": "CfIwn5OvWikB",
      "execution_count": null,
      "outputs": []
    },
    {
      "cell_type": "code",
      "source": [
        "model_keys_rs_smote = list(Smote_rs_model_hyperparameters.keys())\n",
        "print(model_keys_rs_smote)"
      ],
      "metadata": {
        "colab": {
          "base_uri": "https://localhost:8080/"
        },
        "id": "lGaC6XSAV1WT",
        "outputId": "5cb95d76-2d7b-49d9-b22c-b953a56e76ac"
      },
      "id": "lGaC6XSAV1WT",
      "execution_count": null,
      "outputs": [
        {
          "output_type": "stream",
          "name": "stdout",
          "text": [
            "['perceptron_hyperparameters', 'svc_hyperparameters', 'decision_tree_hyperparameters', 'random_forest_hyperparameters']\n"
          ]
        }
      ]
    },
    {
      "cell_type": "code",
      "source": [
        "def RandomSearchModelSelectionSmote(model_list, hyperparameters_dictionary, n_iter=100):\n",
        "\n",
        "    results = []\n",
        "    i=0\n",
        "    for model in model_list:\n",
        "      key = model_keys_rs_smote[i] # Accessing the key for the current model\n",
        "      params = hyperparameters_dictionary[key]\n",
        "      i += 1\n",
        "\n",
        "      print(model)\n",
        "      print(params)\n",
        "      print('-----------------------------------------------------------------')\n",
        "\n",
        "\n",
        "        # Initializing RandomizedSearchCV\n",
        "      classifier = RandomizedSearchCV(model, params, n_iter = n_iter, cv=5, scoring='accuracy', random_state=42, verbose=2, n_jobs=-1 )\n",
        "\n",
        "        # Fitting the model\n",
        "      classifier.fit(X_train_smote, y_train_smote)\n",
        "\n",
        "        # Appending the results\n",
        "      results.append({\n",
        "            'model used': key,\n",
        "            'highest score': classifier.best_score_,\n",
        "            'best hyperparameters': classifier.best_params_\n",
        "        })\n",
        "\n",
        "    # Converting the results to a DataFrame\n",
        "    result_dataframe = pd.DataFrame(results, columns=['model used', 'highest score', 'best hyperparameters'])\n",
        "\n",
        "    return result_dataframe\n"
      ],
      "metadata": {
        "id": "TpGKQZbzSiQs"
      },
      "id": "TpGKQZbzSiQs",
      "execution_count": null,
      "outputs": []
    },
    {
      "cell_type": "code",
      "source": [
        "ssd2 = RandomSearchModelSelectionSmote(models_list_rs_smote, Smote_rs_model_hyperparameters)"
      ],
      "metadata": {
        "colab": {
          "base_uri": "https://localhost:8080/"
        },
        "id": "lmE_JD2PSiOZ",
        "outputId": "2018f4e2-09af-4460-f820-eb1bbcda5163"
      },
      "id": "lmE_JD2PSiOZ",
      "execution_count": null,
      "outputs": [
        {
          "output_type": "stream",
          "name": "stdout",
          "text": [
            "Perceptron()\n",
            "{'alpha': [0.0001, 0.001, 0.01, 0.1, 1.0, 10.0, 100], 'max_iter': [1000, 5000, 10000]}\n",
            "-----------------------------------------------------------------\n",
            "Fitting 5 folds for each of 21 candidates, totalling 105 fits\n"
          ]
        },
        {
          "output_type": "stream",
          "name": "stderr",
          "text": [
            "/usr/local/lib/python3.10/dist-packages/sklearn/model_selection/_search.py:320: UserWarning: The total space of parameters 21 is smaller than n_iter=100. Running 21 iterations. For exhaustive searches, use GridSearchCV.\n",
            "  warnings.warn(\n"
          ]
        },
        {
          "output_type": "stream",
          "name": "stdout",
          "text": [
            "SVC(kernel='linear')\n",
            "{'kernel': ['linear', 'poly', 'rbf', 'sigmoid'], 'C': [1, 5, 10, 20]}\n",
            "-----------------------------------------------------------------\n",
            "Fitting 5 folds for each of 16 candidates, totalling 80 fits\n"
          ]
        },
        {
          "output_type": "stream",
          "name": "stderr",
          "text": [
            "/usr/local/lib/python3.10/dist-packages/sklearn/model_selection/_search.py:320: UserWarning: The total space of parameters 16 is smaller than n_iter=100. Running 16 iterations. For exhaustive searches, use GridSearchCV.\n",
            "  warnings.warn(\n"
          ]
        },
        {
          "output_type": "stream",
          "name": "stdout",
          "text": [
            "DecisionTreeClassifier()\n",
            "{'max_depth': [5, 10, 20, 30, 40, 50], 'min_samples_split': [2, 5, 10], 'criterion': ['gini', 'entropy']}\n",
            "-----------------------------------------------------------------\n",
            "Fitting 5 folds for each of 36 candidates, totalling 180 fits\n"
          ]
        },
        {
          "output_type": "stream",
          "name": "stderr",
          "text": [
            "/usr/local/lib/python3.10/dist-packages/sklearn/model_selection/_search.py:320: UserWarning: The total space of parameters 36 is smaller than n_iter=100. Running 36 iterations. For exhaustive searches, use GridSearchCV.\n",
            "  warnings.warn(\n"
          ]
        },
        {
          "output_type": "stream",
          "name": "stdout",
          "text": [
            "RandomForestClassifier(random_state=0)\n",
            "{'n_estimators': [10, 20, 50, 100, 500, 1000], 'max_depth': [5, 10, 20, 30, 40, 50], 'min_samples_split': [2, 5, 10, 20], 'max_features': ['sqrt', 'log2', None]}\n",
            "-----------------------------------------------------------------\n",
            "Fitting 5 folds for each of 100 candidates, totalling 500 fits\n"
          ]
        }
      ]
    },
    {
      "cell_type": "code",
      "source": [
        "ssd2['best hyperparameters'][3]"
      ],
      "metadata": {
        "colab": {
          "base_uri": "https://localhost:8080/"
        },
        "id": "qSeMcl_ccseZ",
        "outputId": "23a83671-0119-4f84-b56f-786809fde0db"
      },
      "id": "qSeMcl_ccseZ",
      "execution_count": null,
      "outputs": [
        {
          "output_type": "execute_result",
          "data": {
            "text/plain": [
              "{'n_estimators': 500,\n",
              " 'min_samples_split': 2,\n",
              " 'max_features': 'sqrt',\n",
              " 'max_depth': 20}"
            ]
          },
          "metadata": {},
          "execution_count": 88
        }
      ]
    },
    {
      "cell_type": "code",
      "source": [
        "# Step 4: Apply Best parameters Ensemble Random Forest on Balanced dataset\n",
        "print(\"\\nStep 4: Applying Ensemble Random Forest to balance the training set\")\n",
        "rftree = RandomForestClassifier(max_depth=20, min_samples_split=2,n_estimators= 500 , max_features='sqrt',random_state=42)\n",
        "\n",
        "# Train an Ensemble Random Forest on the balanced Dataset\n",
        "print(\"Training an Ensemble Random Foreston the balanced dataset\")\n",
        "rftree .fit(X_train_smote, y_train_smote)\n",
        "y_pred_balanced = rftree.predict(X_test)\n",
        "\n",
        "# Report metrics\n",
        "print(\"\\nClassification Report :\")\n",
        "imbalanced_report = classification_report(y_test, y_pred_balanced)\n",
        "print(imbalanced_report)\n",
        "accuracy_bal_rf_rs=accuracy_score(y_test, y_pred_balanced)\n",
        "precision_bal_rf_rs=precision_score(y_test, y_pred_balanced)\n",
        "recall_bal_rf_rs=recall_score(y_test, y_pred_balanced)\n",
        "f1_score_bal_rf_rs=f1_score(y_test, y_pred_balanced)\n",
        "print(\"Accuracy for balanced dataset\",accuracy_bal_rf_rs)\n",
        "print(\"Precision for balanced dataset\",precision_bal_rf_rs)\n",
        "print(\"Recall for balanced dataset\",recall_bal_rf_rs)\n",
        "print(\"F1 score for balanced dataset\",f1_score_bal_rf_rs)\n",
        "cm_rf_smote_rs=confusion_matrix(y_test, y_pred_balanced)\n",
        "#Get values for TP, TN, FP, FN\n",
        "TP,TN,FP, FN =cm_rf_smote_rs.ravel()\n",
        "print(\"True Positive\",TP)\n",
        "print(\"True Negative\",TN)\n",
        "print(\"False Positive\",FP)\n",
        "print(\"False Negative\",FN)\n",
        "print(\"Confusion Matrix Report for balanced dataset Random forest\", cm_rf_smote_rs)"
      ],
      "metadata": {
        "colab": {
          "base_uri": "https://localhost:8080/"
        },
        "id": "QqgJMCkTSiKX",
        "outputId": "b1370795-edee-4e59-d25e-c4a6f1ea6e4c"
      },
      "id": "QqgJMCkTSiKX",
      "execution_count": null,
      "outputs": [
        {
          "output_type": "stream",
          "name": "stdout",
          "text": [
            "\n",
            "Step 4: Applying Ensemble Random Forest to balance the training set\n",
            "Training an Ensemble Random Foreston the balanced dataset\n",
            "\n",
            "Classification Report :\n",
            "              precision    recall  f1-score   support\n",
            "\n",
            "           0       0.96      0.93      0.95       182\n",
            "           1       0.37      0.50      0.42        14\n",
            "\n",
            "    accuracy                           0.90       196\n",
            "   macro avg       0.66      0.72      0.69       196\n",
            "weighted avg       0.92      0.90      0.91       196\n",
            "\n",
            "Accuracy for balanced dataset 0.9030612244897959\n",
            "Precision for balanced dataset 0.3684210526315789\n",
            "Recall for balanced dataset 0.5\n",
            "F1 score for balanced dataset 0.42424242424242425\n",
            "True Positive 170\n",
            "True Negative 12\n",
            "False Positive 7\n",
            "False Negative 7\n",
            "Confusion Matrix Report for balanced dataset Random forest [[170  12]\n",
            " [  7   7]]\n"
          ]
        }
      ]
    },
    {
      "cell_type": "code",
      "source": [
        "ssd2['best hyperparameters'][0]"
      ],
      "metadata": {
        "colab": {
          "base_uri": "https://localhost:8080/"
        },
        "id": "6TWisF17MAZs",
        "outputId": "243e37d5-33dd-450a-a7ce-3175fc1a0c07"
      },
      "id": "6TWisF17MAZs",
      "execution_count": null,
      "outputs": [
        {
          "output_type": "execute_result",
          "data": {
            "text/plain": [
              "{'max_iter': 1000, 'alpha': 0.0001}"
            ]
          },
          "metadata": {},
          "execution_count": 90
        }
      ]
    },
    {
      "cell_type": "code",
      "source": [
        "# Step 5: Train an Perceptron on the Balanced Dataset\n",
        "print(\"\\nStep 5: Training an perceptron on the SMOTE-balanced dataset\")\n",
        "perceptron_smote = Perceptron(alpha= 0.0001, max_iter= 1000)\n",
        "perceptron_smote.fit(X_train_smote, y_train_smote)\n",
        "y_pred_smote = perceptron_smote.predict(X_test)\n",
        "\n",
        "# Report metrics after SMOTE\n",
        "print(\"\\nClassification Report After SMOTE:\")\n",
        "smote_report = classification_report(y_test, y_pred_smote)\n",
        "print(smote_report)\n",
        "accuracy_bal_percep_rs=accuracy_score(y_test, y_pred_smote)\n",
        "precision_score_bal_percep_rs=precision_score(y_test, y_pred_smote)\n",
        "recall_score_bal_percep_rs=recall_score(y_test, y_pred_smote)\n",
        "f1_score_ibal_percep_rs=f1_score(y_test, y_pred_smote)\n",
        "print(\"Accuracy for balanced dataset\",accuracy_bal_percep_rs)\n",
        "print(\"Precision for balanced dataset\",precision_score_bal_percep_rs)\n",
        "print(\"Recall for balanced dataset\",recall_score_bal_percep_rs)\n",
        "print(\"F1 score for balanced dataset\",f1_score_ibal_percep_rs)\n",
        "cm_perceptron_smote_rs=confusion_matrix(y_test, y_pred_smote)\n",
        "#Get values for TP, TN, FP, FN\n",
        "TP,TN,FP, FN =cm_perceptron_smote_rs.ravel()\n",
        "print(\"True Positive\",TP)\n",
        "print(\"True Negative\",TN)\n",
        "print(\"False Positive\",FP)\n",
        "print(\"False Negative\",FN)\n",
        "print(\"Confusion Matrix Report for balanced dataset Perceptron\", cm_perceptron_smote_rs)"
      ],
      "metadata": {
        "colab": {
          "base_uri": "https://localhost:8080/"
        },
        "id": "zv-7NCxDSiIG",
        "outputId": "074faa5a-5c80-4edc-cded-f6390a49e81b"
      },
      "id": "zv-7NCxDSiIG",
      "execution_count": null,
      "outputs": [
        {
          "output_type": "stream",
          "name": "stdout",
          "text": [
            "\n",
            "Step 5: Training an perceptron on the SMOTE-balanced dataset\n",
            "\n",
            "Classification Report After SMOTE:\n",
            "              precision    recall  f1-score   support\n",
            "\n",
            "           0       0.94      0.98      0.96       182\n",
            "           1       0.40      0.14      0.21        14\n",
            "\n",
            "    accuracy                           0.92       196\n",
            "   macro avg       0.67      0.56      0.59       196\n",
            "weighted avg       0.90      0.92      0.91       196\n",
            "\n",
            "Accuracy for balanced dataset 0.923469387755102\n",
            "Precision for balanced dataset 0.4\n",
            "Recall for balanced dataset 0.14285714285714285\n",
            "F1 score for balanced dataset 0.21052631578947367\n",
            "True Positive 179\n",
            "True Negative 3\n",
            "False Positive 12\n",
            "False Negative 2\n",
            "Confusion Matrix Report for balanced dataset Perceptron [[179   3]\n",
            " [ 12   2]]\n"
          ]
        }
      ]
    },
    {
      "cell_type": "code",
      "source": [
        "ssd2['best hyperparameters'][1]"
      ],
      "metadata": {
        "colab": {
          "base_uri": "https://localhost:8080/"
        },
        "id": "DP6Uw4_1MFD_",
        "outputId": "7614ea0e-f824-47c1-c687-64cc01761d5d"
      },
      "id": "DP6Uw4_1MFD_",
      "execution_count": null,
      "outputs": [
        {
          "output_type": "execute_result",
          "data": {
            "text/plain": [
              "{'kernel': 'rbf', 'C': 5}"
            ]
          },
          "metadata": {},
          "execution_count": 92
        }
      ]
    },
    {
      "cell_type": "code",
      "source": [
        "# Step 5: Train an SVM on the Balanced Dataset\n",
        "print(\"\\nStep 5: Training an SVM on the SMOTE-balanced dataset\")\n",
        "svm_smote = SVC(C=5 ,kernel='rbf')\n",
        "svm_smote.fit(X_train_smote, y_train_smote)\n",
        "y_pred_smote = svm_smote.predict(X_test)\n",
        "\n",
        "# Report metrics after SMOTE\n",
        "print(\"\\nClassification Report After SMOTE:\")\n",
        "smote_report = classification_report(y_test, y_pred_smote)\n",
        "print(smote_report)\n",
        "accuracy_bal_svm_rs=accuracy_score(y_test, y_pred_smote)\n",
        "precision_score_bal_svm_rs=precision_score(y_test, y_pred_smote)\n",
        "recall_score_bal_svm_rs=recall_score(y_test, y_pred_smote)\n",
        "f1_score_ibal_svm_rs=f1_score(y_test, y_pred_smote)\n",
        "print(\"Accuracy for balanced dataset\",accuracy_bal_svm_rs)\n",
        "print(\"Precision for balanced dataset\",precision_score_bal_svm_rs)\n",
        "print(\"Recall for balanced dataset\",recall_score_bal_svm_rs)\n",
        "print(\"F1 score for balanced dataset\",f1_score_ibal_svm_rs)\n",
        "cm_svm_smote_rs=confusion_matrix(y_test, y_pred_smote)\n",
        "#Get values for TP, TN, FP, FN\n",
        "TP,TN,FP, FN =cm_svm_smote_rs.ravel()\n",
        "print(\"True Positive\",TP)\n",
        "print(\"True Negative\",TN)\n",
        "print(\"False Positive\",FP)\n",
        "print(\"False Negative\",FN)\n",
        "print(\"Confusion Matrix Report for balanced dataset SVM\", cm_svm_smote_rs)"
      ],
      "metadata": {
        "colab": {
          "base_uri": "https://localhost:8080/"
        },
        "id": "S43xA7ZXSiB3",
        "outputId": "dfe1671a-82e6-4a54-c052-cdf09055e2f5"
      },
      "id": "S43xA7ZXSiB3",
      "execution_count": null,
      "outputs": [
        {
          "output_type": "stream",
          "name": "stdout",
          "text": [
            "\n",
            "Step 5: Training an SVM on the SMOTE-balanced dataset\n",
            "\n",
            "Classification Report After SMOTE:\n",
            "              precision    recall  f1-score   support\n",
            "\n",
            "           0       0.94      0.94      0.94       182\n",
            "           1       0.21      0.21      0.21        14\n",
            "\n",
            "    accuracy                           0.89       196\n",
            "   macro avg       0.58      0.58      0.58       196\n",
            "weighted avg       0.89      0.89      0.89       196\n",
            "\n",
            "Accuracy for balanced dataset 0.8877551020408163\n",
            "Precision for balanced dataset 0.21428571428571427\n",
            "Recall for balanced dataset 0.21428571428571427\n",
            "F1 score for balanced dataset 0.21428571428571427\n",
            "True Positive 171\n",
            "True Negative 11\n",
            "False Positive 11\n",
            "False Negative 3\n",
            "Confusion Matrix Report for balanced dataset SVM [[171  11]\n",
            " [ 11   3]]\n"
          ]
        }
      ]
    },
    {
      "cell_type": "code",
      "source": [
        "ssd2['best hyperparameters'][2]"
      ],
      "metadata": {
        "colab": {
          "base_uri": "https://localhost:8080/"
        },
        "id": "bssJXQEqMQ0b",
        "outputId": "e997d02e-01d5-4db7-8749-056caab29ff7"
      },
      "id": "bssJXQEqMQ0b",
      "execution_count": null,
      "outputs": [
        {
          "output_type": "execute_result",
          "data": {
            "text/plain": [
              "{'min_samples_split': 2, 'max_depth': 20, 'criterion': 'gini'}"
            ]
          },
          "metadata": {},
          "execution_count": 94
        }
      ]
    },
    {
      "cell_type": "code",
      "source": [
        "# Step 5: Train an decision tree on the Balanced Dataset\n",
        "print(\"\\nStep 5: Training an decision tree on the SMOTE-balanced dataset\")\n",
        "dtree_smote = DecisionTreeClassifier(random_state=42, max_depth=30, min_samples_split=2, criterion= 'gini')\n",
        "dtree_smote.fit(X_train_smote, y_train_smote)\n",
        "y_pred_smote = dtree_smote.predict(X_test)\n",
        "\n",
        "# Report metrics after SMOTE\n",
        "print(\"\\nClassification Report After SMOTE:\")\n",
        "smote_report = classification_report(y_test, y_pred_smote)\n",
        "print(smote_report)\n",
        "accuracy_bal_dtree_rs=accuracy_score(y_test, y_pred_smote)\n",
        "precision_score_bal_dtree_rs=precision_score(y_test, y_pred_smote)\n",
        "recall_score_bal_dtree_rs=recall_score(y_test, y_pred_smote)\n",
        "f1_score_ibal_dtree_rs=f1_score(y_test, y_pred_smote)\n",
        "print(\"Accuracy for balanced dataset\",accuracy_bal_dtree_rs)\n",
        "print(\"Precision for balanced dataset\",precision_score_bal_dtree_rs)\n",
        "print(\"Recall for balanced dataset\",recall_score_bal_dtree_rs)\n",
        "print(\"F1 score for balanced dataset\",f1_score_ibal_dtree_rs)\n",
        "cm_dtree_smote_rs=confusion_matrix(y_test, y_pred_smote)\n",
        "#Get values for TP, TN, FP, FN\n",
        "TP,TN,FP, FN =cm_dtree_smote_rs.ravel()\n",
        "print(\"True Positive\",TP)\n",
        "print(\"True Negative\",TN)\n",
        "print(\"False Positive\",FP)\n",
        "print(\"False Negative\",FN)\n",
        "print(\"Confusion Matrix Report for balanced dataset Decison Tree\", cm_dtree_smote_rs)"
      ],
      "metadata": {
        "colab": {
          "base_uri": "https://localhost:8080/"
        },
        "id": "72w2hbyMSh_x",
        "outputId": "ca34d8d4-a744-469e-a6cd-7251e4afcfe8"
      },
      "id": "72w2hbyMSh_x",
      "execution_count": null,
      "outputs": [
        {
          "output_type": "stream",
          "name": "stdout",
          "text": [
            "\n",
            "Step 5: Training an decision tree on the SMOTE-balanced dataset\n",
            "\n",
            "Classification Report After SMOTE:\n",
            "              precision    recall  f1-score   support\n",
            "\n",
            "           0       0.97      0.90      0.93       182\n",
            "           1       0.32      0.64      0.43        14\n",
            "\n",
            "    accuracy                           0.88       196\n",
            "   macro avg       0.65      0.77      0.68       196\n",
            "weighted avg       0.92      0.88      0.90       196\n",
            "\n",
            "Accuracy for balanced dataset 0.8775510204081632\n",
            "Precision for balanced dataset 0.32142857142857145\n",
            "Recall for balanced dataset 0.6428571428571429\n",
            "F1 score for balanced dataset 0.42857142857142855\n",
            "True Positive 163\n",
            "True Negative 19\n",
            "False Positive 5\n",
            "False Negative 9\n",
            "Confusion Matrix Report for balanced dataset Decison Tree [[163  19]\n",
            " [  5   9]]\n"
          ]
        }
      ]
    },
    {
      "cell_type": "markdown",
      "source": [
        "Visualization of the tuned models with random search using Bar graph"
      ],
      "metadata": {
        "id": "1ilLFV8_1RmH"
      },
      "id": "1ilLFV8_1RmH"
    },
    {
      "cell_type": "code",
      "source": [
        "from re import A\n",
        "# Define your metrics\n",
        "plt.figure(figsize=(12, 8))\n",
        "metrics = ['Accuracy', 'F1-score', 'Precision','Recall']\n",
        "BeforeSmote_SVM = [\n",
        "    accuracy_imb_svm_rs, f1_score_imb_svm_rs, precision_score_imb_svm_rs, recall_score_imb_svm_rs]\n",
        "BeforeSmote_Perceptron = [\n",
        "    accuracy_imb_percep_rs, f1_score_imb_percep_rs, precision_score_imb_percep_rs, recall_score_imb_percep_rs]\n",
        "BeforeSmote_DecisionTree = [\n",
        "    accuracy_imb_dtree_rs, f1_score_imb_dtree_rs, precision_score_imb_dtree_rs, recall_score_imb_dtree_rs]\n",
        "BeforeSmote_RandomForest = [\n",
        "    accuracy_imbal_rf_rs, f1_score_imbal_rf_rs, precision_imbal_rf_rs, recall_imbal_rf_rs]\n",
        "#----------------------------------------------------------------------------------------------------------\n",
        "AfterSmote_SVM=[\n",
        "accuracy_bal_svm_rs, f1_score_ibal_svm_rs, precision_score_bal_svm_rs, recall_score_bal_svm_rs]\n",
        "AfterSmote_Perceptron = [\n",
        "    accuracy_bal_percep_rs, f1_score_ibal_percep_rs, precision_score_bal_percep_rs, recall_score_bal_percep_rs]\n",
        "AfterSmote_DecisionTree = [\n",
        "    accuracy_bal_dtree_rs, f1_score_ibal_dtree_rs, precision_score_bal_dtree_rs, recall_score_bal_dtree_rs]\n",
        "AfterSmote_RandomForest = [\n",
        "    accuracy_bal_rf_rs, f1_score_bal_rf_rs, precision_bal_rf_rs, recall_bal_rf_rs]\n",
        "\n",
        "# Plot comparison\n",
        "index = np.arange(len(metrics))\n",
        "bar_width = 0.1\n",
        "\n",
        "plt.bar(index, BeforeSmote_SVM, bar_width, label='BeforeSmote_SVM')\n",
        "plt.bar(index + bar_width*1, BeforeSmote_Perceptron, bar_width, label='BeforeSmote_Perceptron')\n",
        "plt.bar(index + bar_width*2, BeforeSmote_DecisionTree, bar_width, label='BeforeSmote_DecisionTree')\n",
        "plt.bar(index + bar_width*3, BeforeSmote_RandomForest, bar_width, label='BeforeSmote_RandomForest')\n",
        "plt.bar(index + bar_width*4, AfterSmote_SVM, bar_width, label='AfterSmote_SVM')\n",
        "plt.bar(index + bar_width*5, AfterSmote_Perceptron, bar_width, label='AfterSmote_Perceptron')\n",
        "plt.bar(index + bar_width*6, AfterSmote_DecisionTree, bar_width, label='AfterSmote_DecisionTree')\n",
        "plt.bar(index + bar_width*7, AfterSmote_RandomForest, bar_width, label='AfterSmote_RandomForest')\n",
        "\n",
        "plt.xlabel('Metrics')\n",
        "plt.ylabel('Scores')\n",
        "plt.title('Model Comparison for before and after SMOTE with RandomSearch')\n",
        "plt.xticks(index + bar_width, metrics)\n",
        "plt.legend()\n",
        "plt.show()"
      ],
      "metadata": {
        "id": "QFKezJeVShpt",
        "colab": {
          "base_uri": "https://localhost:8080/",
          "height": 718
        },
        "outputId": "db75d831-0ca3-4aab-c9a9-1733d02fb29f"
      },
      "id": "QFKezJeVShpt",
      "execution_count": null,
      "outputs": [
        {
          "output_type": "display_data",
          "data": {
            "text/plain": [
              "<Figure size 1200x800 with 1 Axes>"
            ],
            "image/png": "[encoded data removed]"
          },
          "metadata": {}
        }
      ]
    }
  ],
  "metadata": {
    "colab": {
      "provenance": []
    },
    "kernelspec": {
      "display_name": "Python 3 (ipykernel)",
      "language": "python",
      "name": "python3"
    },
    "language_info": {
      "codemirror_mode": {
        "name": "ipython",
        "version": 3
      },
      "file_extension": ".py",
      "mimetype": "text/x-python",
      "name": "python",
      "nbconvert_exporter": "python",
      "pygments_lexer": "ipython3",
      "version": "3.9.13"
    }
  },
  "nbformat": 4,
  "nbformat_minor": 5
}
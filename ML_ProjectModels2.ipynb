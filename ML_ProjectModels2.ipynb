{
  "nbformat": 4,
  "nbformat_minor": 0,
  "metadata": {
    "colab": {
      "provenance": []
    },
    "kernelspec": {
      "name": "python3",
      "display_name": "Python 3"
    },
    "language_info": {
      "name": "python"
    }
  },
  "cells": [
    {
      "cell_type": "markdown",
      "source": [
        "Note: Handling Imbalanced Dataset without SMOTE using multiple Algorithms and hyper parameter tuning with grid search and random search Handling Imbalanced Dataset with SMOTE using multiple Algorithms and hyper parameter tuning with grid search and random search"
      ],
      "metadata": {
        "id": "3qIwYzMaW9Z2"
      }
    },
    {
      "cell_type": "markdown",
      "source": [
        "This file covers following models :\n",
        "1.   XGBoost\n",
        "2.   Naive Bayes\n",
        "3.   Linear Regression\n"
      ],
      "metadata": {
        "id": "I9gIYjWF2cpf"
      }
    },
    {
      "cell_type": "markdown",
      "source": [
        "Import Dependencies"
      ],
      "metadata": {
        "id": "-sik-DzLXB4B"
      }
    },
    {
      "cell_type": "code",
      "source": [
        "import numpy as np\n",
        "import pandas as pd\n",
        "import matplotlib.pyplot as plt\n",
        "import seaborn as sns\n",
        "from sklearn.datasets import make_classification\n",
        "from sklearn.model_selection import train_test_split\n",
        "from sklearn.svm import SVC\n",
        "from sklearn.tree import DecisionTreeClassifier\n",
        "from sklearn.linear_model import Perceptron\n",
        "from sklearn.metrics import classification_report\n",
        "from imblearn.over_sampling import SMOTE\n",
        "from sklearn.ensemble import RandomForestClassifier\n",
        "from sklearn.model_selection import cross_val_score, GridSearchCV, RandomizedSearchCV\n",
        "from sklearn.metrics import accuracy_score, precision_score, recall_score, f1_score, confusion_matrix"
      ],
      "metadata": {
        "id": "UOHjsqQ_XCtz"
      },
      "execution_count": null,
      "outputs": []
    },
    {
      "cell_type": "markdown",
      "source": [
        "Data Preparartion"
      ],
      "metadata": {
        "id": "X46b4505XkLh"
      }
    },
    {
      "cell_type": "code",
      "source": [
        "file = \"crx.data\"\n",
        "column_names = ['A1', 'A2', 'A3', 'A4', 'A5', 'A6', 'A7', 'A8', 'A9', 'A10', 'A11', 'A12', 'A13', 'A14', 'A15', 'Class']\n",
        "data = pd.read_csv(file, names=column_names, sep=',', na_values='?')\n",
        "data = data.replace('?', np.nan)\n",
        "data.dropna(inplace=True)\n",
        "#data.drop_duplicates(inplace=True)\n",
        "print(data.head())\n",
        "# print(data.columns)\n",
        "data.shape"
      ],
      "metadata": {
        "colab": {
          "base_uri": "https://localhost:8080/"
        },
        "id": "KX8yBrGZXs3z",
        "outputId": "c9579e1c-44d6-4743-826a-d57244308c8a"
      },
      "execution_count": null,
      "outputs": [
        {
          "output_type": "stream",
          "name": "stdout",
          "text": [
            "  A1     A2     A3 A4 A5 A6 A7    A8 A9 A10  A11 A12 A13    A14  A15 Class\n",
            "0  b  30.83  0.000  u  g  w  v  1.25  t   t    1   f   g  202.0    0     +\n",
            "1  a  58.67  4.460  u  g  q  h  3.04  t   t    6   f   g   43.0  560     +\n",
            "2  a  24.50  0.500  u  g  q  h  1.50  t   f    0   f   g  280.0  824     +\n",
            "3  b  27.83  1.540  u  g  w  v  3.75  t   t    5   t   g  100.0    3     +\n",
            "4  b  20.17  5.625  u  g  w  v  1.71  t   f    0   f   s  120.0    0     +\n"
          ]
        },
        {
          "output_type": "execute_result",
          "data": {
            "text/plain": [
              "(653, 16)"
            ]
          },
          "metadata": {},
          "execution_count": 2
        }
      ]
    },
    {
      "cell_type": "code",
      "source": [
        "from os import replace\n",
        "# Separate features and target\n",
        "replace_map = {'+': 1, '-': 0}\n",
        "data['Class'] = data['Class'].replace(replace_map)"
      ],
      "metadata": {
        "colab": {
          "base_uri": "https://localhost:8080/"
        },
        "id": "cFg8K6v7YCUn",
        "outputId": "1e3c8489-b75d-453f-89c1-ec409a35b25c"
      },
      "execution_count": null,
      "outputs": [
        {
          "output_type": "stream",
          "name": "stderr",
          "text": [
            "<ipython-input-3-6a55f5a09167>:4: FutureWarning: Downcasting behavior in `replace` is deprecated and will be removed in a future version. To retain the old behavior, explicitly call `result.infer_objects(copy=False)`. To opt-in to the future behavior, set `pd.set_option('future.no_silent_downcasting', True)`\n",
            "  data['Class'] = data['Class'].replace(replace_map)\n"
          ]
        }
      ]
    },
    {
      "cell_type": "code",
      "source": [
        "data.info()"
      ],
      "metadata": {
        "colab": {
          "base_uri": "https://localhost:8080/"
        },
        "id": "OdB3mh7jYG-T",
        "outputId": "50e28148-6e68-40ff-d4e5-e1ba17c7d37b"
      },
      "execution_count": null,
      "outputs": [
        {
          "output_type": "stream",
          "name": "stdout",
          "text": [
            "<class 'pandas.core.frame.DataFrame'>\n",
            "Index: 653 entries, 0 to 689\n",
            "Data columns (total 16 columns):\n",
            " #   Column  Non-Null Count  Dtype  \n",
            "---  ------  --------------  -----  \n",
            " 0   A1      653 non-null    object \n",
            " 1   A2      653 non-null    float64\n",
            " 2   A3      653 non-null    float64\n",
            " 3   A4      653 non-null    object \n",
            " 4   A5      653 non-null    object \n",
            " 5   A6      653 non-null    object \n",
            " 6   A7      653 non-null    object \n",
            " 7   A8      653 non-null    float64\n",
            " 8   A9      653 non-null    object \n",
            " 9   A10     653 non-null    object \n",
            " 10  A11     653 non-null    int64  \n",
            " 11  A12     653 non-null    object \n",
            " 12  A13     653 non-null    object \n",
            " 13  A14     653 non-null    float64\n",
            " 14  A15     653 non-null    int64  \n",
            " 15  Class   653 non-null    int64  \n",
            "dtypes: float64(4), int64(3), object(9)\n",
            "memory usage: 86.7+ KB\n"
          ]
        }
      ]
    },
    {
      "cell_type": "code",
      "source": [
        "# Fill missing values with the most frequent value for simplicity\n",
        "data.fillna(data.mode().iloc[0], inplace=True)\n",
        "data.head()"
      ],
      "metadata": {
        "colab": {
          "base_uri": "https://localhost:8080/",
          "height": 206
        },
        "id": "Ht_uS3aDYKAw",
        "outputId": "91fc9184-9203-47d1-8dc5-b518e1cf16f0"
      },
      "execution_count": null,
      "outputs": [
        {
          "output_type": "execute_result",
          "data": {
            "text/plain": [
              "  A1     A2     A3 A4 A5 A6 A7    A8 A9 A10  A11 A12 A13    A14  A15  Class\n",
              "0  b  30.83  0.000  u  g  w  v  1.25  t   t    1   f   g  202.0    0      1\n",
              "1  a  58.67  4.460  u  g  q  h  3.04  t   t    6   f   g   43.0  560      1\n",
              "2  a  24.50  0.500  u  g  q  h  1.50  t   f    0   f   g  280.0  824      1\n",
              "3  b  27.83  1.540  u  g  w  v  3.75  t   t    5   t   g  100.0    3      1\n",
              "4  b  20.17  5.625  u  g  w  v  1.71  t   f    0   f   s  120.0    0      1"
            ],
            "text/html": [
              "\n",
              "  <div id=\"df-70b8a2a0-3a91-49e3-bdde-1dcb9f5c0774\" class=\"colab-df-container\">\n",
              "    <div>\n",
              "<style scoped>\n",
              "    .dataframe tbody tr th:only-of-type {\n",
              "        vertical-align: middle;\n",
              "    }\n",
              "\n",
              "    .dataframe tbody tr th {\n",
              "        vertical-align: top;\n",
              "    }\n",
              "\n",
              "    .dataframe thead th {\n",
              "        text-align: right;\n",
              "    }\n",
              "</style>\n",
              "<table border=\"1\" class=\"dataframe\">\n",
              "  <thead>\n",
              "    <tr style=\"text-align: right;\">\n",
              "      <th></th>\n",
              "      <th>A1</th>\n",
              "      <th>A2</th>\n",
              "      <th>A3</th>\n",
              "      <th>A4</th>\n",
              "      <th>A5</th>\n",
              "      <th>A6</th>\n",
              "      <th>A7</th>\n",
              "      <th>A8</th>\n",
              "      <th>A9</th>\n",
              "      <th>A10</th>\n",
              "      <th>A11</th>\n",
              "      <th>A12</th>\n",
              "      <th>A13</th>\n",
              "      <th>A14</th>\n",
              "      <th>A15</th>\n",
              "      <th>Class</th>\n",
              "    </tr>\n",
              "  </thead>\n",
              "  <tbody>\n",
              "    <tr>\n",
              "      <th>0</th>\n",
              "      <td>b</td>\n",
              "      <td>30.83</td>\n",
              "      <td>0.000</td>\n",
              "      <td>u</td>\n",
              "      <td>g</td>\n",
              "      <td>w</td>\n",
              "      <td>v</td>\n",
              "      <td>1.25</td>\n",
              "      <td>t</td>\n",
              "      <td>t</td>\n",
              "      <td>1</td>\n",
              "      <td>f</td>\n",
              "      <td>g</td>\n",
              "      <td>202.0</td>\n",
              "      <td>0</td>\n",
              "      <td>1</td>\n",
              "    </tr>\n",
              "    <tr>\n",
              "      <th>1</th>\n",
              "      <td>a</td>\n",
              "      <td>58.67</td>\n",
              "      <td>4.460</td>\n",
              "      <td>u</td>\n",
              "      <td>g</td>\n",
              "      <td>q</td>\n",
              "      <td>h</td>\n",
              "      <td>3.04</td>\n",
              "      <td>t</td>\n",
              "      <td>t</td>\n",
              "      <td>6</td>\n",
              "      <td>f</td>\n",
              "      <td>g</td>\n",
              "      <td>43.0</td>\n",
              "      <td>560</td>\n",
              "      <td>1</td>\n",
              "    </tr>\n",
              "    <tr>\n",
              "      <th>2</th>\n",
              "      <td>a</td>\n",
              "      <td>24.50</td>\n",
              "      <td>0.500</td>\n",
              "      <td>u</td>\n",
              "      <td>g</td>\n",
              "      <td>q</td>\n",
              "      <td>h</td>\n",
              "      <td>1.50</td>\n",
              "      <td>t</td>\n",
              "      <td>f</td>\n",
              "      <td>0</td>\n",
              "      <td>f</td>\n",
              "      <td>g</td>\n",
              "      <td>280.0</td>\n",
              "      <td>824</td>\n",
              "      <td>1</td>\n",
              "    </tr>\n",
              "    <tr>\n",
              "      <th>3</th>\n",
              "      <td>b</td>\n",
              "      <td>27.83</td>\n",
              "      <td>1.540</td>\n",
              "      <td>u</td>\n",
              "      <td>g</td>\n",
              "      <td>w</td>\n",
              "      <td>v</td>\n",
              "      <td>3.75</td>\n",
              "      <td>t</td>\n",
              "      <td>t</td>\n",
              "      <td>5</td>\n",
              "      <td>t</td>\n",
              "      <td>g</td>\n",
              "      <td>100.0</td>\n",
              "      <td>3</td>\n",
              "      <td>1</td>\n",
              "    </tr>\n",
              "    <tr>\n",
              "      <th>4</th>\n",
              "      <td>b</td>\n",
              "      <td>20.17</td>\n",
              "      <td>5.625</td>\n",
              "      <td>u</td>\n",
              "      <td>g</td>\n",
              "      <td>w</td>\n",
              "      <td>v</td>\n",
              "      <td>1.71</td>\n",
              "      <td>t</td>\n",
              "      <td>f</td>\n",
              "      <td>0</td>\n",
              "      <td>f</td>\n",
              "      <td>s</td>\n",
              "      <td>120.0</td>\n",
              "      <td>0</td>\n",
              "      <td>1</td>\n",
              "    </tr>\n",
              "  </tbody>\n",
              "</table>\n",
              "</div>\n",
              "    <div class=\"colab-df-buttons\">\n",
              "\n",
              "  <div class=\"colab-df-container\">\n",
              "    <button class=\"colab-df-convert\" onclick=\"convertToInteractive('df-70b8a2a0-3a91-49e3-bdde-1dcb9f5c0774')\"\n",
              "            title=\"Convert this dataframe to an interactive table.\"\n",
              "            style=\"display:none;\">\n",
              "\n",
              "  <svg xmlns=\"http://www.w3.org/2000/svg\" height=\"24px\" viewBox=\"0 -960 960 960\">\n",
              "    <path d=\"M120-120v-720h720v720H120Zm60-500h600v-160H180v160Zm220 220h160v-160H400v160Zm0 220h160v-160H400v160ZM180-400h160v-160H180v160Zm440 0h160v-160H620v160ZM180-180h160v-160H180v160Zm440 0h160v-160H620v160Z\"/>\n",
              "  </svg>\n",
              "    </button>\n",
              "\n",
              "  <style>\n",
              "    .colab-df-container {\n",
              "      display:flex;\n",
              "      gap: 12px;\n",
              "    }\n",
              "\n",
              "    .colab-df-convert {\n",
              "      background-color: #E8F0FE;\n",
              "      border: none;\n",
              "      border-radius: 50%;\n",
              "      cursor: pointer;\n",
              "      display: none;\n",
              "      fill: #1967D2;\n",
              "      height: 32px;\n",
              "      padding: 0 0 0 0;\n",
              "      width: 32px;\n",
              "    }\n",
              "\n",
              "    .colab-df-convert:hover {\n",
              "      background-color: #E2EBFA;\n",
              "      box-shadow: 0px 1px 2px rgba(60, 64, 67, 0.3), 0px 1px 3px 1px rgba(60, 64, 67, 0.15);\n",
              "      fill: #174EA6;\n",
              "    }\n",
              "\n",
              "    .colab-df-buttons div {\n",
              "      margin-bottom: 4px;\n",
              "    }\n",
              "\n",
              "    [theme=dark] .colab-df-convert {\n",
              "      background-color: #3B4455;\n",
              "      fill: #D2E3FC;\n",
              "    }\n",
              "\n",
              "    [theme=dark] .colab-df-convert:hover {\n",
              "      background-color: #434B5C;\n",
              "      box-shadow: 0px 1px 3px 1px rgba(0, 0, 0, 0.15);\n",
              "      filter: drop-shadow(0px 1px 2px rgba(0, 0, 0, 0.3));\n",
              "      fill: #FFFFFF;\n",
              "    }\n",
              "  </style>\n",
              "\n",
              "    <script>\n",
              "      const buttonEl =\n",
              "        document.querySelector('#df-70b8a2a0-3a91-49e3-bdde-1dcb9f5c0774 button.colab-df-convert');\n",
              "      buttonEl.style.display =\n",
              "        google.colab.kernel.accessAllowed ? 'block' : 'none';\n",
              "\n",
              "      async function convertToInteractive(key) {\n",
              "        const element = document.querySelector('#df-70b8a2a0-3a91-49e3-bdde-1dcb9f5c0774');\n",
              "        const dataTable =\n",
              "          await google.colab.kernel.invokeFunction('convertToInteractive',\n",
              "                                                    [key], {});\n",
              "        if (!dataTable) return;\n",
              "\n",
              "        const docLinkHtml = 'Like what you see? Visit the ' +\n",
              "          '<a target=\"_blank\" href=https://colab.research.google.com/notebooks/data_table.ipynb>data table notebook</a>'\n",
              "          + ' to learn more about interactive tables.';\n",
              "        element.innerHTML = '';\n",
              "        dataTable['output_type'] = 'display_data';\n",
              "        await google.colab.output.renderOutput(dataTable, element);\n",
              "        const docLink = document.createElement('div');\n",
              "        docLink.innerHTML = docLinkHtml;\n",
              "        element.appendChild(docLink);\n",
              "      }\n",
              "    </script>\n",
              "  </div>\n",
              "\n",
              "\n",
              "<div id=\"df-97397e22-8cb3-4f5c-b9ec-e0c1e86b3910\">\n",
              "  <button class=\"colab-df-quickchart\" onclick=\"quickchart('df-97397e22-8cb3-4f5c-b9ec-e0c1e86b3910')\"\n",
              "            title=\"Suggest charts\"\n",
              "            style=\"display:none;\">\n",
              "\n",
              "<svg xmlns=\"http://www.w3.org/2000/svg\" height=\"24px\"viewBox=\"0 0 24 24\"\n",
              "     width=\"24px\">\n",
              "    <g>\n",
              "        <path d=\"M19 3H5c-1.1 0-2 .9-2 2v14c0 1.1.9 2 2 2h14c1.1 0 2-.9 2-2V5c0-1.1-.9-2-2-2zM9 17H7v-7h2v7zm4 0h-2V7h2v10zm4 0h-2v-4h2v4z\"/>\n",
              "    </g>\n",
              "</svg>\n",
              "  </button>\n",
              "\n",
              "<style>\n",
              "  .colab-df-quickchart {\n",
              "      --bg-color: #E8F0FE;\n",
              "      --fill-color: #1967D2;\n",
              "      --hover-bg-color: #E2EBFA;\n",
              "      --hover-fill-color: #174EA6;\n",
              "      --disabled-fill-color: #AAA;\n",
              "      --disabled-bg-color: #DDD;\n",
              "  }\n",
              "\n",
              "  [theme=dark] .colab-df-quickchart {\n",
              "      --bg-color: #3B4455;\n",
              "      --fill-color: #D2E3FC;\n",
              "      --hover-bg-color: #434B5C;\n",
              "      --hover-fill-color: #FFFFFF;\n",
              "      --disabled-bg-color: #3B4455;\n",
              "      --disabled-fill-color: #666;\n",
              "  }\n",
              "\n",
              "  .colab-df-quickchart {\n",
              "    background-color: var(--bg-color);\n",
              "    border: none;\n",
              "    border-radius: 50%;\n",
              "    cursor: pointer;\n",
              "    display: none;\n",
              "    fill: var(--fill-color);\n",
              "    height: 32px;\n",
              "    padding: 0;\n",
              "    width: 32px;\n",
              "  }\n",
              "\n",
              "  .colab-df-quickchart:hover {\n",
              "    background-color: var(--hover-bg-color);\n",
              "    box-shadow: 0 1px 2px rgba(60, 64, 67, 0.3), 0 1px 3px 1px rgba(60, 64, 67, 0.15);\n",
              "    fill: var(--button-hover-fill-color);\n",
              "  }\n",
              "\n",
              "  .colab-df-quickchart-complete:disabled,\n",
              "  .colab-df-quickchart-complete:disabled:hover {\n",
              "    background-color: var(--disabled-bg-color);\n",
              "    fill: var(--disabled-fill-color);\n",
              "    box-shadow: none;\n",
              "  }\n",
              "\n",
              "  .colab-df-spinner {\n",
              "    border: 2px solid var(--fill-color);\n",
              "    border-color: transparent;\n",
              "    border-bottom-color: var(--fill-color);\n",
              "    animation:\n",
              "      spin 1s steps(1) infinite;\n",
              "  }\n",
              "\n",
              "  @keyframes spin {\n",
              "    0% {\n",
              "      border-color: transparent;\n",
              "      border-bottom-color: var(--fill-color);\n",
              "      border-left-color: var(--fill-color);\n",
              "    }\n",
              "    20% {\n",
              "      border-color: transparent;\n",
              "      border-left-color: var(--fill-color);\n",
              "      border-top-color: var(--fill-color);\n",
              "    }\n",
              "    30% {\n",
              "      border-color: transparent;\n",
              "      border-left-color: var(--fill-color);\n",
              "      border-top-color: var(--fill-color);\n",
              "      border-right-color: var(--fill-color);\n",
              "    }\n",
              "    40% {\n",
              "      border-color: transparent;\n",
              "      border-right-color: var(--fill-color);\n",
              "      border-top-color: var(--fill-color);\n",
              "    }\n",
              "    60% {\n",
              "      border-color: transparent;\n",
              "      border-right-color: var(--fill-color);\n",
              "    }\n",
              "    80% {\n",
              "      border-color: transparent;\n",
              "      border-right-color: var(--fill-color);\n",
              "      border-bottom-color: var(--fill-color);\n",
              "    }\n",
              "    90% {\n",
              "      border-color: transparent;\n",
              "      border-bottom-color: var(--fill-color);\n",
              "    }\n",
              "  }\n",
              "</style>\n",
              "\n",
              "  <script>\n",
              "    async function quickchart(key) {\n",
              "      const quickchartButtonEl =\n",
              "        document.querySelector('#' + key + ' button');\n",
              "      quickchartButtonEl.disabled = true;  // To prevent multiple clicks.\n",
              "      quickchartButtonEl.classList.add('colab-df-spinner');\n",
              "      try {\n",
              "        const charts = await google.colab.kernel.invokeFunction(\n",
              "            'suggestCharts', [key], {});\n",
              "      } catch (error) {\n",
              "        console.error('Error during call to suggestCharts:', error);\n",
              "      }\n",
              "      quickchartButtonEl.classList.remove('colab-df-spinner');\n",
              "      quickchartButtonEl.classList.add('colab-df-quickchart-complete');\n",
              "    }\n",
              "    (() => {\n",
              "      let quickchartButtonEl =\n",
              "        document.querySelector('#df-97397e22-8cb3-4f5c-b9ec-e0c1e86b3910 button');\n",
              "      quickchartButtonEl.style.display =\n",
              "        google.colab.kernel.accessAllowed ? 'block' : 'none';\n",
              "    })();\n",
              "  </script>\n",
              "</div>\n",
              "\n",
              "    </div>\n",
              "  </div>\n"
            ],
            "application/vnd.google.colaboratory.intrinsic+json": {
              "type": "dataframe",
              "variable_name": "data",
              "summary": "{\n  \"name\": \"data\",\n  \"rows\": 653,\n  \"fields\": [\n    {\n      \"column\": \"A1\",\n      \"properties\": {\n        \"dtype\": \"category\",\n        \"num_unique_values\": 2,\n        \"samples\": [\n          \"a\",\n          \"b\"\n        ],\n        \"semantic_type\": \"\",\n        \"description\": \"\"\n      }\n    },\n    {\n      \"column\": \"A2\",\n      \"properties\": {\n        \"dtype\": \"number\",\n        \"std\": 11.838267107399854,\n        \"min\": 13.75,\n        \"max\": 76.75,\n        \"num_unique_values\": 340,\n        \"samples\": [\n          39.25,\n          18.83\n        ],\n        \"semantic_type\": \"\",\n        \"description\": \"\"\n      }\n    },\n    {\n      \"column\": \"A3\",\n      \"properties\": {\n        \"dtype\": \"number\",\n        \"std\": 5.027077437761294,\n        \"min\": 0.0,\n        \"max\": 28.0,\n        \"num_unique_values\": 213,\n        \"samples\": [\n          0.83,\n          10.915\n        ],\n        \"semantic_type\": \"\",\n        \"description\": \"\"\n      }\n    },\n    {\n      \"column\": \"A4\",\n      \"properties\": {\n        \"dtype\": \"category\",\n        \"num_unique_values\": 3,\n        \"samples\": [\n          \"u\",\n          \"y\"\n        ],\n        \"semantic_type\": \"\",\n        \"description\": \"\"\n      }\n    },\n    {\n      \"column\": \"A5\",\n      \"properties\": {\n        \"dtype\": \"category\",\n        \"num_unique_values\": 3,\n        \"samples\": [\n          \"g\",\n          \"p\"\n        ],\n        \"semantic_type\": \"\",\n        \"description\": \"\"\n      }\n    },\n    {\n      \"column\": \"A6\",\n      \"properties\": {\n        \"dtype\": \"category\",\n        \"num_unique_values\": 14,\n        \"samples\": [\n          \"i\",\n          \"aa\"\n        ],\n        \"semantic_type\": \"\",\n        \"description\": \"\"\n      }\n    },\n    {\n      \"column\": \"A7\",\n      \"properties\": {\n        \"dtype\": \"category\",\n        \"num_unique_values\": 9,\n        \"samples\": [\n          \"dd\",\n          \"h\"\n        ],\n        \"semantic_type\": \"\",\n        \"description\": \"\"\n      }\n    },\n    {\n      \"column\": \"A8\",\n      \"properties\": {\n        \"dtype\": \"number\",\n        \"std\": 3.371120259441243,\n        \"min\": 0.0,\n        \"max\": 28.5,\n        \"num_unique_values\": 131,\n        \"samples\": [\n          13.5,\n          3.5\n        ],\n        \"semantic_type\": \"\",\n        \"description\": \"\"\n      }\n    },\n    {\n      \"column\": \"A9\",\n      \"properties\": {\n        \"dtype\": \"category\",\n        \"num_unique_values\": 2,\n        \"samples\": [\n          \"f\",\n          \"t\"\n        ],\n        \"semantic_type\": \"\",\n        \"description\": \"\"\n      }\n    },\n    {\n      \"column\": \"A10\",\n      \"properties\": {\n        \"dtype\": \"category\",\n        \"num_unique_values\": 2,\n        \"samples\": [\n          \"f\",\n          \"t\"\n        ],\n        \"semantic_type\": \"\",\n        \"description\": \"\"\n      }\n    },\n    {\n      \"column\": \"A11\",\n      \"properties\": {\n        \"dtype\": \"number\",\n        \"std\": 4,\n        \"min\": 0,\n        \"max\": 67,\n        \"num_unique_values\": 23,\n        \"samples\": [\n          23,\n          9\n        ],\n        \"semantic_type\": \"\",\n        \"description\": \"\"\n      }\n    },\n    {\n      \"column\": \"A12\",\n      \"properties\": {\n        \"dtype\": \"category\",\n        \"num_unique_values\": 2,\n        \"samples\": [\n          \"t\",\n          \"f\"\n        ],\n        \"semantic_type\": \"\",\n        \"description\": \"\"\n      }\n    },\n    {\n      \"column\": \"A13\",\n      \"properties\": {\n        \"dtype\": \"category\",\n        \"num_unique_values\": 3,\n        \"samples\": [\n          \"g\",\n          \"s\"\n        ],\n        \"semantic_type\": \"\",\n        \"description\": \"\"\n      }\n    },\n    {\n      \"column\": \"A14\",\n      \"properties\": {\n        \"dtype\": \"number\",\n        \"std\": 168.29681104695345,\n        \"min\": 0.0,\n        \"max\": 2000.0,\n        \"num_unique_values\": 164,\n        \"samples\": [\n          333.0,\n          352.0\n        ],\n        \"semantic_type\": \"\",\n        \"description\": \"\"\n      }\n    },\n    {\n      \"column\": \"A15\",\n      \"properties\": {\n        \"dtype\": \"number\",\n        \"std\": 5253,\n        \"min\": 0,\n        \"max\": 100000,\n        \"num_unique_values\": 229,\n        \"samples\": [\n          68,\n          2200\n        ],\n        \"semantic_type\": \"\",\n        \"description\": \"\"\n      }\n    },\n    {\n      \"column\": \"Class\",\n      \"properties\": {\n        \"dtype\": \"number\",\n        \"std\": 0,\n        \"min\": 0,\n        \"max\": 1,\n        \"num_unique_values\": 2,\n        \"samples\": [\n          0,\n          1\n        ],\n        \"semantic_type\": \"\",\n        \"description\": \"\"\n      }\n    }\n  ]\n}"
            }
          },
          "metadata": {},
          "execution_count": 5
        }
      ]
    },
    {
      "cell_type": "code",
      "source": [
        "# Convert categorical columns to numerical using dummy encoding\n",
        "data = pd.get_dummies(data, drop_first=True)\n",
        "data.head()"
      ],
      "metadata": {
        "colab": {
          "base_uri": "https://localhost:8080/",
          "height": 235
        },
        "id": "Ipi2jSMQYYFt",
        "outputId": "980e4b24-9df9-435c-d4f4-47d9998553f7"
      },
      "execution_count": null,
      "outputs": [
        {
          "output_type": "execute_result",
          "data": {
            "text/plain": [
              "      A2     A3    A8  A11    A14  A15  Class   A1_b  A4_u   A4_y  ...   A7_j  \\\n",
              "0  30.83  0.000  1.25    1  202.0    0      1   True  True  False  ...  False   \n",
              "1  58.67  4.460  3.04    6   43.0  560      1  False  True  False  ...  False   \n",
              "2  24.50  0.500  1.50    0  280.0  824      1  False  True  False  ...  False   \n",
              "3  27.83  1.540  3.75    5  100.0    3      1   True  True  False  ...  False   \n",
              "4  20.17  5.625  1.71    0  120.0    0      1   True  True  False  ...  False   \n",
              "\n",
              "    A7_n   A7_o   A7_v   A7_z  A9_t  A10_t  A12_t  A13_p  A13_s  \n",
              "0  False  False   True  False  True   True  False  False  False  \n",
              "1  False  False  False  False  True   True  False  False  False  \n",
              "2  False  False  False  False  True  False  False  False  False  \n",
              "3  False  False   True  False  True   True   True  False  False  \n",
              "4  False  False   True  False  True  False  False  False   True  \n",
              "\n",
              "[5 rows x 38 columns]"
            ],
            "text/html": [
              "\n",
              "  <div id=\"df-9e0b497c-76ff-46ee-86a9-1c00a050728b\" class=\"colab-df-container\">\n",
              "    <div>\n",
              "<style scoped>\n",
              "    .dataframe tbody tr th:only-of-type {\n",
              "        vertical-align: middle;\n",
              "    }\n",
              "\n",
              "    .dataframe tbody tr th {\n",
              "        vertical-align: top;\n",
              "    }\n",
              "\n",
              "    .dataframe thead th {\n",
              "        text-align: right;\n",
              "    }\n",
              "</style>\n",
              "<table border=\"1\" class=\"dataframe\">\n",
              "  <thead>\n",
              "    <tr style=\"text-align: right;\">\n",
              "      <th></th>\n",
              "      <th>A2</th>\n",
              "      <th>A3</th>\n",
              "      <th>A8</th>\n",
              "      <th>A11</th>\n",
              "      <th>A14</th>\n",
              "      <th>A15</th>\n",
              "      <th>Class</th>\n",
              "      <th>A1_b</th>\n",
              "      <th>A4_u</th>\n",
              "      <th>A4_y</th>\n",
              "      <th>...</th>\n",
              "      <th>A7_j</th>\n",
              "      <th>A7_n</th>\n",
              "      <th>A7_o</th>\n",
              "      <th>A7_v</th>\n",
              "      <th>A7_z</th>\n",
              "      <th>A9_t</th>\n",
              "      <th>A10_t</th>\n",
              "      <th>A12_t</th>\n",
              "      <th>A13_p</th>\n",
              "      <th>A13_s</th>\n",
              "    </tr>\n",
              "  </thead>\n",
              "  <tbody>\n",
              "    <tr>\n",
              "      <th>0</th>\n",
              "      <td>30.83</td>\n",
              "      <td>0.000</td>\n",
              "      <td>1.25</td>\n",
              "      <td>1</td>\n",
              "      <td>202.0</td>\n",
              "      <td>0</td>\n",
              "      <td>1</td>\n",
              "      <td>True</td>\n",
              "      <td>True</td>\n",
              "      <td>False</td>\n",
              "      <td>...</td>\n",
              "      <td>False</td>\n",
              "      <td>False</td>\n",
              "      <td>False</td>\n",
              "      <td>True</td>\n",
              "      <td>False</td>\n",
              "      <td>True</td>\n",
              "      <td>True</td>\n",
              "      <td>False</td>\n",
              "      <td>False</td>\n",
              "      <td>False</td>\n",
              "    </tr>\n",
              "    <tr>\n",
              "      <th>1</th>\n",
              "      <td>58.67</td>\n",
              "      <td>4.460</td>\n",
              "      <td>3.04</td>\n",
              "      <td>6</td>\n",
              "      <td>43.0</td>\n",
              "      <td>560</td>\n",
              "      <td>1</td>\n",
              "      <td>False</td>\n",
              "      <td>True</td>\n",
              "      <td>False</td>\n",
              "      <td>...</td>\n",
              "      <td>False</td>\n",
              "      <td>False</td>\n",
              "      <td>False</td>\n",
              "      <td>False</td>\n",
              "      <td>False</td>\n",
              "      <td>True</td>\n",
              "      <td>True</td>\n",
              "      <td>False</td>\n",
              "      <td>False</td>\n",
              "      <td>False</td>\n",
              "    </tr>\n",
              "    <tr>\n",
              "      <th>2</th>\n",
              "      <td>24.50</td>\n",
              "      <td>0.500</td>\n",
              "      <td>1.50</td>\n",
              "      <td>0</td>\n",
              "      <td>280.0</td>\n",
              "      <td>824</td>\n",
              "      <td>1</td>\n",
              "      <td>False</td>\n",
              "      <td>True</td>\n",
              "      <td>False</td>\n",
              "      <td>...</td>\n",
              "      <td>False</td>\n",
              "      <td>False</td>\n",
              "      <td>False</td>\n",
              "      <td>False</td>\n",
              "      <td>False</td>\n",
              "      <td>True</td>\n",
              "      <td>False</td>\n",
              "      <td>False</td>\n",
              "      <td>False</td>\n",
              "      <td>False</td>\n",
              "    </tr>\n",
              "    <tr>\n",
              "      <th>3</th>\n",
              "      <td>27.83</td>\n",
              "      <td>1.540</td>\n",
              "      <td>3.75</td>\n",
              "      <td>5</td>\n",
              "      <td>100.0</td>\n",
              "      <td>3</td>\n",
              "      <td>1</td>\n",
              "      <td>True</td>\n",
              "      <td>True</td>\n",
              "      <td>False</td>\n",
              "      <td>...</td>\n",
              "      <td>False</td>\n",
              "      <td>False</td>\n",
              "      <td>False</td>\n",
              "      <td>True</td>\n",
              "      <td>False</td>\n",
              "      <td>True</td>\n",
              "      <td>True</td>\n",
              "      <td>True</td>\n",
              "      <td>False</td>\n",
              "      <td>False</td>\n",
              "    </tr>\n",
              "    <tr>\n",
              "      <th>4</th>\n",
              "      <td>20.17</td>\n",
              "      <td>5.625</td>\n",
              "      <td>1.71</td>\n",
              "      <td>0</td>\n",
              "      <td>120.0</td>\n",
              "      <td>0</td>\n",
              "      <td>1</td>\n",
              "      <td>True</td>\n",
              "      <td>True</td>\n",
              "      <td>False</td>\n",
              "      <td>...</td>\n",
              "      <td>False</td>\n",
              "      <td>False</td>\n",
              "      <td>False</td>\n",
              "      <td>True</td>\n",
              "      <td>False</td>\n",
              "      <td>True</td>\n",
              "      <td>False</td>\n",
              "      <td>False</td>\n",
              "      <td>False</td>\n",
              "      <td>True</td>\n",
              "    </tr>\n",
              "  </tbody>\n",
              "</table>\n",
              "<p>5 rows × 38 columns</p>\n",
              "</div>\n",
              "    <div class=\"colab-df-buttons\">\n",
              "\n",
              "  <div class=\"colab-df-container\">\n",
              "    <button class=\"colab-df-convert\" onclick=\"convertToInteractive('df-9e0b497c-76ff-46ee-86a9-1c00a050728b')\"\n",
              "            title=\"Convert this dataframe to an interactive table.\"\n",
              "            style=\"display:none;\">\n",
              "\n",
              "  <svg xmlns=\"http://www.w3.org/2000/svg\" height=\"24px\" viewBox=\"0 -960 960 960\">\n",
              "    <path d=\"M120-120v-720h720v720H120Zm60-500h600v-160H180v160Zm220 220h160v-160H400v160Zm0 220h160v-160H400v160ZM180-400h160v-160H180v160Zm440 0h160v-160H620v160ZM180-180h160v-160H180v160Zm440 0h160v-160H620v160Z\"/>\n",
              "  </svg>\n",
              "    </button>\n",
              "\n",
              "  <style>\n",
              "    .colab-df-container {\n",
              "      display:flex;\n",
              "      gap: 12px;\n",
              "    }\n",
              "\n",
              "    .colab-df-convert {\n",
              "      background-color: #E8F0FE;\n",
              "      border: none;\n",
              "      border-radius: 50%;\n",
              "      cursor: pointer;\n",
              "      display: none;\n",
              "      fill: #1967D2;\n",
              "      height: 32px;\n",
              "      padding: 0 0 0 0;\n",
              "      width: 32px;\n",
              "    }\n",
              "\n",
              "    .colab-df-convert:hover {\n",
              "      background-color: #E2EBFA;\n",
              "      box-shadow: 0px 1px 2px rgba(60, 64, 67, 0.3), 0px 1px 3px 1px rgba(60, 64, 67, 0.15);\n",
              "      fill: #174EA6;\n",
              "    }\n",
              "\n",
              "    .colab-df-buttons div {\n",
              "      margin-bottom: 4px;\n",
              "    }\n",
              "\n",
              "    [theme=dark] .colab-df-convert {\n",
              "      background-color: #3B4455;\n",
              "      fill: #D2E3FC;\n",
              "    }\n",
              "\n",
              "    [theme=dark] .colab-df-convert:hover {\n",
              "      background-color: #434B5C;\n",
              "      box-shadow: 0px 1px 3px 1px rgba(0, 0, 0, 0.15);\n",
              "      filter: drop-shadow(0px 1px 2px rgba(0, 0, 0, 0.3));\n",
              "      fill: #FFFFFF;\n",
              "    }\n",
              "  </style>\n",
              "\n",
              "    <script>\n",
              "      const buttonEl =\n",
              "        document.querySelector('#df-9e0b497c-76ff-46ee-86a9-1c00a050728b button.colab-df-convert');\n",
              "      buttonEl.style.display =\n",
              "        google.colab.kernel.accessAllowed ? 'block' : 'none';\n",
              "\n",
              "      async function convertToInteractive(key) {\n",
              "        const element = document.querySelector('#df-9e0b497c-76ff-46ee-86a9-1c00a050728b');\n",
              "        const dataTable =\n",
              "          await google.colab.kernel.invokeFunction('convertToInteractive',\n",
              "                                                    [key], {});\n",
              "        if (!dataTable) return;\n",
              "\n",
              "        const docLinkHtml = 'Like what you see? Visit the ' +\n",
              "          '<a target=\"_blank\" href=https://colab.research.google.com/notebooks/data_table.ipynb>data table notebook</a>'\n",
              "          + ' to learn more about interactive tables.';\n",
              "        element.innerHTML = '';\n",
              "        dataTable['output_type'] = 'display_data';\n",
              "        await google.colab.output.renderOutput(dataTable, element);\n",
              "        const docLink = document.createElement('div');\n",
              "        docLink.innerHTML = docLinkHtml;\n",
              "        element.appendChild(docLink);\n",
              "      }\n",
              "    </script>\n",
              "  </div>\n",
              "\n",
              "\n",
              "<div id=\"df-66627c62-e751-4be5-a1c2-d17e53ee85c0\">\n",
              "  <button class=\"colab-df-quickchart\" onclick=\"quickchart('df-66627c62-e751-4be5-a1c2-d17e53ee85c0')\"\n",
              "            title=\"Suggest charts\"\n",
              "            style=\"display:none;\">\n",
              "\n",
              "<svg xmlns=\"http://www.w3.org/2000/svg\" height=\"24px\"viewBox=\"0 0 24 24\"\n",
              "     width=\"24px\">\n",
              "    <g>\n",
              "        <path d=\"M19 3H5c-1.1 0-2 .9-2 2v14c0 1.1.9 2 2 2h14c1.1 0 2-.9 2-2V5c0-1.1-.9-2-2-2zM9 17H7v-7h2v7zm4 0h-2V7h2v10zm4 0h-2v-4h2v4z\"/>\n",
              "    </g>\n",
              "</svg>\n",
              "  </button>\n",
              "\n",
              "<style>\n",
              "  .colab-df-quickchart {\n",
              "      --bg-color: #E8F0FE;\n",
              "      --fill-color: #1967D2;\n",
              "      --hover-bg-color: #E2EBFA;\n",
              "      --hover-fill-color: #174EA6;\n",
              "      --disabled-fill-color: #AAA;\n",
              "      --disabled-bg-color: #DDD;\n",
              "  }\n",
              "\n",
              "  [theme=dark] .colab-df-quickchart {\n",
              "      --bg-color: #3B4455;\n",
              "      --fill-color: #D2E3FC;\n",
              "      --hover-bg-color: #434B5C;\n",
              "      --hover-fill-color: #FFFFFF;\n",
              "      --disabled-bg-color: #3B4455;\n",
              "      --disabled-fill-color: #666;\n",
              "  }\n",
              "\n",
              "  .colab-df-quickchart {\n",
              "    background-color: var(--bg-color);\n",
              "    border: none;\n",
              "    border-radius: 50%;\n",
              "    cursor: pointer;\n",
              "    display: none;\n",
              "    fill: var(--fill-color);\n",
              "    height: 32px;\n",
              "    padding: 0;\n",
              "    width: 32px;\n",
              "  }\n",
              "\n",
              "  .colab-df-quickchart:hover {\n",
              "    background-color: var(--hover-bg-color);\n",
              "    box-shadow: 0 1px 2px rgba(60, 64, 67, 0.3), 0 1px 3px 1px rgba(60, 64, 67, 0.15);\n",
              "    fill: var(--button-hover-fill-color);\n",
              "  }\n",
              "\n",
              "  .colab-df-quickchart-complete:disabled,\n",
              "  .colab-df-quickchart-complete:disabled:hover {\n",
              "    background-color: var(--disabled-bg-color);\n",
              "    fill: var(--disabled-fill-color);\n",
              "    box-shadow: none;\n",
              "  }\n",
              "\n",
              "  .colab-df-spinner {\n",
              "    border: 2px solid var(--fill-color);\n",
              "    border-color: transparent;\n",
              "    border-bottom-color: var(--fill-color);\n",
              "    animation:\n",
              "      spin 1s steps(1) infinite;\n",
              "  }\n",
              "\n",
              "  @keyframes spin {\n",
              "    0% {\n",
              "      border-color: transparent;\n",
              "      border-bottom-color: var(--fill-color);\n",
              "      border-left-color: var(--fill-color);\n",
              "    }\n",
              "    20% {\n",
              "      border-color: transparent;\n",
              "      border-left-color: var(--fill-color);\n",
              "      border-top-color: var(--fill-color);\n",
              "    }\n",
              "    30% {\n",
              "      border-color: transparent;\n",
              "      border-left-color: var(--fill-color);\n",
              "      border-top-color: var(--fill-color);\n",
              "      border-right-color: var(--fill-color);\n",
              "    }\n",
              "    40% {\n",
              "      border-color: transparent;\n",
              "      border-right-color: var(--fill-color);\n",
              "      border-top-color: var(--fill-color);\n",
              "    }\n",
              "    60% {\n",
              "      border-color: transparent;\n",
              "      border-right-color: var(--fill-color);\n",
              "    }\n",
              "    80% {\n",
              "      border-color: transparent;\n",
              "      border-right-color: var(--fill-color);\n",
              "      border-bottom-color: var(--fill-color);\n",
              "    }\n",
              "    90% {\n",
              "      border-color: transparent;\n",
              "      border-bottom-color: var(--fill-color);\n",
              "    }\n",
              "  }\n",
              "</style>\n",
              "\n",
              "  <script>\n",
              "    async function quickchart(key) {\n",
              "      const quickchartButtonEl =\n",
              "        document.querySelector('#' + key + ' button');\n",
              "      quickchartButtonEl.disabled = true;  // To prevent multiple clicks.\n",
              "      quickchartButtonEl.classList.add('colab-df-spinner');\n",
              "      try {\n",
              "        const charts = await google.colab.kernel.invokeFunction(\n",
              "            'suggestCharts', [key], {});\n",
              "      } catch (error) {\n",
              "        console.error('Error during call to suggestCharts:', error);\n",
              "      }\n",
              "      quickchartButtonEl.classList.remove('colab-df-spinner');\n",
              "      quickchartButtonEl.classList.add('colab-df-quickchart-complete');\n",
              "    }\n",
              "    (() => {\n",
              "      let quickchartButtonEl =\n",
              "        document.querySelector('#df-66627c62-e751-4be5-a1c2-d17e53ee85c0 button');\n",
              "      quickchartButtonEl.style.display =\n",
              "        google.colab.kernel.accessAllowed ? 'block' : 'none';\n",
              "    })();\n",
              "  </script>\n",
              "</div>\n",
              "\n",
              "    </div>\n",
              "  </div>\n"
            ],
            "application/vnd.google.colaboratory.intrinsic+json": {
              "type": "dataframe",
              "variable_name": "data"
            }
          },
          "metadata": {},
          "execution_count": 6
        }
      ]
    },
    {
      "cell_type": "code",
      "source": [
        "# Normalize or standardize numeric columns\n",
        "from sklearn.preprocessing import StandardScaler\n",
        "scaler = StandardScaler()  # Or MinMaxScaler()\n",
        "tmp = scaler.fit_transform(data[['A2','A3','A8','A11', 'A14','A15']])\n",
        "data[['A2','A3','A8','A11', 'A14','A15']] = tmp\n",
        "data = pd.DataFrame(data, columns= data.columns)"
      ],
      "metadata": {
        "id": "Eg4Gn1uwYb-y"
      },
      "execution_count": null,
      "outputs": []
    },
    {
      "cell_type": "markdown",
      "source": [
        "Detect X and Y"
      ],
      "metadata": {
        "id": "V508jANNYhWG"
      }
    },
    {
      "cell_type": "code",
      "source": [
        "# Detect X and y\n",
        "target_column = data.columns[-1]  # Automatically detects the last column\n",
        "feature = data.columns[:-1]  # Automatically detects the column\n",
        "\n",
        "X = data[feature]\n",
        "y = data[target_column].astype(int)\n",
        "\n"
      ],
      "metadata": {
        "id": "i6ZSNZTuYjms"
      },
      "execution_count": null,
      "outputs": []
    },
    {
      "cell_type": "markdown",
      "source": [
        "Train-Test Split"
      ],
      "metadata": {
        "id": "VPVLUN_qYtL8"
      }
    },
    {
      "cell_type": "code",
      "source": [
        "# Step 2: Train-Test Split\n",
        "print(\"\\nStep 2: Splitting the data into training and testing sets\")\n",
        "X_train, X_test, y_train, y_test = train_test_split(X, y, test_size=0.3, random_state=42)\n",
        "unique_train, counts_train = np.unique(y_train, return_counts=True)\n",
        "print(f\"Class distribution in training set: {dict(zip(unique_train, counts_train))}\")\n",
        "unique_test, counts_test = np.unique(y_test, return_counts=True)\n",
        "print(f\"Class distribution in testing set: {dict(zip(unique_test, counts_test))}\")"
      ],
      "metadata": {
        "colab": {
          "base_uri": "https://localhost:8080/"
        },
        "id": "ktSGQI3TYuIA",
        "outputId": "7739d857-d56b-49f8-8ce1-8ab371ae7050"
      },
      "execution_count": null,
      "outputs": [
        {
          "output_type": "stream",
          "name": "stdout",
          "text": [
            "\n",
            "Step 2: Splitting the data into training and testing sets\n",
            "Class distribution in training set: {0: 418, 1: 39}\n",
            "Class distribution in testing set: {0: 182, 1: 14}\n"
          ]
        }
      ]
    },
    {
      "cell_type": "markdown",
      "source": [
        "xgboost"
      ],
      "metadata": {
        "id": "1Tr4ytEObEPa"
      }
    },
    {
      "cell_type": "code",
      "source": [
        "# XGBoost\n",
        "from xgboost import XGBClassifier\n",
        "from sklearn.metrics import classification_report, accuracy_score\n",
        "\n",
        "print(\"\\nTraining XGBoost model...\")\n",
        "xgb_model = XGBClassifier(eval_metric='logloss')  # Removed use_label_encoder\n",
        "xgb_model.fit(X_train, y_train)\n",
        "xgb_predictions = xgb_model.predict(X_test)\n",
        "\n",
        "# Results\n",
        "print(\"XGBoost Classification Report:\")\n",
        "print(classification_report(y_test, xgb_predictions))\n",
        "xgb_accuracy = accuracy_score(y_test, xgb_predictions)\n",
        "print(f\"XGBoost Accuracy: {xgb_accuracy:.2f}\")\n",
        "\n",
        "# Confusion Matrix\n",
        "cm_xgb = confusion_matrix(y_test, xgb_predictions)\n",
        "\n",
        "# Plot Confusion Matrix as Heatmap\n",
        "plt.figure(figsize=(5, 4))\n",
        "sns.heatmap(cm_xgb, annot=True, fmt='d', cmap='Blues', cbar=False)\n",
        "plt.title('XGBoost Confusion Matrix')\n",
        "plt.xlabel('Predicted')\n",
        "plt.ylabel('True')\n",
        "plt.show()\n",
        "\n",
        "# Extract and Print Confusion Matrix Metrics\n",
        "tn, fp, fn, tp = cm_xgb.ravel()\n",
        "print(f\"True Negatives (TN): {tn}, False Positives (FP): {fp}\")\n",
        "print(f\"False Negatives (FN): {fn}, True Positives (TP): {tp}\")\n"
      ],
      "metadata": {
        "colab": {
          "base_uri": "https://localhost:8080/",
          "height": 682
        },
        "id": "fyBUT31RbUry",
        "outputId": "0ad8e6f2-7f5c-46c8-9bd5-47a6cb0faaac"
      },
      "execution_count": null,
      "outputs": [
        {
          "output_type": "stream",
          "name": "stdout",
          "text": [
            "\n",
            "Training XGBoost model...\n",
            "XGBoost Classification Report:\n",
            "              precision    recall  f1-score   support\n",
            "\n",
            "           0       0.95      0.97      0.96       182\n",
            "           1       0.45      0.36      0.40        14\n",
            "\n",
            "    accuracy                           0.92       196\n",
            "   macro avg       0.70      0.66      0.68       196\n",
            "weighted avg       0.92      0.92      0.92       196\n",
            "\n",
            "XGBoost Accuracy: 0.92\n"
          ]
        },
        {
          "output_type": "display_data",
          "data": {
            "text/plain": [
              "<Figure size 500x400 with 1 Axes>"
            ],
            "image/png": "[encoded data removed]"
          },
          "metadata": {}
        },
        {
          "output_type": "stream",
          "name": "stdout",
          "text": [
            "True Negatives (TN): 176, False Positives (FP): 6\n",
            "False Negatives (FN): 9, True Positives (TP): 5\n"
          ]
        }
      ]
    },
    {
      "cell_type": "markdown",
      "source": [
        "xgboost hyperparameter tunning - random search"
      ],
      "metadata": {
        "id": "lgSQwiS4eOJw"
      }
    },
    {
      "cell_type": "code",
      "source": [
        "from xgboost import XGBClassifier\n",
        "from sklearn.model_selection import RandomizedSearchCV\n",
        "from sklearn.metrics import classification_report, accuracy_score\n",
        "\n",
        "# Define the parameter grid\n",
        "# param_grid = {\n",
        "#     'n_estimators': [50, 100, 200, 300],  # Number of trees\n",
        "#     'learning_rate': [0.01, 0.1, 0.2, 0.3],  # Step size shrinkage\n",
        "#     'max_depth': [3, 5, 7, 10],  # Maximum depth of a tree\n",
        "#     'subsample': [0.6, 0.8, 1.0],  # Fraction of samples used for training\n",
        "#     'colsample_bytree': [0.6, 0.8, 1.0],  # Fraction of features used per tree\n",
        "#     'gamma': [0, 1, 5],  # Minimum loss reduction required for split\n",
        "#     'reg_alpha': [0, 0.1, 1],  # L1 regularization\n",
        "#     'reg_lambda': [1, 2, 5]  # L2 regularization\n",
        "# }\n",
        "param_grid = {\n",
        "    'n_estimators': [25, 50, 100, 200, 400],  # More trees\n",
        "    'learning_rate': [0.01, 0.05, 0.1, 0.2, 0.3],  # Smaller steps for better learning\n",
        "    'max_depth': [5, 7, 10, 15],  # Broader range for tree depth\n",
        "    'subsample': [0.6, 0.8, 1.0],  # Fraction of samples used per tree\n",
        "    'colsample_bytree': [0.4, 0.6, 0.8, 1.0],  # Fraction of features used per tree\n",
        "    'gamma': [0, 1, 5, 10],  # Minimum loss reduction for split\n",
        "    'reg_alpha': [0, 0.1, 0.5, 1],  # Regularization to reduce overfitting\n",
        "    'reg_lambda': [1, 2, 5, 10]  # Regularization to reduce overfitting\n",
        "}\n",
        "\n",
        "# Create the base model\n",
        "xgb = XGBClassifier(eval_metric='logloss', use_label_encoder=False)\n",
        "\n",
        "# Initialize RandomizedSearchCV\n",
        "random_search = RandomizedSearchCV(\n",
        "    estimator=xgb,\n",
        "    param_distributions=param_grid,\n",
        "    n_iter=100,  # Number of parameter settings sampled\n",
        "    scoring='accuracy',\n",
        "    cv=5,  # 3-fold cross-validation\n",
        "    verbose=2,\n",
        "    random_state=42,\n",
        "    n_jobs=-1  # Use all available cores\n",
        ")\n",
        "\n",
        "# Fit RandomizedSearchCV\n",
        "print(\"\\nStarting hyperparameter tuning...\")\n",
        "random_search.fit(X_train, y_train)\n",
        "\n",
        "# Get the best model and parameters\n",
        "best_model = random_search.best_estimator_\n",
        "best_params = random_search.best_params_\n",
        "print(\"\\nBest Parameters:\", best_params)\n",
        "\n",
        "# Evaluate the best model on the test set\n",
        "best_predictions = best_model.predict(X_test)\n",
        "accuracy = accuracy_score(y_test, best_predictions)\n",
        "print(\"\\nClassification Report for Best Model:\")\n",
        "print(classification_report(y_test, best_predictions))\n",
        "print(f\"Best Model Accuracy: {accuracy:.2f}\")\n",
        "\n",
        "# Confusion Matrix\n",
        "cm_xgb = confusion_matrix(y_test, best_predictions)\n",
        "plt.figure(figsize=(5, 4))\n",
        "sns.heatmap(cm_xgb, annot=True, fmt='d', cmap='Blues', cbar=False)\n",
        "plt.title('XGBoost Confusion Matrix random search')\n",
        "plt.xlabel('Predicted')\n",
        "plt.ylabel('True')\n",
        "plt.show()\n"
      ],
      "metadata": {
        "colab": {
          "base_uri": "https://localhost:8080/",
          "height": 791
        },
        "id": "Soq1_bjSeKyD",
        "outputId": "0fa01ddf-1ebd-4029-b68d-a0fb4854cf34"
      },
      "execution_count": null,
      "outputs": [
        {
          "output_type": "stream",
          "name": "stdout",
          "text": [
            "\n",
            "Starting hyperparameter tuning...\n",
            "Fitting 5 folds for each of 100 candidates, totalling 500 fits\n"
          ]
        },
        {
          "output_type": "stream",
          "name": "stderr",
          "text": [
            "/usr/local/lib/python3.10/dist-packages/xgboost/core.py:158: UserWarning: [16:44:06] WARNING: /workspace/src/learner.cc:740: \n",
            "Parameters: { \"use_label_encoder\" } are not used.\n",
            "\n",
            "  warnings.warn(smsg, UserWarning)\n"
          ]
        },
        {
          "output_type": "stream",
          "name": "stdout",
          "text": [
            "\n",
            "Best Parameters: {'subsample': 0.8, 'reg_lambda': 5, 'reg_alpha': 0.1, 'n_estimators': 400, 'max_depth': 15, 'learning_rate': 0.01, 'gamma': 1, 'colsample_bytree': 0.8}\n",
            "\n",
            "Classification Report for Best Model:\n",
            "              precision    recall  f1-score   support\n",
            "\n",
            "           0       0.93      0.99      0.96       182\n",
            "           1       0.50      0.07      0.12        14\n",
            "\n",
            "    accuracy                           0.93       196\n",
            "   macro avg       0.72      0.53      0.54       196\n",
            "weighted avg       0.90      0.93      0.90       196\n",
            "\n",
            "Best Model Accuracy: 0.93\n"
          ]
        },
        {
          "output_type": "display_data",
          "data": {
            "text/plain": [
              "<Figure size 500x400 with 1 Axes>"
            ],
            "image/png": "[encoded data removed]"
          },
          "metadata": {}
        }
      ]
    },
    {
      "cell_type": "markdown",
      "source": [
        "xgboost hyperparameter tunning - grid search"
      ],
      "metadata": {
        "id": "1EsVZhTgjep2"
      }
    },
    {
      "cell_type": "code",
      "source": [
        "from xgboost import XGBClassifier\n",
        "from sklearn.model_selection import GridSearchCV\n",
        "from sklearn.metrics import classification_report, accuracy_score, confusion_matrix\n",
        "import matplotlib.pyplot as plt\n",
        "import seaborn as sns\n",
        "\n",
        "# Step 1: Define the parameter grid (reduced combinations for demonstration)\n",
        "param_grid = {\n",
        "    'n_estimators': [50, 100, 200],\n",
        "    'learning_rate': [0.05, 0.1, 0.2],\n",
        "    'max_depth': [3, 5, 7],\n",
        "    'subsample': [0.8, 1.0],\n",
        "    'colsample_bytree': [0.6, 0.8],\n",
        "    'gamma': [0, 1],\n",
        "    'reg_alpha': [0, 0.1],\n",
        "    'reg_lambda': [1, 2]\n",
        "}\n",
        "\n",
        "# Step 2: Initialize the XGBoost model\n",
        "xgb = XGBClassifier(eval_metric='logloss')\n",
        "\n",
        "# Step 3: Set up GridSearchCV\n",
        "grid_search = GridSearchCV(\n",
        "    estimator=xgb,\n",
        "    param_grid=param_grid,\n",
        "    scoring='accuracy',\n",
        "    cv=5,  # 5-fold cross-validation\n",
        "    verbose=2,\n",
        "    n_jobs=-1\n",
        ")\n",
        "\n",
        "# Step 4: Fit GridSearchCV on the training data\n",
        "print(\"\\nStarting hyperparameter tuning with training data...\")\n",
        "grid_search.fit(X_train, y_train)\n",
        "\n",
        "# Step 5: Evaluate the best model on the test set\n",
        "best_model = grid_search.best_estimator_\n",
        "best_params = grid_search.best_params_\n",
        "print(\"\\nBest Parameters:\", best_params)\n",
        "\n",
        "best_predictions = best_model.predict(X_test)\n",
        "accuracy = accuracy_score(y_test, best_predictions)\n",
        "print(\"\\nClassification Report for Best Model:\")\n",
        "print(classification_report(y_test, best_predictions))\n",
        "print(f\"Best Model Accuracy: {accuracy:.2f}\")\n",
        "\n",
        "# Confusion Matrix\n",
        "cm_xgb = confusion_matrix(y_test, best_predictions)\n",
        "plt.figure(figsize=(5, 4))\n",
        "sns.heatmap(cm_xgb, annot=True, fmt='d', cmap='Blues', cbar=False)\n",
        "plt.title('XGBoost Confusion Matrix')\n",
        "plt.xlabel('Predicted')\n",
        "plt.ylabel('True')\n",
        "plt.show()\n"
      ],
      "metadata": {
        "colab": {
          "base_uri": "https://localhost:8080/",
          "height": 719
        },
        "id": "HuVhFzfzjdyj",
        "outputId": "c42893e3-79f9-4e5c-a8aa-a877ba6af820"
      },
      "execution_count": null,
      "outputs": [
        {
          "output_type": "stream",
          "name": "stdout",
          "text": [
            "\n",
            "Starting hyperparameter tuning with training data...\n",
            "Fitting 5 folds for each of 864 candidates, totalling 4320 fits\n",
            "\n",
            "Best Parameters: {'colsample_bytree': 0.6, 'gamma': 0, 'learning_rate': 0.2, 'max_depth': 3, 'n_estimators': 200, 'reg_alpha': 0, 'reg_lambda': 1, 'subsample': 1.0}\n",
            "\n",
            "Classification Report for Best Model:\n",
            "              precision    recall  f1-score   support\n",
            "\n",
            "           0       0.95      0.97      0.96       182\n",
            "           1       0.44      0.29      0.35        14\n",
            "\n",
            "    accuracy                           0.92       196\n",
            "   macro avg       0.70      0.63      0.65       196\n",
            "weighted avg       0.91      0.92      0.92       196\n",
            "\n",
            "Best Model Accuracy: 0.92\n"
          ]
        },
        {
          "output_type": "display_data",
          "data": {
            "text/plain": [
              "<Figure size 500x400 with 1 Axes>"
            ],
            "image/png": "[encoded data removed]"
          },
          "metadata": {}
        }
      ]
    },
    {
      "cell_type": "markdown",
      "source": [
        "Apply smote"
      ],
      "metadata": {
        "id": "KAaVJqSgumpt"
      }
    },
    {
      "cell_type": "code",
      "source": [
        "from imblearn.over_sampling import SMOTE\n",
        "from xgboost import XGBClassifier\n",
        "from sklearn.metrics import classification_report, accuracy_score, confusion_matrix\n",
        "import matplotlib.pyplot as plt\n",
        "import seaborn as sns\n",
        "import numpy as np\n",
        "\n",
        "#Apply SMOTE to balance the training set\n",
        "print(\"Applying SMOTE to balance the dataset...\")\n",
        "smote = SMOTE(random_state=42)\n",
        "X_train_balanced, y_train_balanced = smote.fit_resample(X_train, y_train)\n",
        "\n",
        "\n",
        "unique, counts = np.unique(y_train_balanced, return_counts=True)\n",
        "print(f\"Balanced Class Distribution: {dict(zip(unique, counts))}\")\n",
        "\n",
        "#Initialize and Train the XGBoost Model\n",
        "xgb = XGBClassifier(eval_metric='logloss')  # Default hyperparameters\n",
        "print(\"\\nTraining XGBoost model on balanced data...\")\n",
        "xgb.fit(X_train_balanced, y_train_balanced)\n",
        "\n",
        " #Evaluate the Model on Test Data\n",
        "xgb_predictions = xgb.predict(X_test)\n",
        "accuracy = accuracy_score(y_test, xgb_predictions)\n",
        "print(\"\\nClassification Report for XGBoost:\")\n",
        "print(classification_report(y_test, xgb_predictions))\n",
        "print(f\"XGBoost Accuracy: {accuracy:.2f}\")\n",
        "\n",
        "#  Confusion Matrix\n",
        "cm_xgb = confusion_matrix(y_test, xgb_predictions)\n",
        "\n",
        "# Plot Confusion Matrix as Heatmap\n",
        "plt.figure(figsize=(5, 4))\n",
        "sns.heatmap(cm_xgb, annot=True, fmt='d', cmap='Blues', cbar=False)\n",
        "plt.title('XGBoost Confusion Matrix')\n",
        "plt.xlabel('Predicted')\n",
        "plt.ylabel('True')\n",
        "plt.show()\n",
        "\n",
        "#  Extract and Print Confusion Matrix Metrics\n",
        "tn, fp, fn, tp = cm_xgb.ravel()\n",
        "print(f\"True Negatives (TN): {tn}, False Positives (FP): {fp}\")\n",
        "print(f\"False Negatives (FN): {fn}, True Positives (TP): {tp}\")\n"
      ],
      "metadata": {
        "colab": {
          "base_uri": "https://localhost:8080/",
          "height": 737
        },
        "id": "lB1SDjYcuofX",
        "outputId": "f3388d8e-79c2-44fd-fbee-a69cbd8af9b4"
      },
      "execution_count": null,
      "outputs": [
        {
          "output_type": "stream",
          "name": "stdout",
          "text": [
            "Applying SMOTE to balance the dataset...\n",
            "Balanced Class Distribution: {0: 418, 1: 418}\n",
            "\n",
            "Training XGBoost model on balanced data...\n",
            "\n",
            "Classification Report for XGBoost:\n",
            "              precision    recall  f1-score   support\n",
            "\n",
            "           0       0.96      0.96      0.96       182\n",
            "           1       0.47      0.50      0.48        14\n",
            "\n",
            "    accuracy                           0.92       196\n",
            "   macro avg       0.71      0.73      0.72       196\n",
            "weighted avg       0.93      0.92      0.92       196\n",
            "\n",
            "XGBoost Accuracy: 0.92\n"
          ]
        },
        {
          "output_type": "display_data",
          "data": {
            "text/plain": [
              "<Figure size 500x400 with 1 Axes>"
            ],
            "image/png": "[encoded data removed]"
          },
          "metadata": {}
        },
        {
          "output_type": "stream",
          "name": "stdout",
          "text": [
            "True Negatives (TN): 174, False Positives (FP): 8\n",
            "False Negatives (FN): 7, True Positives (TP): 7\n"
          ]
        }
      ]
    },
    {
      "cell_type": "markdown",
      "source": [
        "xgboost smote hyperparameter tunning - random search"
      ],
      "metadata": {
        "id": "HvxacAxg-iLD"
      }
    },
    {
      "cell_type": "code",
      "source": [
        "from xgboost import XGBClassifier\n",
        "from imblearn.over_sampling import SMOTE\n",
        "from sklearn.model_selection import RandomizedSearchCV\n",
        "from sklearn.metrics import classification_report, accuracy_score\n",
        "\n",
        "# Step 1: Apply SMOTE to balance the training set\n",
        "print(\"Applying SMOTE to balance the dataset...\")\n",
        "smote = SMOTE(random_state=42)\n",
        "X_train_balanced, y_train_balanced = smote.fit_resample(X_train, y_train)\n",
        "\n",
        "# Check the new class distribution\n",
        "unique, counts = np.unique(y_train_balanced, return_counts=True)\n",
        "print(f\"Balanced Class Distribution: {dict(zip(unique, counts))}\")\n",
        "\n",
        "# Define the parameter grid\n",
        "# param_grid = {\n",
        "#     'n_estimators': [50, 100, 200, 300],  # Number of trees\n",
        "#     'learning_rate': [0.01, 0.1, 0.2, 0.3],  # Step size shrinkage\n",
        "#     'max_depth': [3, 5, 7, 10],  # Maximum depth of a tree\n",
        "#     'subsample': [0.6, 0.8, 1.0],  # Fraction of samples used for training\n",
        "#     'colsample_bytree': [0.6, 0.8, 1.0],  # Fraction of features used per tree\n",
        "#     'gamma': [0, 1, 5],  # Minimum loss reduction required for split\n",
        "#     'reg_alpha': [0, 0.1, 1],  # L1 regularization\n",
        "#     'reg_lambda': [1, 2, 5]  # L2 regularization\n",
        "# }\n",
        "param_grid = {\n",
        "    'n_estimators': [25, 50, 100, 200, 400],  # More trees\n",
        "    'learning_rate': [0.01, 0.05, 0.1, 0.2, 0.3],  # Smaller steps for better learning\n",
        "    'max_depth': [5, 7, 10, 15],  # Broader range for tree depth\n",
        "    'subsample': [0.6, 0.8, 1.0],  # Fraction of samples used per tree\n",
        "    'colsample_bytree': [0.4, 0.6, 0.8, 1.0],  # Fraction of features used per tree\n",
        "    'gamma': [0, 1, 5, 10],  # Minimum loss reduction for split\n",
        "    'reg_alpha': [0, 0.1, 0.5, 1],  # Regularization to reduce overfitting\n",
        "    'reg_lambda': [1, 2, 5, 10]  # Regularization to reduce overfitting\n",
        "}\n",
        "\n",
        "# Create the base model\n",
        "xgb = XGBClassifier(eval_metric='logloss', use_label_encoder=False)\n",
        "\n",
        "# Initialize RandomizedSearchCV\n",
        "random_search = RandomizedSearchCV(\n",
        "    estimator=xgb,\n",
        "    param_distributions=param_grid,\n",
        "    n_iter=100,  # Number of parameter settings sampled\n",
        "    scoring='accuracy',\n",
        "    cv=5,  # 5-fold cross-validation\n",
        "    verbose=2,\n",
        "    random_state=42,\n",
        "    n_jobs=-1  # Use all available cores\n",
        ")\n",
        "\n",
        "# Fit RandomizedSearchCV\n",
        "print(\"\\nStarting hyperparameter tuning...\")\n",
        "random_search.fit(X_train_balanced, y_train_balanced)\n",
        "\n",
        "# Get the best model and parameters\n",
        "best_model = random_search.best_estimator_\n",
        "best_params = random_search.best_params_\n",
        "print(\"\\nBest Parameters:\", best_params)\n",
        "\n",
        "# Evaluate the best model on the test set\n",
        "best_predictions = best_model.predict(X_test)\n",
        "accuracy = accuracy_score(y_test, best_predictions)\n",
        "print(\"\\nClassification Report for Best Model:\")\n",
        "print(classification_report(y_test, best_predictions))\n",
        "print(f\"Best Model Accuracy: {accuracy:.2f}\")\n",
        "\n",
        "# Confusion Matrix\n",
        "cm_xgb = confusion_matrix(y_test, best_predictions)\n",
        "plt.figure(figsize=(5, 4))\n",
        "sns.heatmap(cm_xgb, annot=True, fmt='d', cmap='Blues', cbar=False)\n",
        "plt.title('XGBoost Confusion Matrix random search')\n",
        "plt.xlabel('Predicted')\n",
        "plt.ylabel('True')\n",
        "plt.show()\n"
      ],
      "metadata": {
        "colab": {
          "base_uri": "https://localhost:8080/",
          "height": 827
        },
        "id": "B5YJPNZL9z5y",
        "outputId": "ace04cc1-d0df-4b8f-faa0-774773bd188f"
      },
      "execution_count": null,
      "outputs": [
        {
          "output_type": "stream",
          "name": "stdout",
          "text": [
            "Applying SMOTE to balance the dataset...\n",
            "Balanced Class Distribution: {0: 418, 1: 418}\n",
            "\n",
            "Starting hyperparameter tuning...\n",
            "Fitting 5 folds for each of 100 candidates, totalling 500 fits\n"
          ]
        },
        {
          "output_type": "stream",
          "name": "stderr",
          "text": [
            "/usr/local/lib/python3.10/dist-packages/xgboost/core.py:158: UserWarning: [16:45:32] WARNING: /workspace/src/learner.cc:740: \n",
            "Parameters: { \"use_label_encoder\" } are not used.\n",
            "\n",
            "  warnings.warn(smsg, UserWarning)\n"
          ]
        },
        {
          "output_type": "stream",
          "name": "stdout",
          "text": [
            "\n",
            "Best Parameters: {'subsample': 1.0, 'reg_lambda': 2, 'reg_alpha': 0, 'n_estimators': 400, 'max_depth': 7, 'learning_rate': 0.1, 'gamma': 0, 'colsample_bytree': 0.8}\n",
            "\n",
            "Classification Report for Best Model:\n",
            "              precision    recall  f1-score   support\n",
            "\n",
            "           0       0.96      0.94      0.95       182\n",
            "           1       0.39      0.50      0.44        14\n",
            "\n",
            "    accuracy                           0.91       196\n",
            "   macro avg       0.67      0.72      0.69       196\n",
            "weighted avg       0.92      0.91      0.91       196\n",
            "\n",
            "Best Model Accuracy: 0.91\n"
          ]
        },
        {
          "output_type": "display_data",
          "data": {
            "text/plain": [
              "<Figure size 500x400 with 1 Axes>"
            ],
            "image/png": "[encoded data removed]"
          },
          "metadata": {}
        }
      ]
    },
    {
      "cell_type": "markdown",
      "source": [
        "xgboost smote hyperparameter tunning - grid search"
      ],
      "metadata": {
        "id": "Zjds7KF4905L"
      }
    },
    {
      "cell_type": "code",
      "source": [
        "from imblearn.over_sampling import SMOTE\n",
        "from xgboost import XGBClassifier\n",
        "from sklearn.model_selection import GridSearchCV\n",
        "from sklearn.metrics import classification_report, accuracy_score\n",
        "import numpy as np\n",
        "\n",
        "# Step 1: Apply SMOTE to balance the training set\n",
        "print(\"Applying SMOTE to balance the dataset...\")\n",
        "smote = SMOTE(random_state=42)\n",
        "X_train_balanced, y_train_balanced = smote.fit_resample(X_train, y_train)\n",
        "\n",
        "# Check the new class distribution\n",
        "unique, counts = np.unique(y_train_balanced, return_counts=True)\n",
        "print(f\"Balanced Class Distribution: {dict(zip(unique, counts))}\")\n",
        "\n",
        "# Step 2: Define the parameter grid (reduced combinations for demonstration)\n",
        "param_grid = {\n",
        "    'n_estimators': [50, 100, 200],\n",
        "    'learning_rate': [0.05, 0.1, 0.2],\n",
        "    'max_depth': [3, 5, 7],\n",
        "    'subsample': [0.8, 1.0],\n",
        "    'colsample_bytree': [0.6, 0.8],\n",
        "    'gamma': [0, 1],\n",
        "    'reg_alpha': [0, 0.1],\n",
        "    'reg_lambda': [1, 2]\n",
        "}\n",
        "\n",
        "# Step 3: Initialize the XGBoost model\n",
        "xgb = XGBClassifier(eval_metric='logloss')\n",
        "\n",
        "# Step 4: Set up GridSearchCV\n",
        "grid_search = GridSearchCV(\n",
        "    estimator=xgb,\n",
        "    param_grid=param_grid,\n",
        "    scoring='accuracy',\n",
        "    cv=5,  # 5-fold cross-validation\n",
        "    verbose=2,\n",
        "    n_jobs=-1\n",
        ")\n",
        "\n",
        "# Step 5: Fit GridSearchCV on the balanced training data\n",
        "print(\"\\nStarting hyperparameter tuning with balanced dataset...\")\n",
        "grid_search.fit(X_train_balanced, y_train_balanced)\n",
        "\n",
        "# Step 6: Evaluate the best model on the test set\n",
        "best_model = grid_search.best_estimator_\n",
        "best_params = grid_search.best_params_\n",
        "print(\"\\nBest Parameters:\", best_params)\n",
        "\n",
        "best_predictions = best_model.predict(X_test)\n",
        "accuracy = accuracy_score(y_test, best_predictions)\n",
        "print(\"\\nClassification Report for Best Model:\")\n",
        "print(classification_report(y_test, best_predictions))\n",
        "print(f\"Best Model Accuracy: {accuracy:.2f}\")\n",
        "\n",
        "# Confusion Matrix\n",
        "cm_xgb = confusion_matrix(y_test, best_predictions)\n",
        "plt.figure(figsize=(5, 4))\n",
        "sns.heatmap(cm_xgb, annot=True, fmt='d', cmap='Blues', cbar=False)\n",
        "plt.title('XGBoost Confusion grid search Matrix')\n",
        "plt.xlabel('Predicted')\n",
        "plt.ylabel('True')\n",
        "plt.show()\n"
      ],
      "metadata": {
        "colab": {
          "base_uri": "https://localhost:8080/",
          "height": 755
        },
        "id": "MZp9zc2M9B5J",
        "outputId": "87fb8f8a-77de-4449-b8ad-697dc5feb636"
      },
      "execution_count": null,
      "outputs": [
        {
          "output_type": "stream",
          "name": "stdout",
          "text": [
            "Applying SMOTE to balance the dataset...\n",
            "Balanced Class Distribution: {0: 418, 1: 418}\n",
            "\n",
            "Starting hyperparameter tuning with balanced dataset...\n",
            "Fitting 5 folds for each of 864 candidates, totalling 4320 fits\n",
            "\n",
            "Best Parameters: {'colsample_bytree': 0.8, 'gamma': 0, 'learning_rate': 0.1, 'max_depth': 7, 'n_estimators': 200, 'reg_alpha': 0.1, 'reg_lambda': 2, 'subsample': 0.8}\n",
            "\n",
            "Classification Report for Best Model:\n",
            "              precision    recall  f1-score   support\n",
            "\n",
            "           0       0.96      0.94      0.95       182\n",
            "           1       0.39      0.50      0.44        14\n",
            "\n",
            "    accuracy                           0.91       196\n",
            "   macro avg       0.67      0.72      0.69       196\n",
            "weighted avg       0.92      0.91      0.91       196\n",
            "\n",
            "Best Model Accuracy: 0.91\n"
          ]
        },
        {
          "output_type": "display_data",
          "data": {
            "text/plain": [
              "<Figure size 500x400 with 1 Axes>"
            ],
            "image/png": "[encoded data removed]"
          },
          "metadata": {}
        }
      ]
    },
    {
      "cell_type": "markdown",
      "source": [
        "navie bayes"
      ],
      "metadata": {
        "id": "APAxcd8E0uK6"
      }
    },
    {
      "cell_type": "code",
      "source": [
        "from sklearn.naive_bayes import GaussianNB\n",
        "from sklearn.metrics import classification_report, accuracy_score, confusion_matrix\n",
        "import matplotlib.pyplot as plt\n",
        "import seaborn as sns\n",
        "\n",
        "# Train the Naive Bayes model\n",
        "print(\"\\nTraining Naive Bayes model...\")\n",
        "nb_model = GaussianNB()\n",
        "nb_model.fit(X_train, y_train)\n",
        "\n",
        "# Make predictions\n",
        "nb_predictions = nb_model.predict(X_test)\n",
        "\n",
        "# Evaluate the model\n",
        "print(\"\\nNaive Bayes Classification Report:\")\n",
        "print(classification_report(y_test, nb_predictions))\n",
        "nb_accuracy = accuracy_score(y_test, nb_predictions)\n",
        "print(f\"Naive Bayes Accuracy: {nb_accuracy:.2f}\")\n",
        "\n",
        "# Confusion Matrix\n",
        "cm_nb = confusion_matrix(y_test, nb_predictions)\n",
        "\n",
        "# Plot Confusion Matrix as Heatmap\n",
        "plt.figure(figsize=(5, 4))\n",
        "sns.heatmap(cm_nb, annot=True, fmt='d', cmap='Blues', cbar=False)\n",
        "plt.title('Naive Bayes Confusion Matrix')\n",
        "plt.xlabel('Predicted')\n",
        "plt.ylabel('True')\n",
        "plt.show()\n",
        "\n",
        "# Extract and Print Confusion Matrix Metrics\n",
        "tn, fp, fn, tp = cm_nb.ravel()\n",
        "print(f\"True Negatives (TN): {tn}, False Positives (FP): {fp}\")\n",
        "print(f\"False Negatives (FN): {fn}, True Positives (TP): {tp}\")\n"
      ],
      "metadata": {
        "colab": {
          "base_uri": "https://localhost:8080/",
          "height": 700
        },
        "id": "wt6DLkU30wWc",
        "outputId": "231e97da-3887-4056-cfb3-c5d9193c8c9b"
      },
      "execution_count": null,
      "outputs": [
        {
          "output_type": "stream",
          "name": "stdout",
          "text": [
            "\n",
            "Training Naive Bayes model...\n",
            "\n",
            "Naive Bayes Classification Report:\n",
            "              precision    recall  f1-score   support\n",
            "\n",
            "           0       1.00      0.45      0.62       182\n",
            "           1       0.12      1.00      0.22        14\n",
            "\n",
            "    accuracy                           0.49       196\n",
            "   macro avg       0.56      0.73      0.42       196\n",
            "weighted avg       0.94      0.49      0.59       196\n",
            "\n",
            "Naive Bayes Accuracy: 0.49\n"
          ]
        },
        {
          "output_type": "display_data",
          "data": {
            "text/plain": [
              "<Figure size 500x400 with 1 Axes>"
            ],
            "image/png": "[encoded data removed]"
          },
          "metadata": {}
        },
        {
          "output_type": "stream",
          "name": "stdout",
          "text": [
            "True Negatives (TN): 82, False Positives (FP): 100\n",
            "False Negatives (FN): 0, True Positives (TP): 14\n"
          ]
        }
      ]
    },
    {
      "cell_type": "markdown",
      "source": [
        "naive bayes with random search"
      ],
      "metadata": {
        "id": "7_e8IE-a0sxM"
      }
    },
    {
      "cell_type": "code",
      "source": [
        "from sklearn.naive_bayes import GaussianNB\n",
        "from sklearn.model_selection import RandomizedSearchCV\n",
        "from sklearn.metrics import classification_report, accuracy_score, confusion_matrix\n",
        "import matplotlib.pyplot as plt\n",
        "import seaborn as sns\n",
        "\n",
        "# Step 1: Define the hyperparameter grid\n",
        "param_grid = {\n",
        "    'var_smoothing': [1e-9, 1e-8, 1e-7, 1e-6, 1e-5]  # Smoothing parameter for GaussianNB\n",
        "}\n",
        "\n",
        "# Step 2: Initialize the Naive Bayes model\n",
        "nb_model = GaussianNB()\n",
        "\n",
        "# Step 3: Set up RandomizedSearchCV\n",
        "random_search = RandomizedSearchCV(\n",
        "    estimator=nb_model,\n",
        "    param_distributions=param_grid,\n",
        "    n_iter=100,  # Number of parameter combinations to try\n",
        "    scoring='accuracy',\n",
        "    cv=5,  # 5-fold cross-validation\n",
        "    verbose=2,\n",
        "    random_state=42,\n",
        "    n_jobs=-1\n",
        ")\n",
        "\n",
        "# Step 4: Fit RandomizedSearchCV on training data\n",
        "print(\"\\nStarting hyperparameter tuning...\")\n",
        "random_search.fit(X_train, y_train)\n",
        "\n",
        "# Step 5: Evaluate the best model on the test set\n",
        "best_model = random_search.best_estimator_\n",
        "best_params = random_search.best_params_\n",
        "print(\"\\nBest Parameters:\", best_params)\n",
        "\n",
        "# Make predictions\n",
        "nb_predictions = best_model.predict(X_test)\n",
        "\n",
        "# Classification report and accuracy\n",
        "accuracy = accuracy_score(y_test, nb_predictions)\n",
        "print(\"\\nClassification Report for Best Model:\")\n",
        "print(classification_report(y_test, nb_predictions))\n",
        "print(f\"Naive Bayes Accuracy: {accuracy:.2f}\")\n",
        "\n",
        "# Step 6: Confusion Matrix\n",
        "cm_nb = confusion_matrix(y_test, nb_predictions)\n",
        "\n",
        "# Plot Confusion Matrix as Heatmap\n",
        "plt.figure(figsize=(5, 4))\n",
        "sns.heatmap(cm_nb, annot=True, fmt='d', cmap='Blues', cbar=False)\n",
        "plt.title('Naive Bayes Confusion Matrix')\n",
        "plt.xlabel('Predicted')\n",
        "plt.ylabel('True')\n",
        "plt.show()\n",
        "\n",
        "# Extract and Print Confusion Matrix Metrics\n",
        "tn, fp, fn, tp = cm_nb.ravel()\n",
        "print(f\"True Negatives (TN): {tn}, False Positives (FP): {fp}\")\n",
        "print(f\"False Negatives (FN): {fn}, True Positives (TP): {tp}\")\n"
      ],
      "metadata": {
        "colab": {
          "base_uri": "https://localhost:8080/",
          "height": 811
        },
        "id": "Xi5O4ASe0u5-",
        "outputId": "27ef1e13-837a-41f5-b731-66ec07d4dbd1"
      },
      "execution_count": null,
      "outputs": [
        {
          "output_type": "stream",
          "name": "stdout",
          "text": [
            "\n",
            "Starting hyperparameter tuning...\n",
            "Fitting 5 folds for each of 5 candidates, totalling 25 fits\n"
          ]
        },
        {
          "output_type": "stream",
          "name": "stderr",
          "text": [
            "/usr/local/lib/python3.10/dist-packages/sklearn/model_selection/_search.py:320: UserWarning: The total space of parameters 5 is smaller than n_iter=100. Running 5 iterations. For exhaustive searches, use GridSearchCV.\n",
            "  warnings.warn(\n"
          ]
        },
        {
          "output_type": "stream",
          "name": "stdout",
          "text": [
            "\n",
            "Best Parameters: {'var_smoothing': 1e-08}\n",
            "\n",
            "Classification Report for Best Model:\n",
            "              precision    recall  f1-score   support\n",
            "\n",
            "           0       1.00      0.45      0.62       182\n",
            "           1       0.12      1.00      0.22        14\n",
            "\n",
            "    accuracy                           0.49       196\n",
            "   macro avg       0.56      0.73      0.42       196\n",
            "weighted avg       0.94      0.49      0.59       196\n",
            "\n",
            "Naive Bayes Accuracy: 0.49\n"
          ]
        },
        {
          "output_type": "display_data",
          "data": {
            "text/plain": [
              "<Figure size 500x400 with 1 Axes>"
            ],
            "image/png": "[encoded data removed]"
          },
          "metadata": {}
        },
        {
          "output_type": "stream",
          "name": "stdout",
          "text": [
            "True Negatives (TN): 82, False Positives (FP): 100\n",
            "False Negatives (FN): 0, True Positives (TP): 14\n"
          ]
        }
      ]
    },
    {
      "cell_type": "markdown",
      "source": [
        "naive bayes with grid search"
      ],
      "metadata": {
        "id": "YxIdoi_q04j3"
      }
    },
    {
      "cell_type": "code",
      "source": [
        "from sklearn.naive_bayes import GaussianNB\n",
        "from sklearn.model_selection import GridSearchCV\n",
        "from sklearn.metrics import classification_report, accuracy_score, confusion_matrix\n",
        "import matplotlib.pyplot as plt\n",
        "import seaborn as sns\n",
        "\n",
        "# Step 1: Define the hyperparameter grid\n",
        "param_grid = {\n",
        "    'var_smoothing': [1e-9, 1e-8, 1e-7, 1e-6, 1e-5]  # Smoothing parameter for GaussianNB\n",
        "}\n",
        "\n",
        "# Step 2: Initialize the Naive Bayes model\n",
        "nb_model = GaussianNB()\n",
        "\n",
        "# Step 3: Set up GridSearchCV\n",
        "grid_search = GridSearchCV(\n",
        "    estimator=nb_model,\n",
        "    param_grid=param_grid,\n",
        "    scoring='accuracy',\n",
        "    cv=5,  # 5-fold cross-validation\n",
        "    verbose=2,\n",
        "    n_jobs=-1\n",
        ")\n",
        "\n",
        "# Step 4: Fit GridSearchCV on training data\n",
        "print(\"\\nStarting hyperparameter tuning...\")\n",
        "grid_search.fit(X_train, y_train)\n",
        "\n",
        "# Step 5: Evaluate the best model on the test set\n",
        "best_model = grid_search.best_estimator_\n",
        "best_params = grid_search.best_params_\n",
        "print(\"\\nBest Parameters:\", best_params)\n",
        "\n",
        "# Make predictions\n",
        "nb_predictions = best_model.predict(X_test)\n",
        "\n",
        "# Classification report and accuracy\n",
        "accuracy = accuracy_score(y_test, nb_predictions)\n",
        "print(\"\\nClassification Report for Best Model:\")\n",
        "print(classification_report(y_test, nb_predictions))\n",
        "print(f\"Naive Bayes Accuracy: {accuracy:.2f}\")\n",
        "\n",
        "# Step 6: Confusion Matrix\n",
        "cm_nb = confusion_matrix(y_test, nb_predictions)\n",
        "\n",
        "# Plot Confusion Matrix as Heatmap\n",
        "plt.figure(figsize=(5, 4))\n",
        "sns.heatmap(cm_nb, annot=True, fmt='d', cmap='Blues', cbar=False)\n",
        "plt.title('Naive Bayes Confusion Matrix')\n",
        "plt.xlabel('Predicted')\n",
        "plt.ylabel('True')\n",
        "plt.show()\n",
        "\n",
        "# Extract and Print Confusion Matrix Metrics\n",
        "tn, fp, fn, tp = cm_nb.ravel()\n",
        "print(f\"True Negatives (TN): {tn}, False Positives (FP): {fp}\")\n",
        "print(f\"False Negatives (FN): {fn}, True Positives (TP): {tp}\")\n"
      ],
      "metadata": {
        "colab": {
          "base_uri": "https://localhost:8080/",
          "height": 755
        },
        "id": "sY5sfRb5079N",
        "outputId": "1d795e28-bb75-42e9-aada-0c58286997ff"
      },
      "execution_count": null,
      "outputs": [
        {
          "output_type": "stream",
          "name": "stdout",
          "text": [
            "\n",
            "Starting hyperparameter tuning...\n",
            "Fitting 5 folds for each of 5 candidates, totalling 25 fits\n",
            "\n",
            "Best Parameters: {'var_smoothing': 1e-08}\n",
            "\n",
            "Classification Report for Best Model:\n",
            "              precision    recall  f1-score   support\n",
            "\n",
            "           0       1.00      0.45      0.62       182\n",
            "           1       0.12      1.00      0.22        14\n",
            "\n",
            "    accuracy                           0.49       196\n",
            "   macro avg       0.56      0.73      0.42       196\n",
            "weighted avg       0.94      0.49      0.59       196\n",
            "\n",
            "Naive Bayes Accuracy: 0.49\n"
          ]
        },
        {
          "output_type": "display_data",
          "data": {
            "text/plain": [
              "<Figure size 500x400 with 1 Axes>"
            ],
            "image/png": "[encoded data removed]"
          },
          "metadata": {}
        },
        {
          "output_type": "stream",
          "name": "stdout",
          "text": [
            "True Negatives (TN): 82, False Positives (FP): 100\n",
            "False Negatives (FN): 0, True Positives (TP): 14\n"
          ]
        }
      ]
    },
    {
      "cell_type": "markdown",
      "source": [
        "naive bayes with smote"
      ],
      "metadata": {
        "id": "6Ibc2vgp1Jjw"
      }
    },
    {
      "cell_type": "code",
      "source": [
        "from imblearn.over_sampling import SMOTE\n",
        "from sklearn.naive_bayes import GaussianNB\n",
        "from sklearn.metrics import classification_report, accuracy_score, confusion_matrix\n",
        "import matplotlib.pyplot as plt\n",
        "import seaborn as sns\n",
        "import numpy as np\n",
        "\n",
        "# Step 1: Apply SMOTE to balance the training set\n",
        "print(\"Applying SMOTE to balance the dataset...\")\n",
        "smote = SMOTE(random_state=42)\n",
        "X_train_balanced, y_train_balanced = smote.fit_resample(X_train, y_train)\n",
        "\n",
        "# Check the new class distribution\n",
        "unique, counts = np.unique(y_train_balanced, return_counts=True)\n",
        "print(f\"Balanced Class Distribution: {dict(zip(unique, counts))}\")\n",
        "\n",
        "# Step 2: Train the Naive Bayes Model\n",
        "print(\"\\nTraining Naive Bayes model...\")\n",
        "nb_model = GaussianNB()\n",
        "nb_model.fit(X_train_balanced, y_train_balanced)\n",
        "\n",
        "# Step 3: Evaluate the Model on Test Data\n",
        "nb_predictions = nb_model.predict(X_test)\n",
        "\n",
        "# Classification report and accuracy\n",
        "accuracy = accuracy_score(y_test, nb_predictions)\n",
        "print(\"\\nClassification Report for Naive Bayes:\")\n",
        "print(classification_report(y_test, nb_predictions))\n",
        "print(f\"Naive Bayes Accuracy: {accuracy:.2f}\")\n",
        "\n",
        "# Step 4: Confusion Matrix\n",
        "cm_nb = confusion_matrix(y_test, nb_predictions)\n",
        "\n",
        "# Plot Confusion Matrix as Heatmap\n",
        "plt.figure(figsize=(5, 4))\n",
        "sns.heatmap(cm_nb, annot=True, fmt='d', cmap='Blues', cbar=False)\n",
        "plt.title('Naive Bayes Confusion Matrix')\n",
        "plt.xlabel('Predicted')\n",
        "plt.ylabel('True')\n",
        "plt.show()\n",
        "\n",
        "# Extract and Print Confusion Matrix Metrics\n",
        "tn, fp, fn, tp = cm_nb.ravel()\n",
        "print(f\"True Negatives (TN): {tn}, False Positives (FP): {fp}\")\n",
        "print(f\"False Negatives (FN): {fn}, True Positives (TP): {tp}\")\n"
      ],
      "metadata": {
        "colab": {
          "base_uri": "https://localhost:8080/",
          "height": 737
        },
        "id": "mg1UNXUH1Lth",
        "outputId": "8a691756-3f22-4e48-ce9e-24c3a69b1730"
      },
      "execution_count": null,
      "outputs": [
        {
          "output_type": "stream",
          "name": "stdout",
          "text": [
            "Applying SMOTE to balance the dataset...\n",
            "Balanced Class Distribution: {0: 418, 1: 418}\n",
            "\n",
            "Training Naive Bayes model...\n",
            "\n",
            "Classification Report for Naive Bayes:\n",
            "              precision    recall  f1-score   support\n",
            "\n",
            "           0       1.00      0.47      0.64       182\n",
            "           1       0.13      1.00      0.22        14\n",
            "\n",
            "    accuracy                           0.51       196\n",
            "   macro avg       0.56      0.73      0.43       196\n",
            "weighted avg       0.94      0.51      0.61       196\n",
            "\n",
            "Naive Bayes Accuracy: 0.51\n"
          ]
        },
        {
          "output_type": "display_data",
          "data": {
            "text/plain": [
              "<Figure size 500x400 with 1 Axes>"
            ],
            "image/png": "[encoded data removed]"
          },
          "metadata": {}
        },
        {
          "output_type": "stream",
          "name": "stdout",
          "text": [
            "True Negatives (TN): 85, False Positives (FP): 97\n",
            "False Negatives (FN): 0, True Positives (TP): 14\n"
          ]
        }
      ]
    },
    {
      "cell_type": "markdown",
      "source": [
        "naive bayes smote hyper parameter tuning grid search"
      ],
      "metadata": {
        "id": "s61QDvBQCgZp"
      }
    },
    {
      "cell_type": "code",
      "source": [
        "from sklearn.naive_bayes import GaussianNB\n",
        "from imblearn.over_sampling import SMOTE\n",
        "from sklearn.model_selection import GridSearchCV\n",
        "from sklearn.metrics import classification_report, accuracy_score, confusion_matrix\n",
        "import matplotlib.pyplot as plt\n",
        "import seaborn as sns\n",
        "\n",
        "# Apply SMOTE to balance the training set\n",
        "print(\"Applying SMOTE to balance the dataset...\")\n",
        "smote = SMOTE(random_state=42)\n",
        "X_train_balanced, y_train_balanced = smote.fit_resample(X_train, y_train)\n",
        "\n",
        "# Check the new class distribution\n",
        "unique, counts = np.unique(y_train_balanced, return_counts=True)\n",
        "print(f\"Balanced Class Distribution: {dict(zip(unique, counts))}\")\n",
        "\n",
        "# Step 1: Define the hyperparameter grid\n",
        "param_grid = {\n",
        "    'var_smoothing': [1e-9, 1e-8, 1e-7, 1e-6, 1e-5]  # Smoothing parameter for GaussianNB\n",
        "}\n",
        "\n",
        "# Step 2: Initialize the Naive Bayes model\n",
        "nb_model = GaussianNB()\n",
        "\n",
        "# Step 3: Set up GridSearchCV\n",
        "grid_search = GridSearchCV(\n",
        "    estimator=nb_model,\n",
        "    param_grid=param_grid,\n",
        "    scoring='accuracy',\n",
        "    cv=5,  # 5-fold cross-validation\n",
        "    verbose=2,\n",
        "    n_jobs=-1\n",
        ")\n",
        "\n",
        "# Step 4: Fit GridSearchCV on training data\n",
        "print(\"\\nStarting hyperparameter tuning...\")\n",
        "grid_search.fit(X_train_balanced, y_train_balanced)\n",
        "\n",
        "# Step 5: Evaluate the best model on the test set\n",
        "best_model = grid_search.best_estimator_\n",
        "best_params = grid_search.best_params_\n",
        "print(\"\\nBest Parameters:\", best_params)\n",
        "\n",
        "# Make predictions\n",
        "nb_predictions = best_model.predict(X_test)\n",
        "\n",
        "# Classification report and accuracy\n",
        "accuracy = accuracy_score(y_test, nb_predictions)\n",
        "print(\"\\nClassification Report for Best Model:\")\n",
        "print(classification_report(y_test, nb_predictions))\n",
        "print(f\"Naive Bayes Accuracy: {accuracy:.2f}\")\n",
        "\n",
        "# Step 6: Confusion Matrix\n",
        "cm_nb = confusion_matrix(y_test, nb_predictions)\n",
        "\n",
        "# Plot Confusion Matrix as Heatmap\n",
        "plt.figure(figsize=(5, 4))\n",
        "sns.heatmap(cm_nb, annot=True, fmt='d', cmap='Blues', cbar=False)\n",
        "plt.title('Naive Bayes Confusion Matrix')\n",
        "plt.xlabel('Predicted')\n",
        "plt.ylabel('True')\n",
        "plt.show()\n",
        "\n",
        "# Extract and Print Confusion Matrix Metrics\n",
        "tn, fp, fn, tp = cm_nb.ravel()\n",
        "print(f\"True Negatives (TN): {tn}, False Positives (FP): {fp}\")\n",
        "print(f\"False Negatives (FN): {fn}, True Positives (TP): {tp}\")\n"
      ],
      "metadata": {
        "colab": {
          "base_uri": "https://localhost:8080/",
          "height": 791
        },
        "id": "q4uqsN0TCzUy",
        "outputId": "c88bf019-4ef6-4db2-9c76-af1b4f564f2a"
      },
      "execution_count": null,
      "outputs": [
        {
          "output_type": "stream",
          "name": "stdout",
          "text": [
            "Applying SMOTE to balance the dataset...\n",
            "Balanced Class Distribution: {0: 418, 1: 418}\n",
            "\n",
            "Starting hyperparameter tuning...\n",
            "Fitting 5 folds for each of 5 candidates, totalling 25 fits\n",
            "\n",
            "Best Parameters: {'var_smoothing': 1e-06}\n",
            "\n",
            "Classification Report for Best Model:\n",
            "              precision    recall  f1-score   support\n",
            "\n",
            "           0       1.00      0.48      0.65       182\n",
            "           1       0.13      1.00      0.23        14\n",
            "\n",
            "    accuracy                           0.52       196\n",
            "   macro avg       0.56      0.74      0.44       196\n",
            "weighted avg       0.94      0.52      0.62       196\n",
            "\n",
            "Naive Bayes Accuracy: 0.52\n"
          ]
        },
        {
          "output_type": "display_data",
          "data": {
            "text/plain": [
              "<Figure size 500x400 with 1 Axes>"
            ],
            "image/png": "[encoded data removed]"
          },
          "metadata": {}
        },
        {
          "output_type": "stream",
          "name": "stdout",
          "text": [
            "True Negatives (TN): 87, False Positives (FP): 95\n",
            "False Negatives (FN): 0, True Positives (TP): 14\n"
          ]
        }
      ]
    },
    {
      "cell_type": "markdown",
      "source": [
        "naive bayes smote hyper parameter tuning random search"
      ],
      "metadata": {
        "id": "fw543s_cCf4l"
      }
    },
    {
      "cell_type": "code",
      "source": [
        "from sklearn.naive_bayes import GaussianNB\n",
        "from imblearn.over_sampling import SMOTE\n",
        "from sklearn.model_selection import RandomizedSearchCV\n",
        "from sklearn.metrics import classification_report, accuracy_score, confusion_matrix\n",
        "import matplotlib.pyplot as plt\n",
        "import seaborn as sns\n",
        "\n",
        "# Apply SMOTE to balance the training set\n",
        "print(\"Applying SMOTE to balance the dataset...\")\n",
        "smote = SMOTE(random_state=42)\n",
        "X_train_balanced, y_train_balanced = smote.fit_resample(X_train, y_train)\n",
        "\n",
        "# Check the new class distribution\n",
        "unique, counts = np.unique(y_train_balanced, return_counts=True)\n",
        "print(f\"Balanced Class Distribution: {dict(zip(unique, counts))}\")\n",
        "\n",
        "# Step 1: Define the hyperparameter grid\n",
        "param_grid = {\n",
        "    'var_smoothing': [1e-9, 1e-8, 1e-7, 1e-6, 1e-5]  # Smoothing parameter for GaussianNB\n",
        "}\n",
        "\n",
        "# Step 2: Initialize the Naive Bayes model\n",
        "nb_model = GaussianNB()\n",
        "\n",
        "# Step 3: Set up RandomizedSearchCV\n",
        "random_search = RandomizedSearchCV(\n",
        "    estimator=nb_model,\n",
        "    param_distributions=param_grid,\n",
        "    n_iter=100,  # Number of parameter combinations to try\n",
        "    scoring='accuracy',\n",
        "    cv=5,  # 5-fold cross-validation\n",
        "    verbose=2,\n",
        "    random_state=42,\n",
        "    n_jobs=-1\n",
        ")\n",
        "\n",
        "# Step 4: Fit RandomizedSearchCV on training data\n",
        "print(\"\\nStarting hyperparameter tuning...\")\n",
        "random_search.fit(X_train_balanced, y_train_balanced)\n",
        "\n",
        "# Step 5: Evaluate the best model on the test set\n",
        "best_model = random_search.best_estimator_\n",
        "best_params = random_search.best_params_\n",
        "print(\"\\nBest Parameters:\", best_params)\n",
        "\n",
        "# Make predictions\n",
        "nb_predictions = best_model.predict(X_test)\n",
        "\n",
        "# Classification report and accuracy\n",
        "accuracy = accuracy_score(y_test, nb_predictions)\n",
        "print(\"\\nClassification Report for Best Model:\")\n",
        "print(classification_report(y_test, nb_predictions))\n",
        "print(f\"Naive Bayes Accuracy: {accuracy:.2f}\")\n",
        "\n",
        "# Step 6: Confusion Matrix\n",
        "cm_nb = confusion_matrix(y_test, nb_predictions)\n",
        "\n",
        "# Plot Confusion Matrix as Heatmap\n",
        "plt.figure(figsize=(5, 4))\n",
        "sns.heatmap(cm_nb, annot=True, fmt='d', cmap='Blues', cbar=False)\n",
        "plt.title('Naive Bayes Confusion Matrix')\n",
        "plt.xlabel('Predicted')\n",
        "plt.ylabel('True')\n",
        "plt.show()\n",
        "\n",
        "# Extract and Print Confusion Matrix Metrics\n",
        "tn, fp, fn, tp = cm_nb.ravel()\n",
        "print(f\"True Negatives (TN): {tn}, False Positives (FP): {fp}\")\n",
        "print(f\"False Negatives (FN): {fn}, True Positives (TP): {tp}\")\n"
      ],
      "metadata": {
        "colab": {
          "base_uri": "https://localhost:8080/",
          "height": 847
        },
        "id": "B8DV30HBCz0I",
        "outputId": "a1daf1f8-ab51-4222-925b-b2e67f0ca98e"
      },
      "execution_count": null,
      "outputs": [
        {
          "output_type": "stream",
          "name": "stdout",
          "text": [
            "Applying SMOTE to balance the dataset...\n",
            "Balanced Class Distribution: {0: 418, 1: 418}\n",
            "\n",
            "Starting hyperparameter tuning...\n",
            "Fitting 5 folds for each of 5 candidates, totalling 25 fits\n"
          ]
        },
        {
          "output_type": "stream",
          "name": "stderr",
          "text": [
            "/usr/local/lib/python3.10/dist-packages/sklearn/model_selection/_search.py:320: UserWarning: The total space of parameters 5 is smaller than n_iter=100. Running 5 iterations. For exhaustive searches, use GridSearchCV.\n",
            "  warnings.warn(\n"
          ]
        },
        {
          "output_type": "stream",
          "name": "stdout",
          "text": [
            "\n",
            "Best Parameters: {'var_smoothing': 1e-06}\n",
            "\n",
            "Classification Report for Best Model:\n",
            "              precision    recall  f1-score   support\n",
            "\n",
            "           0       1.00      0.48      0.65       182\n",
            "           1       0.13      1.00      0.23        14\n",
            "\n",
            "    accuracy                           0.52       196\n",
            "   macro avg       0.56      0.74      0.44       196\n",
            "weighted avg       0.94      0.52      0.62       196\n",
            "\n",
            "Naive Bayes Accuracy: 0.52\n"
          ]
        },
        {
          "output_type": "display_data",
          "data": {
            "text/plain": [
              "<Figure size 500x400 with 1 Axes>"
            ],
            "image/png": "[encoded data removed]"
          },
          "metadata": {}
        },
        {
          "output_type": "stream",
          "name": "stdout",
          "text": [
            "True Negatives (TN): 87, False Positives (FP): 95\n",
            "False Negatives (FN): 0, True Positives (TP): 14\n"
          ]
        }
      ]
    },
    {
      "cell_type": "markdown",
      "source": [
        "linear regression"
      ],
      "metadata": {
        "id": "8CnaistQ06oH"
      }
    },
    {
      "cell_type": "code",
      "source": [
        "from sklearn.linear_model import LinearRegression\n",
        "from sklearn.metrics import mean_squared_error, mean_absolute_error\n",
        "\n",
        "# Step 1: Define and Train Linear Regression Model\n",
        "linear_model = LinearRegression()\n",
        "linear_model.fit(X_train, y_train)\n",
        "\n",
        "# Step 2: Make Predictions on Test Data\n",
        "linear_predictions = linear_model.predict(X_test)\n",
        "\n",
        "# Step 3: Evaluate the Model\n",
        "mse = mean_squared_error(y_test, linear_predictions)\n",
        "mae = mean_absolute_error(y_test, linear_predictions)\n",
        "\n",
        "print(\"\\nLinear Regression Evaluation:\")\n",
        "print(f\"Mean Squared Error (MSE): {mse:.4f}\")\n",
        "print(f\"Mean Absolute Error (MAE): {mae:.4f}\")\n",
        "\n",
        "\n",
        "\n"
      ],
      "metadata": {
        "colab": {
          "base_uri": "https://localhost:8080/"
        },
        "id": "fzfeQy-R08sy",
        "outputId": "137c93fd-3c3a-4bc1-96df-40a3b05f7a3a"
      },
      "execution_count": null,
      "outputs": [
        {
          "output_type": "stream",
          "name": "stdout",
          "text": [
            "\n",
            "Linear Regression Evaluation:\n",
            "Mean Squared Error (MSE): 0.0614\n",
            "Mean Absolute Error (MAE): 0.1522\n"
          ]
        }
      ]
    },
    {
      "cell_type": "markdown",
      "source": [
        "linear regression with gridsearch cv"
      ],
      "metadata": {
        "id": "e1ywJZKB2-qj"
      }
    },
    {
      "cell_type": "code",
      "source": [
        "from sklearn.linear_model import LinearRegression\n",
        "from sklearn.preprocessing import StandardScaler, PolynomialFeatures\n",
        "from sklearn.pipeline import Pipeline\n",
        "from sklearn.model_selection import GridSearchCV\n",
        "from sklearn.metrics import mean_squared_error, mean_absolute_error\n",
        "import pandas as pd\n",
        "\n",
        "# Step 1: Define a Pipeline for Linear Regression\n",
        "pipeline = Pipeline([\n",
        "    ('scaler', StandardScaler()),  # Feature scaling\n",
        "    ('poly', PolynomialFeatures()),  # Polynomial features\n",
        "    ('linear', LinearRegression())  # Linear regression model\n",
        "])\n",
        "\n",
        "# Step 2: Define the hyperparameter grid\n",
        "param_grid = {\n",
        "    'poly__degree': [1, 2, 3],  # Degree of polynomial features\n",
        "    'poly__include_bias': [True, False],  # Include bias term in polynomial features\n",
        "    'linear__fit_intercept': [True, False],  # Whether to fit the intercept\n",
        "}\n",
        "\n",
        "# Step 3: Perform Grid Search with Cross-Validation\n",
        "grid_search = GridSearchCV(\n",
        "    estimator=pipeline,\n",
        "    param_grid=param_grid,\n",
        "    cv=5,  # 5-fold cross-validation\n",
        "    scoring='neg_mean_squared_error',  # Scoring based on negative MSE\n",
        "    verbose=2,\n",
        "    n_jobs=-1\n",
        ")\n",
        "grid_search.fit(X_train, y_train)\n",
        "\n",
        "# Step 4: Extract the best parameters and model\n",
        "best_pipeline = grid_search.best_estimator_\n",
        "best_params = grid_search.best_params_\n",
        "print(\"\\nBest Parameters for Linear Regression Pipeline:\")\n",
        "print(best_params)\n",
        "\n",
        "# Step 5: Evaluate the best model on the test set\n",
        "linear_predictions = best_pipeline.predict(X_test)\n",
        "\n",
        "# Compute MSE and MAE\n",
        "mse = mean_squared_error(y_test, linear_predictions)\n",
        "mae = mean_absolute_error(y_test, linear_predictions)\n",
        "print(\"\\nEvaluation Metrics for Linear Regression Pipeline:\")\n",
        "print(f\"Mean Squared Error (MSE): {mse:.4f}\")\n",
        "print(f\"Mean Absolute Error (MAE): {mae:.4f}\")\n",
        "\n",
        "# Step 6: Display Grid Search Results\n",
        "grid_search_result = pd.DataFrame(grid_search.cv_results_)[['param_poly__degree', 'param_poly__include_bias', 'param_linear__fit_intercept', 'mean_test_score']]\n",
        "grid_search_result['mean_test_score'] = -grid_search_result['mean_test_score']  # Convert negative MSE to positive\n",
        "print(\"\\nGrid Search Results:\")\n",
        "print(grid_search_result)\n"
      ],
      "metadata": {
        "colab": {
          "base_uri": "https://localhost:8080/"
        },
        "id": "zmz9UtN42PHb",
        "outputId": "00612a5e-7d00-44cd-a161-02a54698f788"
      },
      "execution_count": null,
      "outputs": [
        {
          "output_type": "stream",
          "name": "stdout",
          "text": [
            "Fitting 5 folds for each of 12 candidates, totalling 60 fits\n"
          ]
        },
        {
          "output_type": "stream",
          "name": "stderr",
          "text": [
            "/usr/local/lib/python3.10/dist-packages/numpy/ma/core.py:2820: RuntimeWarning: invalid value encountered in cast\n",
            "  _data = np.array(data, dtype=dtype, copy=copy,\n"
          ]
        },
        {
          "output_type": "stream",
          "name": "stdout",
          "text": [
            "\n",
            "Best Parameters for Linear Regression Pipeline:\n",
            "{'linear__fit_intercept': True, 'poly__degree': 1, 'poly__include_bias': True}\n",
            "\n",
            "Evaluation Metrics for Linear Regression Pipeline:\n",
            "Mean Squared Error (MSE): 0.0614\n",
            "Mean Absolute Error (MAE): 0.1522\n",
            "\n",
            "Grid Search Results:\n",
            "    param_poly__degree  param_poly__include_bias  param_linear__fit_intercept  \\\n",
            "0                    1                      True                         True   \n",
            "1                    1                     False                         True   \n",
            "2                    2                      True                         True   \n",
            "3                    2                     False                         True   \n",
            "4                    3                      True                         True   \n",
            "5                    3                     False                         True   \n",
            "6                    1                      True                        False   \n",
            "7                    1                     False                        False   \n",
            "8                    2                      True                        False   \n",
            "9                    2                     False                        False   \n",
            "10                   3                      True                        False   \n",
            "11                   3                     False                        False   \n",
            "\n",
            "    mean_test_score  \n",
            "0      8.305363e-02  \n",
            "1      8.317230e-02  \n",
            "2      4.163274e+19  \n",
            "3      9.633190e+19  \n",
            "4      1.237948e+01  \n",
            "5      1.238200e+01  \n",
            "6      6.195347e+20  \n",
            "7      8.871090e-02  \n",
            "8      3.500666e+21  \n",
            "9      6.438810e+21  \n",
            "10     1.263243e+01  \n",
            "11     1.263901e+01  \n"
          ]
        }
      ]
    },
    {
      "cell_type": "markdown",
      "source": [
        "linear regression with ramdomizesearch cv"
      ],
      "metadata": {
        "id": "b-2sDwZA2xF-"
      }
    },
    {
      "cell_type": "code",
      "source": [
        "from sklearn.linear_model import LinearRegression\n",
        "from sklearn.preprocessing import StandardScaler, PolynomialFeatures\n",
        "from sklearn.pipeline import Pipeline\n",
        "from sklearn.model_selection import RandomizedSearchCV\n",
        "from sklearn.metrics import mean_squared_error, mean_absolute_error\n",
        "import pandas as pd\n",
        "\n",
        "# Step 1: Define a Pipeline for Linear Regression\n",
        "pipeline = Pipeline([\n",
        "    ('scaler', StandardScaler()),  # Feature scaling\n",
        "    ('poly', PolynomialFeatures()),  # Polynomial features\n",
        "    ('linear', LinearRegression())  # Linear regression model\n",
        "])\n",
        "\n",
        "# Step 2: Define the hyperparameter grid\n",
        "param_dist = {\n",
        "    'poly__degree': [1, 2, 3],  # Degree of polynomial features\n",
        "    'poly__include_bias': [True, False],  # Include bias term in polynomial features\n",
        "    'linear__fit_intercept': [True, False],  # Whether to fit the intercept\n",
        "}\n",
        "\n",
        "# Step 3: Perform Randomized Search with Cross-Validation\n",
        "random_search = RandomizedSearchCV(\n",
        "    estimator=pipeline,\n",
        "    param_distributions=param_dist,\n",
        "    n_iter=100,  # Number of parameter combinations to try\n",
        "    cv=5,  # 5-fold cross-validation\n",
        "    scoring='neg_mean_squared_error',  # Scoring based on negative MSE\n",
        "    verbose=2,\n",
        "    random_state=42,\n",
        "    n_jobs=-1\n",
        ")\n",
        "random_search.fit(X_train, y_train)\n",
        "\n",
        "# Step 4: Extract the best parameters and model\n",
        "best_pipeline = random_search.best_estimator_\n",
        "best_params = random_search.best_params_\n",
        "print(\"\\nBest Parameters for Linear Regression Pipeline:\")\n",
        "print(best_params)\n",
        "\n",
        "# Step 5: Evaluate the best model on the test set\n",
        "linear_predictions = best_pipeline.predict(X_test)\n",
        "\n",
        "# Compute MSE and MAE\n",
        "mse = mean_squared_error(y_test, linear_predictions)\n",
        "mae = mean_absolute_error(y_test, linear_predictions)\n",
        "print(\"\\nEvaluation Metrics for Linear Regression Pipeline:\")\n",
        "print(f\"Mean Squared Error (MSE): {mse:.4f}\")\n",
        "print(f\"Mean Absolute Error (MAE): {mae:.4f}\")\n",
        "\n",
        "# Step 6: Display Random Search Results\n",
        "random_search_result = pd.DataFrame(random_search.cv_results_)[['param_poly__degree', 'param_poly__include_bias', 'param_linear__fit_intercept', 'mean_test_score']]\n",
        "random_search_result['mean_test_score'] = -random_search_result['mean_test_score']  # Convert negative MS\n"
      ],
      "metadata": {
        "colab": {
          "base_uri": "https://localhost:8080/"
        },
        "id": "72RI-6t_21LT",
        "outputId": "0768b161-845a-457e-e65e-b7e49959d7f1"
      },
      "execution_count": null,
      "outputs": [
        {
          "output_type": "stream",
          "name": "stdout",
          "text": [
            "Fitting 5 folds for each of 12 candidates, totalling 60 fits\n"
          ]
        },
        {
          "output_type": "stream",
          "name": "stderr",
          "text": [
            "/usr/local/lib/python3.10/dist-packages/sklearn/model_selection/_search.py:320: UserWarning: The total space of parameters 12 is smaller than n_iter=100. Running 12 iterations. For exhaustive searches, use GridSearchCV.\n",
            "  warnings.warn(\n"
          ]
        },
        {
          "output_type": "stream",
          "name": "stdout",
          "text": [
            "\n",
            "Best Parameters for Linear Regression Pipeline:\n",
            "{'poly__include_bias': True, 'poly__degree': 1, 'linear__fit_intercept': True}\n",
            "\n",
            "Evaluation Metrics for Linear Regression Pipeline:\n",
            "Mean Squared Error (MSE): 0.0614\n",
            "Mean Absolute Error (MAE): 0.1522\n"
          ]
        }
      ]
    },
    {
      "cell_type": "markdown",
      "source": [
        "apply smote linear"
      ],
      "metadata": {
        "id": "7TKutcda3RWf"
      }
    },
    {
      "cell_type": "code",
      "source": [
        "from imblearn.over_sampling import SMOTE\n",
        "from sklearn.linear_model import LinearRegression\n",
        "from sklearn.metrics import mean_squared_error, mean_absolute_error\n",
        "import numpy as np\n",
        "\n",
        "# Step 1: Apply SMOTE to balance the training set\n",
        "print(\"Applying SMOTE to balance the dataset...\")\n",
        "smote = SMOTE(random_state=42)\n",
        "X_train_balanced, y_train_balanced = smote.fit_resample(X_train, y_train)\n",
        "\n",
        "# Check the new class distribution\n",
        "unique, counts = np.unique(y_train_balanced, return_counts=True)\n",
        "print(f\"Balanced Class Distribution: {dict(zip(unique, counts))}\")\n",
        "\n",
        "# Step 2: Define and Train Linear Regression Model\n",
        "lr_model = LinearRegression()\n",
        "lr_model.fit(X_train_balanced, y_train_balanced)\n",
        "\n",
        "# Step 3: Make Predictions on Test Data\n",
        "lr_predictions = lr_model.predict(X_test)\n",
        "\n",
        "# Step 4: Evaluate the Model\n",
        "mse = mean_squared_error(y_test, lr_predictions)\n",
        "mae = mean_absolute_error(y_test, lr_predictions)\n",
        "\n",
        "print(\"\\nLinear Regression Evaluation with SMOTE:\")\n",
        "print(f\"Mean Squared Error (MSE): {mse:.4f}\")\n",
        "print(f\"Mean Absolute Error (MAE): {mae:.4f}\")\n",
        "\n"
      ],
      "metadata": {
        "colab": {
          "base_uri": "https://localhost:8080/"
        },
        "id": "aYjRUWhp3TWx",
        "outputId": "0b5ea45f-447a-4d79-c48c-d1d7db03f1f4"
      },
      "execution_count": null,
      "outputs": [
        {
          "output_type": "stream",
          "name": "stdout",
          "text": [
            "Applying SMOTE to balance the dataset...\n",
            "Balanced Class Distribution: {0: 418, 1: 418}\n",
            "\n",
            "Linear Regression Evaluation with SMOTE:\n",
            "Mean Squared Error (MSE): 0.1110\n",
            "Mean Absolute Error (MAE): 0.2704\n"
          ]
        }
      ]
    },
    {
      "cell_type": "markdown",
      "source": [
        "linear smote tuning with grid search"
      ],
      "metadata": {
        "id": "KP_MtOq8EtCj"
      }
    },
    {
      "cell_type": "code",
      "source": [
        "from sklearn.linear_model import LinearRegression\n",
        "from imblearn.over_sampling import SMOTE\n",
        "from sklearn.preprocessing import StandardScaler, PolynomialFeatures\n",
        "from sklearn.pipeline import Pipeline\n",
        "from sklearn.model_selection import GridSearchCV\n",
        "from sklearn.metrics import mean_squared_error, mean_absolute_error\n",
        "import pandas as pd\n",
        "\n",
        "# Apply SMOTE to balance the training set\n",
        "print(\"Applying SMOTE to balance the dataset...\")\n",
        "smote = SMOTE(random_state=42)\n",
        "X_train_balanced, y_train_balanced = smote.fit_resample(X_train, y_train)\n",
        "\n",
        "# Check the new class distribution\n",
        "unique, counts = np.unique(y_train_balanced, return_counts=True)\n",
        "print(f\"Balanced Class Distribution: {dict(zip(unique, counts))}\")\n",
        "\n",
        "# Step 1: Define a Pipeline for Linear Regression\n",
        "pipeline = Pipeline([\n",
        "    ('scaler', StandardScaler()),  # Feature scaling\n",
        "    ('poly', PolynomialFeatures()),  # Polynomial features\n",
        "    ('linear', LinearRegression())  # Linear regression model\n",
        "])\n",
        "\n",
        "# Step 2: Define the hyperparameter grid\n",
        "param_grid = {\n",
        "    'poly__degree': [1, 2, 3],  # Degree of polynomial features\n",
        "    'poly__include_bias': [True, False],  # Include bias term in polynomial features\n",
        "    'linear__fit_intercept': [True, False],  # Whether to fit the intercept\n",
        "}\n",
        "\n",
        "# Step 3: Perform Grid Search with Cross-Validation\n",
        "grid_search = GridSearchCV(\n",
        "    estimator=pipeline,\n",
        "    param_grid=param_grid,\n",
        "    cv=5,  # 5-fold cross-validation\n",
        "    scoring='neg_mean_squared_error',  # Scoring based on negative MSE\n",
        "    verbose=2,\n",
        "    n_jobs=-1\n",
        ")\n",
        "grid_search.fit(X_train_balanced, y_train_balanced)\n",
        "\n",
        "# Step 4: Extract the best parameters and model\n",
        "best_pipeline = grid_search.best_estimator_\n",
        "best_params = grid_search.best_params_\n",
        "print(\"\\nBest Parameters for Linear Regression Pipeline:\")\n",
        "print(best_params)\n",
        "\n",
        "# Step 5: Evaluate the best model on the test set\n",
        "linear_predictions = best_pipeline.predict(X_test)\n",
        "\n",
        "# Compute MSE and MAE\n",
        "mse = mean_squared_error(y_test, linear_predictions)\n",
        "mae = mean_absolute_error(y_test, linear_predictions)\n",
        "print(\"\\nEvaluation Metrics for Linear Regression Pipeline:\")\n",
        "print(f\"Mean Squared Error (MSE): {mse:.4f}\")\n",
        "print(f\"Mean Absolute Error (MAE): {mae:.4f}\")\n",
        "\n",
        "# Step 6: Display Grid Search Results\n",
        "grid_search_result = pd.DataFrame(grid_search.cv_results_)[['param_poly__degree', 'param_poly__include_bias', 'param_linear__fit_intercept', 'mean_test_score']]\n",
        "grid_search_result['mean_test_score'] = -grid_search_result['mean_test_score']  # Convert negative MSE to positive\n",
        "print(\"\\nGrid Search Results:\")\n",
        "print(grid_search_result)\n"
      ],
      "metadata": {
        "colab": {
          "base_uri": "https://localhost:8080/"
        },
        "id": "4mAS3E9-E9dr",
        "outputId": "9a04c2b3-2a70-4a91-b598-e411dcf0eee3"
      },
      "execution_count": null,
      "outputs": [
        {
          "output_type": "stream",
          "name": "stdout",
          "text": [
            "Applying SMOTE to balance the dataset...\n",
            "Balanced Class Distribution: {0: 418, 1: 418}\n",
            "Fitting 5 folds for each of 12 candidates, totalling 60 fits\n",
            "\n",
            "Best Parameters for Linear Regression Pipeline:\n",
            "{'linear__fit_intercept': True, 'poly__degree': 1, 'poly__include_bias': True}\n",
            "\n",
            "Evaluation Metrics for Linear Regression Pipeline:\n",
            "Mean Squared Error (MSE): 0.1110\n",
            "Mean Absolute Error (MAE): 0.2704\n",
            "\n",
            "Grid Search Results:\n",
            "    param_poly__degree  param_poly__include_bias  param_linear__fit_intercept  \\\n",
            "0                    1                      True                         True   \n",
            "1                    1                     False                         True   \n",
            "2                    2                      True                         True   \n",
            "3                    2                     False                         True   \n",
            "4                    3                      True                         True   \n",
            "5                    3                     False                         True   \n",
            "6                    1                      True                        False   \n",
            "7                    1                     False                        False   \n",
            "8                    2                      True                        False   \n",
            "9                    2                     False                        False   \n",
            "10                   3                      True                        False   \n",
            "11                   3                     False                        False   \n",
            "\n",
            "    mean_test_score  \n",
            "0      1.081328e-01  \n",
            "1      1.081366e-01  \n",
            "2      2.001136e+21  \n",
            "3      7.077664e+20  \n",
            "4      2.660091e+01  \n",
            "5      2.662236e+01  \n",
            "6      7.220399e+24  \n",
            "7      3.386855e-01  \n",
            "8      1.315423e+23  \n",
            "9      1.316572e+24  \n",
            "10     2.664399e+01  \n",
            "11     2.664445e+01  \n"
          ]
        }
      ]
    },
    {
      "cell_type": "markdown",
      "source": [
        "linear smote tuning with random search"
      ],
      "metadata": {
        "id": "HnsqmiWFE517"
      }
    },
    {
      "cell_type": "code",
      "source": [
        "from sklearn.linear_model import LinearRegression\n",
        "from imblearn.over_sampling import SMOTE\n",
        "from sklearn.preprocessing import StandardScaler, PolynomialFeatures\n",
        "from sklearn.pipeline import Pipeline\n",
        "from sklearn.model_selection import RandomizedSearchCV\n",
        "from sklearn.metrics import mean_squared_error, mean_absolute_error\n",
        "import pandas as pd\n",
        "\n",
        "\n",
        "# Apply SMOTE to balance the training set\n",
        "print(\"Applying SMOTE to balance the dataset...\")\n",
        "smote = SMOTE(random_state=42)\n",
        "X_train_balanced, y_train_balanced = smote.fit_resample(X_train, y_train)\n",
        "\n",
        "# Check the new class distribution\n",
        "unique, counts = np.unique(y_train_balanced, return_counts=True)\n",
        "print(f\"Balanced Class Distribution: {dict(zip(unique, counts))}\")\n",
        "\n",
        "# Step 1: Define a Pipeline for Linear Regression\n",
        "pipeline = Pipeline([\n",
        "    ('scaler', StandardScaler()),  # Feature scaling\n",
        "    ('poly', PolynomialFeatures()),  # Polynomial features\n",
        "    ('linear', LinearRegression())  # Linear regression model\n",
        "])\n",
        "\n",
        "# Step 2: Define the hyperparameter grid\n",
        "param_dist = {\n",
        "    'poly__degree': [1, 2, 3],  # Degree of polynomial features\n",
        "    'poly__include_bias': [True, False],  # Include bias term in polynomial features\n",
        "    'linear__fit_intercept': [True, False],  # Whether to fit the intercept\n",
        "}\n",
        "\n",
        "# Step 3: Perform Randomized Search with Cross-Validation\n",
        "random_search = RandomizedSearchCV(\n",
        "    estimator=pipeline,\n",
        "    param_distributions=param_dist,\n",
        "    n_iter=100,  # Number of parameter combinations to try\n",
        "    cv=5,  # 5-fold cross-validation\n",
        "    scoring='neg_mean_squared_error',  # Scoring based on negative MSE\n",
        "    verbose=2,\n",
        "    random_state=42,\n",
        "    n_jobs=-1\n",
        ")\n",
        "random_search.fit(X_train_balanced, y_train_balanced)\n",
        "\n",
        "# Step 4: Extract the best parameters and model\n",
        "best_pipeline = random_search.best_estimator_\n",
        "best_params = random_search.best_params_\n",
        "print(\"\\nBest Parameters for Linear Regression Pipeline:\")\n",
        "print(best_params)\n",
        "\n",
        "# Step 5: Evaluate the best model on the test set\n",
        "linear_predictions = best_pipeline.predict(X_test)\n",
        "\n",
        "# Compute MSE and MAE\n",
        "mse = mean_squared_error(y_test, linear_predictions)\n",
        "mae = mean_absolute_error(y_test, linear_predictions)\n",
        "print(\"\\nEvaluation Metrics for Linear Regression Pipeline:\")\n",
        "print(f\"Mean Squared Error (MSE): {mse:.4f}\")\n",
        "print(f\"Mean Absolute Error (MAE): {mae:.4f}\")\n",
        "\n",
        "# Step 6: Display Random Search Results\n",
        "random_search_result = pd.DataFrame(random_search.cv_results_)[['param_poly__degree', 'param_poly__include_bias', 'param_linear__fit_intercept', 'mean_test_score']]\n",
        "random_search_result['mean_test_score'] = -random_search_result['mean_test_score']  # Convert negative MS\n"
      ],
      "metadata": {
        "colab": {
          "base_uri": "https://localhost:8080/"
        },
        "id": "TO2PMZ83E8X9",
        "outputId": "8c25abd9-dc66-4524-8823-ddd03b58edd5"
      },
      "execution_count": null,
      "outputs": [
        {
          "output_type": "stream",
          "name": "stdout",
          "text": [
            "Applying SMOTE to balance the dataset...\n",
            "Balanced Class Distribution: {0: 418, 1: 418}\n",
            "Fitting 5 folds for each of 12 candidates, totalling 60 fits\n"
          ]
        },
        {
          "output_type": "stream",
          "name": "stderr",
          "text": [
            "/usr/local/lib/python3.10/dist-packages/sklearn/model_selection/_search.py:320: UserWarning: The total space of parameters 12 is smaller than n_iter=100. Running 12 iterations. For exhaustive searches, use GridSearchCV.\n",
            "  warnings.warn(\n"
          ]
        },
        {
          "output_type": "stream",
          "name": "stdout",
          "text": [
            "\n",
            "Best Parameters for Linear Regression Pipeline:\n",
            "{'poly__include_bias': True, 'poly__degree': 1, 'linear__fit_intercept': True}\n",
            "\n",
            "Evaluation Metrics for Linear Regression Pipeline:\n",
            "Mean Squared Error (MSE): 0.1110\n",
            "Mean Absolute Error (MAE): 0.2704\n"
          ]
        }
      ]
    },
    {
      "cell_type": "markdown",
      "source": [
        "For Visualization, metrics data is collected from two files and inputed in the code. the files are (ML_ProjectModels1 and ML_ProjectModels2-Current File)"
      ],
      "metadata": {
        "id": "4dDdH6nI0nis"
      }
    },
    {
      "cell_type": "markdown",
      "source": [
        "Visualization for Baseline Models without and with smote\n",
        "\n",
        "\n",
        "\n",
        "\n",
        "\n",
        "\n",
        "\n"
      ],
      "metadata": {
        "id": "0WiIOUUgvBtc"
      }
    },
    {
      "cell_type": "code",
      "source": [
        "import matplotlib.pyplot as plt\n",
        "import numpy as np\n",
        "\n",
        "# Data\n",
        "models = [\n",
        "    'SVM', 'SVM+SMOTE', 'Perceptron', 'Perceptron+SMOTE',\n",
        "    'Decision Tree', 'Decision Tree+SMOTE', 'Random Forest', 'Random Forest+SMOTE',\n",
        "    'XGBoost', 'XGBoost+SMOTE', 'Naïve Bayes', 'Naïve Bayes+SMOTE'\n",
        "]\n",
        "accuracy = [0.9438, 0.8979, 0.9081, 0.7908, 0.8826, 0.8775, 0.9336, 0.9081, 0.92, 0.92, 0.49, 0.51]\n",
        "precision = [0.7142, 0.3125, 0.1666, 0.2244, 0.2857, 0.3214, 0.6000, 0.3750, 0.45, 0.47, 0.12, 0.13]\n",
        "recall = [0.3571, 0.3571, 0.0714, 0.7857, 0.4285, 0.6428, 0.2142, 0.4285, 0.36, 0.50, 1.00, 1.00]\n",
        "f1score = [0.4761, 0.3333, 0.1000, 0.3492, 0.3428, 0.4285, 0.3157, 0.4000, 0.40, 0.48, 0.22, 0.22]\n",
        "\n",
        "x = np.arange(len(models))\n",
        "width = 0.15\n",
        "\n",
        "fig, ax = plt.subplots(figsize=(12, 8))\n",
        "\n",
        "# Plotting the bars\n",
        "ax.bar(x - 1.5*width, accuracy, width, label='Accuracy', color='lightblue')\n",
        "ax.bar(x - 0.5*width, precision, width, label='Precision', color='orange')\n",
        "ax.bar(x + 0.5*width, recall, width, label='Recall', color='green')\n",
        "ax.bar(x + 1.5*width, f1score, width, label='F1-Score', color='purple')\n",
        "\n",
        "# Adding labels and title\n",
        "ax.set_xlabel('Models')\n",
        "ax.set_ylabel('Scores')\n",
        "ax.set_title('Comparison of Model Metrics')\n",
        "ax.set_xticks(x)\n",
        "ax.set_xticklabels(models, rotation=45)\n",
        "ax.legend()\n",
        "\n",
        "# Display the graph\n",
        "plt.tight_layout()\n",
        "plt.show()\n"
      ],
      "metadata": {
        "colab": {
          "base_uri": "https://localhost:8080/",
          "height": 807
        },
        "id": "_qmFDSgjvAxW",
        "outputId": "914626b2-ea23-41ea-a509-9c58ed2d3e27"
      },
      "execution_count": null,
      "outputs": [
        {
          "output_type": "display_data",
          "data": {
            "text/plain": [
              "<Figure size 1200x800 with 1 Axes>"
            ],
            "image/png": "[encoded data removed]"
          },
          "metadata": {}
        }
      ]
    },
    {
      "cell_type": "markdown",
      "source": [
        "Visualization for Tuned Models without and with smote using GridSearch\n"
      ],
      "metadata": {
        "id": "ZNykpwg7w_JE"
      }
    },
    {
      "cell_type": "code",
      "source": [
        "import matplotlib.pyplot as plt\n",
        "import numpy as np\n",
        "\n",
        "# Data for Tuned Models\n",
        "models_tuned = [\n",
        "    'SVM', 'SVM+SMOTE', 'Perceptron', 'Perceptron+SMOTE',\n",
        "    'Decision Tree', 'Decision Tree+SMOTE', 'Random Forest', 'Random Forest+SMOTE',\n",
        "    'XGBoost', 'XGBoost+SMOTE', 'Naïve Bayes', 'Naïve Bayes+SMOTE'\n",
        "]\n",
        "accuracy_tuned = [0.9030, 0.8877, 0.8979, 0.9234, 0.9285, 0.8928, 0.9387, 0.8928, 0.92, 0.91, 0.49, 0.52]\n",
        "precision_tuned = [0.2222, 0.2142, 0.1250, 0.4000, 0.5000, 0.3478, 0.7500, 0.3157, 0.44, 0.39, 0.12, 0.13]\n",
        "recall_tuned = [0.1428, 0.2142, 0.0714, 0.1428, 0.2857, 0.5714, 0.2142, 0.4285, 0.29, 0.50, 1.00, 1.00]\n",
        "f1score_tuned = [0.1739, 0.2142, 0.0909, 0.2105, 0.3636, 0.4324, 0.3333, 0.3636, 0.35, 0.44, 0.22, 0.23]\n",
        "\n",
        "x_tuned = np.arange(len(models_tuned))\n",
        "width = 0.15\n",
        "\n",
        "fig, ax = plt.subplots(figsize=(12, 8))\n",
        "\n",
        "# Plotting the bars\n",
        "ax.bar(x_tuned - 1.5*width, accuracy_tuned, width, label='Accuracy', color='lightblue')\n",
        "ax.bar(x_tuned - 0.5*width, precision_tuned, width, label='Precision', color='orange')\n",
        "ax.bar(x_tuned + 0.5*width, recall_tuned, width, label='Recall', color='green')\n",
        "ax.bar(x_tuned + 1.5*width, f1score_tuned, width, label='F1-Score', color='purple')\n",
        "\n",
        "# Adding labels and title\n",
        "ax.set_xlabel('Models')\n",
        "ax.set_ylabel('Scores')\n",
        "ax.set_title('Comparison of Tuned Model Metrics')\n",
        "ax.set_xticks(x_tuned)\n",
        "ax.set_xticklabels(models_tuned, rotation=45)\n",
        "ax.legend()\n",
        "\n",
        "# Display the graph\n",
        "plt.tight_layout()\n",
        "plt.show()\n"
      ],
      "metadata": {
        "colab": {
          "base_uri": "https://localhost:8080/",
          "height": 807
        },
        "id": "1avVpeKwxJ3s",
        "outputId": "dfa7ac0d-3f89-47eb-9b64-0adaf7d52f72"
      },
      "execution_count": null,
      "outputs": [
        {
          "output_type": "display_data",
          "data": {
            "text/plain": [
              "<Figure size 1200x800 with 1 Axes>"
            ],
            "image/png": "[encoded data removed]"
          },
          "metadata": {}
        }
      ]
    },
    {
      "cell_type": "markdown",
      "source": [
        "Visualization for Tuned Models without and with smote using RandomSearch\n"
      ],
      "metadata": {
        "id": "17eaNTFWxFCG"
      }
    },
    {
      "cell_type": "code",
      "source": [
        "import matplotlib.pyplot as plt\n",
        "import numpy as np\n",
        "\n",
        "# Data for the new set of models\n",
        "models_new = [\n",
        "    'SVM', 'SVM+SMOTE', 'Perceptron', 'Perceptron+SMOTE',\n",
        "    'Decision Tree', 'Decision Tree+SMOTE', 'Random Forest', 'Random Forest+SMOTE',\n",
        "    'XGBoost', 'XGBoost+SMOTE', 'Naïve Bayes', 'Naïve Bayes+SMOTE'\n",
        "]\n",
        "accuracy_new = [0.9030, 0.8877, 0.8979, 0.9234, 0.9285, 0.8775, 0.9336, 0.9030, 0.93, 0.91, 0.49, 0.52]\n",
        "precision_new = [0.2222, 0.2142, 0.125, 0.4000, 0.5000, 0.3214, 0.6000, 0.3684, 0.50, 0.39, 0.12, 0.13]\n",
        "recall_new = [0.1428, 0.2142, 0.0714, 0.1428, 0.2857, 0.6428, 0.2142, 0.5000, 0.07, 0.50, 1.00, 1.00]\n",
        "f1score_new = [0.1739, 0.2142, 0.0909, 0.2105, 0.3636, 0.4285, 0.3157, 0.4242, 0.12, 0.44, 0.22, 0.23]\n",
        "\n",
        "x_new = np.arange(len(models_new))\n",
        "width = 0.15\n",
        "\n",
        "fig, ax = plt.subplots(figsize=(12, 8))\n",
        "\n",
        "# Plotting the bars\n",
        "ax.bar(x_new - 1.5*width, accuracy_new, width, label='Accuracy', color='lightblue')\n",
        "ax.bar(x_new - 0.5*width, precision_new, width, label='Precision', color='orange')\n",
        "ax.bar(x_new + 0.5*width, recall_new, width, label='Recall', color='green')\n",
        "ax.bar(x_new + 1.5*width, f1score_new, width, label='F1-Score', color='purple')\n",
        "\n",
        "# Adding labels and title\n",
        "ax.set_xlabel('Models')\n",
        "ax.set_ylabel('Scores')\n",
        "ax.set_title('Comparison of Model Metrics')\n",
        "ax.set_xticks(x_new)\n",
        "ax.set_xticklabels(models_new, rotation=45)\n",
        "ax.legend()\n",
        "\n",
        "# Display the graph\n",
        "plt.tight_layout()\n",
        "plt.show()\n"
      ],
      "metadata": {
        "colab": {
          "base_uri": "https://localhost:8080/",
          "height": 807
        },
        "id": "3nYUtOyqxJbs",
        "outputId": "ced1a3f1-5cdb-4dcb-d5fb-fe066c044f3f"
      },
      "execution_count": null,
      "outputs": [
        {
          "output_type": "display_data",
          "data": {
            "text/plain": [
              "<Figure size 1200x800 with 1 Axes>"
            ],
            "image/png": "[encoded data removed]"
          },
          "metadata": {}
        }
      ]
    }
  ]
}